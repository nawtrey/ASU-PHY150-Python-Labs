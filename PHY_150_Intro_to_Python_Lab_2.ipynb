{
 "cells": [
  {
   "cell_type": "markdown",
   "id": "80d7faec-9e1a-44b4-bf0e-3884a77ae186",
   "metadata": {},
   "source": [
    "**Sections:**\n",
    "- **Loops:** motivate by showing a repetative task, use indices and names\n",
    "- **Functions:** defining, calling, call signature, importing from other libraries\n",
    "- **Plotting:** projectile motion problem, \n",
    "- **Classes:** Activity: Make the same class as in Python Lab 1 using classes instead"
   ]
  },
  {
   "cell_type": "markdown",
   "id": "ea24084d-1489-49ce-87a0-013a29bdbbc8",
   "metadata": {},
   "source": [
    "# PHY 150 Python Lab 2: Loops, Functions, Plotting, and Classes"
   ]
  },
  {
   "cell_type": "markdown",
   "id": "bc16ad3d-20f2-491a-b0a1-dedea20b1259",
   "metadata": {},
   "source": [
    "If you want to review the content from Lab 1, you can view the entire notebook on [**GitHub**](https://github.com/nawtrey/ASU-PHY150-Python-Labs/blob/main/PHY_150_Intro_to_Python_Lab_1.ipynb)."
   ]
  },
  {
   "cell_type": "markdown",
   "id": "1fe5a192-5dce-42ca-9b55-6eed0ad884bb",
   "metadata": {},
   "source": [
    "## Lab Contents:\n",
    "1. Loops\n",
    "2. Functions\n",
    "3. Plotting\n",
    "4. Classes\n",
    "5. Challenge Problems"
   ]
  },
  {
   "cell_type": "markdown",
   "id": "a8f8af9c-e22e-4c0a-885c-deaa372315aa",
   "metadata": {},
   "source": [
    "# Python Loops"
   ]
  },
  {
   "cell_type": "markdown",
   "id": "5eb9017f-cb0b-458e-9270-fab6f9f62b31",
   "metadata": {},
   "source": [
    "## What is a `for` loop?\n",
    "\n",
    "A `for` loop in Python is used to _iterate_ over a sequence of items — such as a `list`, a `string`, a `tuple`, or anything that's _iterable_. It allows you to perform an operation _repeatedly_, once for each item in that sequence. "
   ]
  },
  {
   "cell_type": "code",
   "execution_count": 8,
   "id": "449db1cf-c14a-49d7-a497-8937841a2ee3",
   "metadata": {},
   "outputs": [
    {
     "name": "stdout",
     "output_type": "stream",
     "text": [
      "Tuple example: 1\n",
      "Tuple example: 2\n",
      "Tuple example: 3\n",
      "Tuple example: 4\n",
      "String example: a\n",
      "String example: b\n",
      "String example: c\n",
      "String example: d\n",
      "List example: 2\n",
      "List example: 3\n",
      "List example: 5\n",
      "List example: 8\n"
     ]
    }
   ],
   "source": [
    "# iterating over elements in a tuple\n",
    "for number in (1, 2, 3, 4):\n",
    "    print(\"Tuple example:\", number)\n",
    "\n",
    "# iterating over characters in a string\n",
    "for letter in \"abcd\":\n",
    "    print(\"String example:\", letter)\n",
    "\n",
    "# iterating over elements in a list\n",
    "for element in [2, 3, 5, 8]:\n",
    "    print(\"List example:\", element)"
   ]
  },
  {
   "cell_type": "markdown",
   "id": "bf6466f5-b4f2-4a0b-b152-9c34e753a462",
   "metadata": {},
   "source": [
    "## Code Blocks"
   ]
  },
  {
   "cell_type": "markdown",
   "id": "6aa0655d-9e4e-4922-bab4-39b28cb88dfb",
   "metadata": {},
   "source": [
    "In Python, **code blocks** are used to group together statements that should be executed as part of a loop, function, or condition. Unlike many other programming languages, Python _does not_ use curly braces (`{}`) to define blocks. Instead, Python relies on _indentation_.\n",
    "\n",
    "In a `for` loop, everything in the **code block** is executed for each iteration. \n",
    "\n",
    "```python\n",
    "for item in sequence:\n",
    "    # This is a code block\n",
    "    # All of this will run once for each item in the sequence\n",
    "    print(item)\n",
    "    print(\"Still inside the loop\")\n",
    "\n",
    "# This is outside the loop\n",
    "print(\"Done!\")\n",
    "```"
   ]
  },
  {
   "cell_type": "markdown",
   "id": "dc446590-9942-4c4a-be6f-bbd3b222b801",
   "metadata": {},
   "source": [
    "<div style=\"border-left: 5px solid goldenrod; padding: 10px; background-color: #fff8dc;\">\n",
    "  <strong>Note:</strong> Any code that is indented under the <code>for</code> loop line is part of the loop’s block. As soon as you stop indenting, you’re outside the loop. This also applies to conditional statements and functions (which will be addressed below).\n",
    "</div>"
   ]
  },
  {
   "cell_type": "markdown",
   "id": "911e4c3a-534c-432f-9098-c598ac064154",
   "metadata": {},
   "source": [
    "A **common mistake** in Python is misaligned or missing indentations - \n",
    "\n",
    "```python\n",
    "for i in range(3):\n",
    "print(i)   # ❌ This will cause an IndentationError\n",
    "```\n",
    "\n",
    "The code block _must be indented consistently_. Most code editors (such as Jupyter) automatically use 4 spaces per indentation level."
   ]
  },
  {
   "cell_type": "markdown",
   "id": "bfd352fc-b14f-47bd-950e-40d73277f2e7",
   "metadata": {},
   "source": [
    "### Why use a `for` loop?"
   ]
  },
  {
   "cell_type": "markdown",
   "id": "1bfcf6f4-abb1-4b2b-ada9-c8cebcb1325c",
   "metadata": {},
   "source": [
    "`For` loops are great for performing repetative tasks and help keep your code simple and easy to read. \n",
    "\n",
    "For example, say we had some list containing various alphabetic characters -"
   ]
  },
  {
   "cell_type": "code",
   "execution_count": 8,
   "id": "3333c7d4-059c-4b5c-a350-d3cdbf15be4c",
   "metadata": {},
   "outputs": [],
   "source": [
    "my_list = [\"Alpha\", \"Beta\", \"Gamma\"]"
   ]
  },
  {
   "cell_type": "markdown",
   "id": "e3b4a580-d757-40c6-bb0c-edb6b115ec5c",
   "metadata": {},
   "source": [
    "What if we wanted to add a bunch of _new_ characters? We could _append_ them one by one -"
   ]
  },
  {
   "cell_type": "code",
   "execution_count": 9,
   "id": "5526205d-077f-40ec-b7fd-2a91b95b8177",
   "metadata": {},
   "outputs": [
    {
     "name": "stdout",
     "output_type": "stream",
     "text": [
      "['Alpha', 'Beta', 'Gamma', 'Delta', 'Epsilon', 'Zeta', 'Theta']\n"
     ]
    }
   ],
   "source": [
    "my_list.append(\"Delta\")\n",
    "my_list.append(\"Epsilon\")\n",
    "my_list.append(\"Zeta\")\n",
    "my_list.append(\"Theta\")\n",
    "print(my_list)"
   ]
  },
  {
   "cell_type": "markdown",
   "id": "59876fe5-9b6b-4c65-81db-70c227ee6186",
   "metadata": {},
   "source": [
    "Alternatively, we could append them in a for loop - "
   ]
  },
  {
   "cell_type": "code",
   "execution_count": 10,
   "id": "597c1277-f190-4ce0-b26b-8c33e9fbb28d",
   "metadata": {},
   "outputs": [
    {
     "name": "stdout",
     "output_type": "stream",
     "text": [
      "['Alpha', 'Beta', 'Gamma', 'Delta', 'Epsilon', 'Zeta', 'Theta']\n"
     ]
    }
   ],
   "source": [
    "my_list = [\"Alpha\", \"Beta\", \"Gamma\"]\n",
    "\n",
    "for element in (\"Delta\", \"Epsilon\", \"Zeta\", \"Theta\"):\n",
    "    my_list.append(element)\n",
    "\n",
    "print(my_list)"
   ]
  },
  {
   "cell_type": "markdown",
   "id": "0a2b4674-bbfa-4e7d-a3e9-8a25b78728d4",
   "metadata": {},
   "source": [
    "### Looping Over Indices"
   ]
  },
  {
   "cell_type": "markdown",
   "id": "6d13a9ab-fd6a-462a-baef-96943324b64b",
   "metadata": {},
   "source": [
    "Python has built-in functions that allow you to iterate over _indices_ instead of _elements_. An **index** is the position of an item in a _sequence_ like a `list`, `string`, or `tuple`. We have already used indices in Lab 1 but now you know what their proper name is. \n",
    "\n",
    "But why would we want to loop over indices instead of the elements in the list directly?\n",
    "\n",
    "You loop over **indices** when:\n",
    "- You want to access multiple lists in a single loop\n",
    "- You need to modify elements in place\n",
    "- You want to use the index number for labeling, math, or control\n",
    "\n",
    "For example, say we have a list of planet names and another list of their distances.\n",
    "\n",
    "```python\n",
    "planets = [\"Mercury\", \"Venus\", \"Earth\", \"Mars\"]\n",
    "distances = [57.9e6, 108.2e6, 149.6e6, 227.9e6]  # km\n",
    "```\n",
    "\n",
    "Both lists have four elements, so if we create a `for` loop that performs four iterations we can access the elements in _both_ lists just by using their _indices_ (i.e., 0, 1, 2, 3). To do this we can use the Python built-in functions `range()` and `len()`. `len(my_list)` will output the integer number of elements in `my_list`, while `range()` will provide a new index for each iteration starting at `0` and ending with the input number (i.e., `4`).\n",
    "\n",
    "Let's start by defining our lists and trying out `len()` - "
   ]
  },
  {
   "cell_type": "code",
   "execution_count": 13,
   "id": "b5136c76-8a30-4bb3-8014-bf3afe3d8f25",
   "metadata": {},
   "outputs": [
    {
     "name": "stdout",
     "output_type": "stream",
     "text": [
      "Number of elements in `planets`: 4\n",
      "Number of elements in `distances`: 4\n"
     ]
    }
   ],
   "source": [
    "planets = [\"Mercury\", \"Venus\", \"Earth\", \"Mars\"]\n",
    "distances = [57.9e6, 108.2e6, 149.6e6, 227.9e6]  # km\n",
    "\n",
    "print(\"Number of elements in `planets`:\", len(planets))\n",
    "print(\"Number of elements in `distances`:\", len(distances))"
   ]
  },
  {
   "cell_type": "markdown",
   "id": "bb1cbdf4-3de2-435f-b58c-43a294d665b3",
   "metadata": {},
   "source": [
    "Now let's try out the `range()` function, using the length of `planets` - "
   ]
  },
  {
   "cell_type": "code",
   "execution_count": 14,
   "id": "871bb5f1-555a-4998-b3af-8141b0798e8e",
   "metadata": {},
   "outputs": [
    {
     "name": "stdout",
     "output_type": "stream",
     "text": [
      "0\n",
      "1\n",
      "2\n",
      "3\n"
     ]
    }
   ],
   "source": [
    "# we will use `index` to illustrate this example, but it \n",
    "# is common practice to use single-letter names like `i`\n",
    "for index in range(len(planets)):\n",
    "    print(index)"
   ]
  },
  {
   "cell_type": "markdown",
   "id": "3651d7e4-613a-439c-9b34-d822cce46774",
   "metadata": {},
   "source": [
    "Finally, let's try to print the elements of both lists using their indices. "
   ]
  },
  {
   "cell_type": "code",
   "execution_count": 19,
   "id": "cab92eaf-5581-498b-9d49-8bef32c643ed",
   "metadata": {},
   "outputs": [
    {
     "name": "stdout",
     "output_type": "stream",
     "text": [
      "0 Mercury 57900000.0\n",
      "1 Venus 108200000.0\n",
      "2 Earth 149600000.0\n",
      "3 Mars 227900000.0\n"
     ]
    }
   ],
   "source": [
    "# here we will use `i` since it is a very common choice\n",
    "# for the index name\n",
    "for i in range(len(planets)):\n",
    "    # retrieve the elements of the list using `my_list[i]`\n",
    "    print(i, planets[i], distances[i])"
   ]
  },
  {
   "cell_type": "markdown",
   "id": "7e75ec6f-5b14-48e5-9449-fa2cc5350457",
   "metadata": {},
   "source": [
    "Another built-in Python function worth mentioning is the `enumerate()` function. This function takes a sequence (like a `list`, `tuple`, or `dict`) and creates an index for them as well. \n",
    "\n",
    "Let's print the same information using `enumerate()` instead of `len()` and `range()` - "
   ]
  },
  {
   "cell_type": "code",
   "execution_count": 20,
   "id": "5d343ff4-fbcc-4a0c-b8a9-61bde764908f",
   "metadata": {},
   "outputs": [
    {
     "name": "stdout",
     "output_type": "stream",
     "text": [
      "0 Mercury 57900000.0\n",
      "1 Venus 108200000.0\n",
      "2 Earth 149600000.0\n",
      "3 Mars 227900000.0\n"
     ]
    }
   ],
   "source": [
    "# using `enumerate`, we have to assign both the\n",
    "# index name `i` and the element name `planet`\n",
    "for i, planet in enumerate(planets):\n",
    "    # since each element is already being assigned\n",
    "    # to `planet`, we no longer need to retrieve\n",
    "    # the planet name using the index. But since\n",
    "    # we are not iterating over the distances, \n",
    "    # we still have to retrieve each distance\n",
    "    # using the index `i`\n",
    "    print(i, planet, distances[i])"
   ]
  },
  {
   "cell_type": "markdown",
   "id": "7189b824-8d83-46c6-b357-d6e13eeaeeb4",
   "metadata": {},
   "source": [
    "#### When to Use a `for` Loop \n",
    "\n",
    "_Use_ a `for` loop when:\n",
    "- You want to go through every item in a list, tuple, string, or dictionary.\n",
    "- You want to repeat an action a known number of times.\n",
    "- You want to collect results, such as computing values and storing them in a list.\n",
    "- You're working with arrays, simulation steps, or multiple data points.\n",
    "\n",
    "#### When **Not** to Use a `for` Loop\n",
    "\n",
    "_Avoid_ `for` loops when:\n",
    "- You’re modifying a list while iterating over it — this can cause bugs or unexpected behavior.\n",
    "- You're only trying to repeat something until a condition is met — there are special loops called `while` loops for that instead."
   ]
  },
  {
   "cell_type": "markdown",
   "id": "2281840e-78a4-4ba5-8568-20458a8e81bf",
   "metadata": {},
   "source": [
    "## Try it Yourself: For Loop Edition"
   ]
  },
  {
   "cell_type": "code",
   "execution_count": null,
   "id": "c57e29ad-0bff-4605-9064-ad84783fef7b",
   "metadata": {},
   "outputs": [],
   "source": []
  },
  {
   "cell_type": "code",
   "execution_count": null,
   "id": "943f6706-4d26-402d-822f-e460402b0ff2",
   "metadata": {},
   "outputs": [],
   "source": []
  },
  {
   "cell_type": "code",
   "execution_count": null,
   "id": "41c47879-4158-46c6-818f-fd687ce6df4a",
   "metadata": {},
   "outputs": [],
   "source": []
  },
  {
   "cell_type": "code",
   "execution_count": null,
   "id": "a9fe067f-830f-447a-9676-b216ccf3014a",
   "metadata": {},
   "outputs": [],
   "source": []
  },
  {
   "cell_type": "markdown",
   "id": "b0218259-9f25-4487-9949-38131e96dca0",
   "metadata": {},
   "source": [
    "# Functions"
   ]
  },
  {
   "cell_type": "markdown",
   "id": "b1c2b631-0644-4b22-b487-07bb53fa1d6e",
   "metadata": {},
   "source": [
    "Functions in programming serve a similar purpose as mathematical functions or operators. But more generally, a function is a user-defined object in a program that allows you to reuse code. This can be useful for tasks where you have a complicated set of commands you want to apply to a bunch of data. "
   ]
  },
  {
   "cell_type": "markdown",
   "id": "0f6afc83-a168-4f59-af13-85abd11433fe",
   "metadata": {},
   "source": [
    "### Defining a Function: Syntax"
   ]
  },
  {
   "cell_type": "markdown",
   "id": "9306fd06-5f4d-401c-9a52-8372c87ba5cb",
   "metadata": {},
   "source": [
    "In Python, a function is defined using the following structure:\n",
    "\n",
    "```python\n",
    "def FUNCTION_NAME(ARG_1, ARG_2):\n",
    "    RESULT = ARG_1 + ARG_2\n",
    "    return RESULT\n",
    "```\n",
    "\n",
    "Let's discuss some of the important elements:\n"
   ]
  },
  {
   "cell_type": "markdown",
   "id": "36228417-1910-4df5-9577-f0d8d2d3e84b",
   "metadata": {},
   "source": [
    "```python\n",
    "def simple_function(x, y):\n",
    "    if x > y:\n",
    "        return x\n",
    "    else:\n",
    "        return y\n",
    "```"
   ]
  },
  {
   "cell_type": "markdown",
   "id": "cd9b1544-44bb-4bdb-81b0-920b76bda1a6",
   "metadata": {},
   "source": [
    "# Importing Functions (i.e., Python libraries)"
   ]
  },
  {
   "cell_type": "markdown",
   "id": "fc781b48-7789-4796-ad63-c8197ddf3cdd",
   "metadata": {},
   "source": [
    "### Python Modules"
   ]
  },
  {
   "cell_type": "markdown",
   "id": "46881a05-11e7-45a0-b1d5-39e3b10ea9e2",
   "metadata": {},
   "source": [
    "### Importing \"Internal\" Libraries (i.e., Python modules)"
   ]
  },
  {
   "cell_type": "markdown",
   "id": "4f1f0310-cf30-42de-854b-01f13f9aaf41",
   "metadata": {},
   "source": [
    "Over time Python has incorporated many functions into its standard modules (the Python 3.13 Module Index can be viewed [here](https://docs.python.org/3/py-modindex.html)). These modules contain functions that you can import at any time and use at-will. For example, one of these modules, [itertools](https://docs.python.org/3/library/itertools.html), is a good module to import for doing combinatorial mathematics.\n",
    "\n",
    "You can import the module by typing\n",
    "```python\n",
    "import itertools\n",
    "```\n",
    "This will allow you to use any of the functions in `itertools` by typing `itertools.FUNCTION_NAME`.\n",
    "\n",
    "Alternatively, you can use the star/asterisk to retrive _all_ functions in the module by typing\n",
    "```python\n",
    "from itertools import *\n",
    "```\n",
    "\n",
    "This will give you access to all the available functions in that module (more specifically, it adds all the functions in the module to your namespace). Generally speaking you do not want to import any code you don't need (this can cause some issues if you're not careful), so it is generally recommended to only import the functions you need. This can be done by typing\n",
    "\n",
    "```python\n",
    "from itertools import combinations\n",
    "```"
   ]
  },
  {
   "cell_type": "code",
   "execution_count": 9,
   "id": "deb07324-7230-40b2-9072-7722ce65a22f",
   "metadata": {},
   "outputs": [
    {
     "data": {
      "text/plain": [
       "[('a', 'b'), ('a', 'c'), ('a', 'd'), ('b', 'c'), ('b', 'd'), ('c', 'd')]"
      ]
     },
     "execution_count": 9,
     "metadata": {},
     "output_type": "execute_result"
    }
   ],
   "source": [
    "from itertools import combinations\n",
    "list_of_labels = [\"a\", \"b\", \"c\", \"d\"]\n",
    "list(combinations(list_of_labels, r=2))"
   ]
  },
  {
   "cell_type": "markdown",
   "id": "78db5293-085c-4880-a226-c21c93ce06b2",
   "metadata": {},
   "source": [
    "### Importing \"External\" Libraries"
   ]
  }
 ],
 "metadata": {
  "kernelspec": {
   "display_name": "Python 3 (ipykernel)",
   "language": "python",
   "name": "python3"
  },
  "language_info": {
   "codemirror_mode": {
    "name": "ipython",
    "version": 3
   },
   "file_extension": ".py",
   "mimetype": "text/x-python",
   "name": "python",
   "nbconvert_exporter": "python",
   "pygments_lexer": "ipython3",
   "version": "3.11.11"
  }
 },
 "nbformat": 4,
 "nbformat_minor": 5
}
