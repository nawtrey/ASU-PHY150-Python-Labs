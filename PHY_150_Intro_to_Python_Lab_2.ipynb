{
 "cells": [
  {
   "cell_type": "markdown",
   "id": "80d7faec-9e1a-44b4-bf0e-3884a77ae186",
   "metadata": {},
   "source": [
    "**Lab 1 (remaining):**\n",
    "- Code comments\n",
    "- Code namespace\n",
    "- Conditional statements\n",
    "\n",
    "**Sections:**\n",
    "- Loops\n",
    "- Functions\n",
    "- Importing libraries\n",
    "- Classes (compare to dictionaries)\n",
    "\n",
    "**TODO:**\n",
    "- Tutorial needs to be more hands-on. This means giving very basic examples of things, then asking them to type (or complete) something for each item\n",
    "- Need to add problems where we provide them with code and ask them questions about what it would do\n",
    "- Need to add problems where we provide them text and they write the code that performs the given task\n",
    "- Examples should involve graphs"
   ]
  },
  {
   "cell_type": "markdown",
   "id": "7461afc3-e9fe-4fdc-888e-b353c46651f7",
   "metadata": {
    "jp-MarkdownHeadingCollapsed": true
   },
   "source": [
    "# Conditional Statements"
   ]
  },
  {
   "cell_type": "markdown",
   "id": "e35691e8-b8f4-45ef-9917-42e72d40d96d",
   "metadata": {},
   "source": [
    "A **conditional** is a way of running different blocks of code based on different circumstances. We do this by using the keywork **\"if\"**, followed by a condition. Here's an example using pseudocode (a.k.a. fake code):\n",
    "\n",
    "> **if** the temperature outside is under 50 F,\n",
    "\n",
    ">> wear a jacket\n",
    "\n",
    "> **else**\n",
    "\n",
    ">> wear a t-shirt.\n",
    "\n",
    "Here we use the work \"if\" to signal that we are about to write a condition which is temperature (< 50 F). If this condition is met (i.e. if it is actually under 50 F outside), then we do what the code under this condition tells us (i.e. wear a jacket). Otherwise, we execute the code underneath the keyword **\"else\"** which tells us what to do if no conditions are met. In this case, we'd wear a t-shirt.\n",
    "\n",
    "Run the code below to see how conditions work in Python. Try changing the temperature variable, *T*, and see what happens."
   ]
  },
  {
   "cell_type": "code",
   "execution_count": null,
   "id": "76b3d505-e7ec-4eda-9183-a044b9425881",
   "metadata": {},
   "outputs": [],
   "source": [
    "T = 51\n",
    "if T < 50:\n",
    "  print(\"wear a jacket\")\n",
    "else:\n",
    "  print(\"wear a t-shirt\")"
   ]
  },
  {
   "cell_type": "markdown",
   "id": "d182b421-6a5b-420f-a0a1-dc13fcefb1ed",
   "metadata": {},
   "source": [
    "But what if we have more than one condition? Wearing a t-shirt at T = 51 F may be a bit chilly. One thing we can do is to invoke intermediate conditions using the **else if** or **elif** keywords (both do the same thing) which are placed after the first \"if\" statement but before the last \"else\" statement.\n",
    "\n",
    "Run the code below to see an example using multiple conditions. Change the temperature variable to see if you can print all three printed statements!"
   ]
  },
  {
   "cell_type": "code",
   "execution_count": null,
   "id": "4ed933c9-48b6-4e24-b191-5a7f8304685a",
   "metadata": {},
   "outputs": [],
   "source": [
    "T = 51\n",
    "if T < 50:\n",
    "  print(\"wear a jacket\")\n",
    "elif T < 60:\n",
    "  print(\"wear a sweatshirt\")\n",
    "else:\n",
    "  print(\"wear a t-shirt\")"
   ]
  },
  {
   "cell_type": "markdown",
   "id": "4ec86d81-4cff-47b8-861e-56841d0e439b",
   "metadata": {},
   "source": [
    "Note that Python will check each condition from top to bottom. Technically, if temperature is low (e.g. T = 0 F), then the statement T < 50 and T < 70 are both true. However, the code above will print \"wear a jacket\" because the T < 50 condition was presented first.\n",
    "\n",
    "What if we want to present multiple conditions at once? We can use the **and** operator which checks for another condition. If both of the conditions connected by an \"and\" is true, then the entire statement evaluates as true. For example,"
   ]
  },
  {
   "cell_type": "code",
   "execution_count": null,
   "id": "101fd9ef-0495-45cf-8a59-99486c99b1cb",
   "metadata": {},
   "outputs": [],
   "source": [
    "T = 51\n",
    "if T > 0 and T < 100:\n",
    "  print(\"this is fine\")\n",
    "else:\n",
    "  print(\"the temperature is too extreme\")"
   ]
  },
  {
   "cell_type": "markdown",
   "id": "61d13534-44e2-43bd-83c2-40578c477257",
   "metadata": {},
   "source": [
    "We can also use the keyword **\"or\"** to connect multiple conditions. The syntax is the same as \"and\", but here's the important difference: the entire statement evaluates as true if at least ONE condition evaluates as true. In other words, you only need to meet one of multiple conditions to satisfy the statement.\n",
    "\n",
    "Run the following code below and see what happens."
   ]
  },
  {
   "cell_type": "code",
   "execution_count": null,
   "id": "cfcbd13a-3b57-4061-bc77-1b467981bc23",
   "metadata": {},
   "outputs": [],
   "source": [
    "T = 1000000\n",
    "if T > 0 or T < 100:\n",
    "  print(\"this is fine\")\n",
    "else:\n",
    "  print(\"the temperature is too extreme\")"
   ]
  },
  {
   "cell_type": "markdown",
   "id": "718d8ad4-6d36-455c-b630-3b88530cb6eb",
   "metadata": {},
   "source": [
    "The temperature over 10 times hotter than the surface of the sun! Even though \"T < 100\" is not met, the statement prints as true because \"T > 0\" is met. It's important to distinguish between \"or\" vs. \"and\", because they don't have the same functions."
   ]
  },
  {
   "cell_type": "markdown",
   "id": "a8f8af9c-e22e-4c0a-885c-deaa372315aa",
   "metadata": {
    "jp-MarkdownHeadingCollapsed": true
   },
   "source": [
    "# Loops (keep if possible, might be better for Lab 2)"
   ]
  },
  {
   "cell_type": "markdown",
   "id": "f41cff5e-c7ed-4076-aec6-06cceba3aa0b",
   "metadata": {},
   "source": [
    "We use \"loops\" whenever we want to automate things (a.k.a. do something repeatedly). There are multiple keywords we can use to invoke loops, but today we'll learn about one kind of loop: the **for** loop.\n",
    "\n",
    "Suppose we want to say \"Hi\" to multiple classmates by name. Our logic should look something like this:\n",
    "\n",
    "> **for** every student in the class\n",
    ">> say \"Hi + (their name)\"\n",
    "\n",
    "Below is an example in Python."
   ]
  },
  {
   "cell_type": "code",
   "execution_count": null,
   "id": "35455d7a-0b34-47d6-b677-7ca5e0a1f7f4",
   "metadata": {},
   "outputs": [],
   "source": [
    "classmates = [\"Aang\", \"Katara\", \"Sokka\", \"Toph\"]  # this is a list of your classmates\n",
    "\n",
    "for student in classmates:\n",
    "  print(\"Hi\", student)"
   ]
  },
  {
   "cell_type": "markdown",
   "id": "0be9c180-990c-4545-a355-6c5e65909d68",
   "metadata": {},
   "source": [
    "A lot is going on here, so let's break things down bit by bit.\n",
    "\n",
    "We invoke the keyword **for** followed by an iterating variable, *student*. The value of student can be found **in** the list *classmates*.\n",
    "\n",
    "The code underneath the *for student in classmates* runs four times, one for each student in the *classmates* list. Each time we run the loop is called an \"iteration\"."
   ]
  },
  {
   "cell_type": "markdown",
   "id": "b0218259-9f25-4487-9949-38131e96dca0",
   "metadata": {
    "jp-MarkdownHeadingCollapsed": true
   },
   "source": [
    "# Functions"
   ]
  },
  {
   "cell_type": "markdown",
   "id": "b1c2b631-0644-4b22-b487-07bb53fa1d6e",
   "metadata": {},
   "source": [
    "Functions in programming serve a similar purpose as mathematical functions or operators. But more generally, a function is a user-defined object in a program that allows you to reuse code. This can be useful for tasks where you have a complicated set of commands you want to apply to a bunch of data. "
   ]
  },
  {
   "cell_type": "markdown",
   "id": "0f6afc83-a168-4f59-af13-85abd11433fe",
   "metadata": {},
   "source": [
    "### Defining a Function: Syntax"
   ]
  },
  {
   "cell_type": "markdown",
   "id": "9306fd06-5f4d-401c-9a52-8372c87ba5cb",
   "metadata": {},
   "source": [
    "In Python, a function is defined using the following structure:\n",
    "\n",
    "```python\n",
    "def FUNCTION_NAME(ARG_1, ARG_2):\n",
    "    RESULT = ARG_1 + ARG_2\n",
    "    return RESULT\n",
    "```\n",
    "\n",
    "Let's discuss some of the important elements:\n"
   ]
  },
  {
   "cell_type": "markdown",
   "id": "36228417-1910-4df5-9577-f0d8d2d3e84b",
   "metadata": {},
   "source": [
    "```python\n",
    "def simple_function(x, y):\n",
    "    if x > y:\n",
    "        return x\n",
    "    else:\n",
    "        return y\n",
    "```"
   ]
  },
  {
   "cell_type": "markdown",
   "id": "cd9b1544-44bb-4bdb-81b0-920b76bda1a6",
   "metadata": {
    "jp-MarkdownHeadingCollapsed": true
   },
   "source": [
    "# Importing Functions (i.e., Python libraries)"
   ]
  },
  {
   "cell_type": "markdown",
   "id": "fc781b48-7789-4796-ad63-c8197ddf3cdd",
   "metadata": {},
   "source": [
    "### Python Modules"
   ]
  },
  {
   "cell_type": "markdown",
   "id": "46881a05-11e7-45a0-b1d5-39e3b10ea9e2",
   "metadata": {},
   "source": [
    "### Importing \"Internal\" Libraries (i.e., Python modules)"
   ]
  },
  {
   "cell_type": "markdown",
   "id": "4f1f0310-cf30-42de-854b-01f13f9aaf41",
   "metadata": {},
   "source": [
    "Over time Python has incorporated many functions into its standard modules (the Python 3.13 Module Index can be viewed [here](https://docs.python.org/3/py-modindex.html)). These modules contain functions that you can import at any time and use at-will. For example, one of these modules, [itertools](https://docs.python.org/3/library/itertools.html), is a good module to import for doing combinatorial mathematics.\n",
    "\n",
    "You can import the module by typing\n",
    "```python\n",
    "import itertools\n",
    "```\n",
    "This will allow you to use any of the functions in `itertools` by typing `itertools.FUNCTION_NAME`.\n",
    "\n",
    "Alternatively, you can use the star/asterisk to retrive _all_ functions in the module by typing\n",
    "```python\n",
    "from itertools import *\n",
    "```\n",
    "\n",
    "This will give you access to all the available functions in that module (more specifically, it adds all the functions in the module to your namespace). Generally speaking you do not want to import any code you don't need (this can cause some issues if you're not careful), so it is generally recommended to only import the functions you need. This can be done by typing\n",
    "\n",
    "```python\n",
    "from itertools import combinations\n",
    "```"
   ]
  },
  {
   "cell_type": "code",
   "execution_count": 9,
   "id": "deb07324-7230-40b2-9072-7722ce65a22f",
   "metadata": {},
   "outputs": [
    {
     "data": {
      "text/plain": [
       "[('a', 'b'), ('a', 'c'), ('a', 'd'), ('b', 'c'), ('b', 'd'), ('c', 'd')]"
      ]
     },
     "execution_count": 9,
     "metadata": {},
     "output_type": "execute_result"
    }
   ],
   "source": [
    "from itertools import combinations\n",
    "list_of_labels = [\"a\", \"b\", \"c\", \"d\"]\n",
    "list(combinations(list_of_labels, r=2))"
   ]
  },
  {
   "cell_type": "markdown",
   "id": "78db5293-085c-4880-a226-c21c93ce06b2",
   "metadata": {},
   "source": [
    "### Importing \"External\" Libraries"
   ]
  }
 ],
 "metadata": {
  "kernelspec": {
   "display_name": "Python 3 (ipykernel)",
   "language": "python",
   "name": "python3"
  },
  "language_info": {
   "codemirror_mode": {
    "name": "ipython",
    "version": 3
   },
   "file_extension": ".py",
   "mimetype": "text/x-python",
   "name": "python",
   "nbconvert_exporter": "python",
   "pygments_lexer": "ipython3",
   "version": "3.11.11"
  }
 },
 "nbformat": 4,
 "nbformat_minor": 5
}
