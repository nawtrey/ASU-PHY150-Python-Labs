{
 "cells": [
  {
   "cell_type": "markdown",
   "id": "ea24084d-1489-49ce-87a0-013a29bdbbc8",
   "metadata": {},
   "source": [
    "# PHY 150 Python Lab 2: Loops, Functions, Plotting, and Classes"
   ]
  },
  {
   "cell_type": "markdown",
   "id": "bc16ad3d-20f2-491a-b0a1-dedea20b1259",
   "metadata": {},
   "source": [
    "Nikolaus Awtrey\\\n",
    "Peter Smith\\\n",
    "Kevin Trinh\\\n",
    "Allison Boley\n",
    "\n",
    "If you want to review the content from **Lab 1**, you can view the entire notebook on [**GitHub**](https://github.com/nawtrey/ASU-PHY150-Python-Labs/blob/main/PHY_150_Intro_to_Python_Lab_1.ipynb)."
   ]
  },
  {
   "cell_type": "markdown",
   "id": "1fe5a192-5dce-42ca-9b55-6eed0ad884bb",
   "metadata": {
    "jp-MarkdownHeadingCollapsed": true
   },
   "source": [
    "## Lab Contents:\n",
    "1. [**Loops**](#1.-Python-Loops)\n",
    "2. [**Functions**](#2.-Functions)\n",
    "3. [**Importing Libraries**](#3.-Importing-Libraries)\n",
    "4. [**Plotting in Python**](#4.-Plotting-in-Python)\n",
    "5. [**Challenge Problems**](#5.-Challenge-Problems)"
   ]
  },
  {
   "cell_type": "markdown",
   "id": "a8f8af9c-e22e-4c0a-885c-deaa372315aa",
   "metadata": {
    "jp-MarkdownHeadingCollapsed": true
   },
   "source": [
    "<div style=\"background-color: #007acc; color: white; padding: 12px; border-radius: 5px;\">\n",
    "  <h1 style=\"margin: 0;\">1. Python Loops</h1>\n",
    "</div>"
   ]
  },
  {
   "cell_type": "markdown",
   "id": "5eb9017f-cb0b-458e-9270-fab6f9f62b31",
   "metadata": {},
   "source": [
    "## What is a `for` loop?\n",
    "\n",
    "A `for` loop in Python is used to _iterate_ over a sequence of items — such as a `list`, a `string`, a `tuple`, or anything that's _iterable_. It allows you to perform an operation _repeatedly_, once for each item in that sequence. "
   ]
  },
  {
   "cell_type": "code",
   "execution_count": 1,
   "id": "449db1cf-c14a-49d7-a497-8937841a2ee3",
   "metadata": {},
   "outputs": [
    {
     "name": "stdout",
     "output_type": "stream",
     "text": [
      "Tuple example: 1\n",
      "Tuple example: 2\n",
      "Tuple example: 3\n",
      "Tuple example: 4\n",
      "String example: a\n",
      "String example: b\n",
      "String example: c\n",
      "String example: d\n",
      "List example: 2\n",
      "List example: 3\n",
      "List example: 5\n",
      "List example: 8\n"
     ]
    }
   ],
   "source": [
    "# iterating over elements in a tuple\n",
    "for number in (1, 2, 3, 4):\n",
    "    print(\"Tuple example:\", number)\n",
    "\n",
    "# iterating over characters in a string\n",
    "for letter in \"abcd\":\n",
    "    print(\"String example:\", letter)\n",
    "\n",
    "# iterating over elements in a list\n",
    "for element in [2, 3, 5, 8]:\n",
    "    print(\"List example:\", element)"
   ]
  },
  {
   "cell_type": "markdown",
   "id": "bf6466f5-b4f2-4a0b-b152-9c34e753a462",
   "metadata": {},
   "source": [
    "## Code Blocks"
   ]
  },
  {
   "cell_type": "markdown",
   "id": "6aa0655d-9e4e-4922-bab4-39b28cb88dfb",
   "metadata": {},
   "source": [
    "In Python, **code blocks** are used to group together statements that should be executed as part of a loop, function, or condition. Unlike many other programming languages, Python _does not_ use curly braces (`{}`) to define blocks. Instead, Python relies on _indentation_.\n",
    "\n",
    "In a `for` loop, everything in the **code block** is executed for each iteration. \n",
    "\n",
    "```python\n",
    "for item in sequence:\n",
    "    # This is a code block\n",
    "    # All of this will run once for each item in the sequence\n",
    "    print(item)\n",
    "    print(\"Still inside the loop\")\n",
    "\n",
    "# This is outside the loop\n",
    "print(\"Done!\")\n",
    "```"
   ]
  },
  {
   "cell_type": "markdown",
   "id": "dc446590-9942-4c4a-be6f-bbd3b222b801",
   "metadata": {},
   "source": [
    "<div style=\"border-left: 5px solid goldenrod; padding: 10px; background-color: #fff8dc;\">\n",
    "  <strong>Note:</strong> Any code that is indented under the <code>for</code> loop line is part of the loop’s block. As soon as you stop indenting, you’re outside the loop. This also applies to conditional statements and functions (which will be addressed below).\n",
    "</div>"
   ]
  },
  {
   "cell_type": "markdown",
   "id": "911e4c3a-534c-432f-9098-c598ac064154",
   "metadata": {},
   "source": [
    "A **common mistake** in Python is misaligned or missing indentations - \n",
    "\n",
    "```python\n",
    "for i in range(3):\n",
    "print(i)   # ❌ This will cause an IndentationError\n",
    "```\n",
    "\n",
    "The code block _must be indented consistently_. Most code editors (such as Jupyter) automatically use 4 spaces per indentation level."
   ]
  },
  {
   "cell_type": "markdown",
   "id": "bfd352fc-b14f-47bd-950e-40d73277f2e7",
   "metadata": {},
   "source": [
    "### Why use a `for` loop?"
   ]
  },
  {
   "cell_type": "markdown",
   "id": "1bfcf6f4-abb1-4b2b-ada9-c8cebcb1325c",
   "metadata": {},
   "source": [
    "`For` loops are great for performing repetative tasks and help keep your code simple and easy to read. \n",
    "\n",
    "For example, say we had some list containing various alphabetic characters -"
   ]
  },
  {
   "cell_type": "code",
   "execution_count": 2,
   "id": "3333c7d4-059c-4b5c-a350-d3cdbf15be4c",
   "metadata": {},
   "outputs": [],
   "source": [
    "my_list = [\"Alpha\", \"Beta\", \"Gamma\"]"
   ]
  },
  {
   "cell_type": "markdown",
   "id": "e3b4a580-d757-40c6-bb0c-edb6b115ec5c",
   "metadata": {},
   "source": [
    "What if we wanted to add a bunch of _new_ characters? We could _append_ them one by one -"
   ]
  },
  {
   "cell_type": "code",
   "execution_count": 3,
   "id": "5526205d-077f-40ec-b7fd-2a91b95b8177",
   "metadata": {},
   "outputs": [
    {
     "name": "stdout",
     "output_type": "stream",
     "text": [
      "['Alpha', 'Beta', 'Gamma', 'Delta', 'Epsilon', 'Zeta', 'Theta']\n"
     ]
    }
   ],
   "source": [
    "my_list.append(\"Delta\")\n",
    "my_list.append(\"Epsilon\")\n",
    "my_list.append(\"Zeta\")\n",
    "my_list.append(\"Theta\")\n",
    "print(my_list)"
   ]
  },
  {
   "cell_type": "markdown",
   "id": "59876fe5-9b6b-4c65-81db-70c227ee6186",
   "metadata": {},
   "source": [
    "Alternatively, we could append them in a for loop - "
   ]
  },
  {
   "cell_type": "code",
   "execution_count": 4,
   "id": "597c1277-f190-4ce0-b26b-8c33e9fbb28d",
   "metadata": {},
   "outputs": [
    {
     "name": "stdout",
     "output_type": "stream",
     "text": [
      "['Alpha', 'Beta', 'Gamma', 'Delta', 'Epsilon', 'Zeta', 'Theta']\n"
     ]
    }
   ],
   "source": [
    "my_list = [\"Alpha\", \"Beta\", \"Gamma\"]\n",
    "\n",
    "for element in (\"Delta\", \"Epsilon\", \"Zeta\", \"Theta\"):\n",
    "    my_list.append(element)\n",
    "\n",
    "print(my_list)"
   ]
  },
  {
   "cell_type": "markdown",
   "id": "0a2b4674-bbfa-4e7d-a3e9-8a25b78728d4",
   "metadata": {},
   "source": [
    "### Looping Over Indices"
   ]
  },
  {
   "cell_type": "markdown",
   "id": "6d13a9ab-fd6a-462a-baef-96943324b64b",
   "metadata": {},
   "source": [
    "Python has built-in functions that allow you to iterate over _indices_ instead of _elements_. An **index** is the position of an item in a _sequence_ like a `list`, `string`, or `tuple`. We have already used indices in Lab 1 but now you know what their proper name is. \n",
    "\n",
    "But why would we want to loop over indices instead of the elements in the list directly?\n",
    "\n",
    "You loop over **indices** when:\n",
    "- You want to access multiple lists in a single loop\n",
    "- You need to modify elements in place\n",
    "- You want to use the index number for labeling, math, or control\n",
    "\n",
    "For example, say we have a list of planet names and another list of their distances.\n",
    "\n",
    "```python\n",
    "planets = [\"Mercury\", \"Venus\", \"Earth\", \"Mars\"]\n",
    "distances = [57.9e6, 108.2e6, 149.6e6, 227.9e6]  # km\n",
    "```\n",
    "\n",
    "Both lists have four elements, so if we create a `for` loop that performs four iterations we can access the elements in _both_ lists just by using their _indices_ (i.e., 0, 1, 2, 3). To do this we can use the Python built-in functions `range()` and `len()`. `len(my_list)` will output the integer number of elements in `my_list`, while `range()` will provide a new index for each iteration starting at `0` and ending with the input number (i.e., `4`).\n",
    "\n",
    "Let's start by defining our lists and trying out `len()` - "
   ]
  },
  {
   "cell_type": "code",
   "execution_count": 5,
   "id": "b5136c76-8a30-4bb3-8014-bf3afe3d8f25",
   "metadata": {},
   "outputs": [
    {
     "name": "stdout",
     "output_type": "stream",
     "text": [
      "Number of elements in `planets`: 4\n",
      "Number of elements in `distances`: 4\n"
     ]
    }
   ],
   "source": [
    "planets = [\"Mercury\", \"Venus\", \"Earth\", \"Mars\"]\n",
    "distances = [57.9e6, 108.2e6, 149.6e6, 227.9e6]  # km\n",
    "\n",
    "print(\"Number of elements in `planets`:\", len(planets))\n",
    "print(\"Number of elements in `distances`:\", len(distances))"
   ]
  },
  {
   "cell_type": "markdown",
   "id": "bb1cbdf4-3de2-435f-b58c-43a294d665b3",
   "metadata": {},
   "source": [
    "Now let's try out the `range()` function, using the length of `planets` - "
   ]
  },
  {
   "cell_type": "code",
   "execution_count": 6,
   "id": "871bb5f1-555a-4998-b3af-8141b0798e8e",
   "metadata": {},
   "outputs": [
    {
     "name": "stdout",
     "output_type": "stream",
     "text": [
      "0\n",
      "1\n",
      "2\n",
      "3\n"
     ]
    }
   ],
   "source": [
    "# we will use `index` to illustrate this example, but it \n",
    "# is common practice to use single-letter names like `i`\n",
    "for index in range(len(planets)):\n",
    "    print(index)"
   ]
  },
  {
   "cell_type": "markdown",
   "id": "3651d7e4-613a-439c-9b34-d822cce46774",
   "metadata": {},
   "source": [
    "Finally, let's try to print the elements of both lists using their indices. "
   ]
  },
  {
   "cell_type": "code",
   "execution_count": 7,
   "id": "cab92eaf-5581-498b-9d49-8bef32c643ed",
   "metadata": {},
   "outputs": [
    {
     "name": "stdout",
     "output_type": "stream",
     "text": [
      "0 Mercury 57900000.0\n",
      "1 Venus 108200000.0\n",
      "2 Earth 149600000.0\n",
      "3 Mars 227900000.0\n"
     ]
    }
   ],
   "source": [
    "# here we will use `i` since it is a very common choice\n",
    "# for the index name\n",
    "for i in range(len(planets)):\n",
    "    # retrieve the elements of the list using `my_list[i]`\n",
    "    print(i, planets[i], distances[i])"
   ]
  },
  {
   "cell_type": "markdown",
   "id": "7e75ec6f-5b14-48e5-9449-fa2cc5350457",
   "metadata": {},
   "source": [
    "Another built-in Python function worth mentioning is the `enumerate()` function. This function takes a sequence (like a `list`, `tuple`, or `dict`) and creates an index for them as well. \n",
    "\n",
    "Let's print the same information using `enumerate()` instead of `len()` and `range()` - "
   ]
  },
  {
   "cell_type": "code",
   "execution_count": 8,
   "id": "5d343ff4-fbcc-4a0c-b8a9-61bde764908f",
   "metadata": {},
   "outputs": [
    {
     "name": "stdout",
     "output_type": "stream",
     "text": [
      "0 Mercury 57900000.0\n",
      "1 Venus 108200000.0\n",
      "2 Earth 149600000.0\n",
      "3 Mars 227900000.0\n"
     ]
    }
   ],
   "source": [
    "# using `enumerate`, we have to assign both the\n",
    "# index name `i` and the element name `planet`\n",
    "for i, planet in enumerate(planets):\n",
    "    # since each element is already being assigned\n",
    "    # to `planet`, we no longer need to retrieve\n",
    "    # the planet name using the index. But since\n",
    "    # we are not iterating over the distances, \n",
    "    # we still have to retrieve each distance\n",
    "    # using the index `i`\n",
    "    print(i, planet, distances[i])"
   ]
  },
  {
   "cell_type": "markdown",
   "id": "7189b824-8d83-46c6-b357-d6e13eeaeeb4",
   "metadata": {},
   "source": [
    "#### When to Use a `for` Loop \n",
    "\n",
    "_Use_ a `for` loop when:\n",
    "- You want to go through every item in a list, tuple, string, or dictionary.\n",
    "- You want to repeat an action a known number of times.\n",
    "- You want to collect results, such as computing values and storing them in a list.\n",
    "- You're working with arrays, simulation steps, or multiple data points.\n",
    "\n",
    "#### When **Not** to Use a `for` Loop\n",
    "\n",
    "_Avoid_ `for` loops when:\n",
    "- You’re modifying a list while iterating over it — this can cause bugs or unexpected behavior.\n",
    "- You're only trying to repeat something until a condition is met — there are special loops called `while` loops for that instead."
   ]
  },
  {
   "cell_type": "markdown",
   "id": "2281840e-78a4-4ba5-8568-20458a8e81bf",
   "metadata": {},
   "source": [
    "<div style=\"background-color: #28a745; color: white; padding: 12px; border-radius: 5px;\">\n",
    "  <h2 style=\"margin: 0;\">Try it Yourself: For Loop Edition</h2>\n",
    "</div>"
   ]
  },
  {
   "cell_type": "markdown",
   "id": "4ee532ee-ff14-4684-8200-f8fa7613195c",
   "metadata": {},
   "source": [
    "### Problem 1: Iterate over list elements\n",
    "\n",
    "You are given a list of masses (in kg). Use the equation $E = mc^2$, where $c = 2.998 \\times 10^8 \\, \\text{m/s}$, to calculate and print the energy of each mass."
   ]
  },
  {
   "cell_type": "code",
   "execution_count": 9,
   "id": "c57e29ad-0bff-4605-9064-ad84783fef7b",
   "metadata": {},
   "outputs": [
    {
     "ename": "NameError",
     "evalue": "name '____' is not defined",
     "output_type": "error",
     "traceback": [
      "\u001b[1;31m---------------------------------------------------------------------------\u001b[0m",
      "\u001b[1;31mNameError\u001b[0m                                 Traceback (most recent call last)",
      "Cell \u001b[1;32mIn[9], line 8\u001b[0m\n\u001b[0;32m      5\u001b[0m masses \u001b[38;5;241m=\u001b[39m [\u001b[38;5;241m1\u001b[39m, \u001b[38;5;241m5\u001b[39m, \u001b[38;5;241m10\u001b[39m]\n\u001b[0;32m      7\u001b[0m \u001b[38;5;66;03m# TODO: create your for loop and print the energy using E = mc^2\u001b[39;00m\n\u001b[1;32m----> 8\u001b[0m \u001b[38;5;28;01mfor\u001b[39;00m ___ \u001b[38;5;129;01min\u001b[39;00m \u001b[43m____\u001b[49m:\n\u001b[0;32m      9\u001b[0m     \u001b[38;5;66;03m# calculate the energy\u001b[39;00m\n\u001b[0;32m     10\u001b[0m     energy \u001b[38;5;241m=\u001b[39m mass\u001b[38;5;241m*\u001b[39mc\u001b[38;5;241m*\u001b[39mc\n\u001b[0;32m     11\u001b[0m     \u001b[38;5;28mprint\u001b[39m(\u001b[38;5;124mf\u001b[39m\u001b[38;5;124m\"\u001b[39m\u001b[38;5;124mThe calculated energy for \u001b[39m\u001b[38;5;132;01m{\u001b[39;00mmass\u001b[38;5;132;01m}\u001b[39;00m\u001b[38;5;124m kg mass: \u001b[39m\u001b[38;5;132;01m{\u001b[39;00menergy\u001b[38;5;132;01m:\u001b[39;00m\u001b[38;5;124m.2e\u001b[39m\u001b[38;5;132;01m}\u001b[39;00m\u001b[38;5;124m J\u001b[39m\u001b[38;5;124m\"\u001b[39m)\n",
      "\u001b[1;31mNameError\u001b[0m: name '____' is not defined"
     ]
    }
   ],
   "source": [
    "# speed of light in m/s\n",
    "c = 2.998e8\n",
    "\n",
    "# list of masses in kg\n",
    "masses = [1, 5, 10]\n",
    "\n",
    "# TODO: create your for loop and print the energy using E = mc^2\n",
    "for ___ in ____:\n",
    "    # calculate the energy\n",
    "    energy = mass*c*c\n",
    "    print(f\"The calculated energy for {mass} kg mass: {energy:.2e} J\")"
   ]
  },
  {
   "cell_type": "markdown",
   "id": "5afa4259-a6df-47fb-bf2b-3ea007960eb4",
   "metadata": {},
   "source": [
    "### Problem 2: Iterate over indices & list elements\n",
    "\n",
    "You are given a list of usernames, and you want to generate custom email addresses for each user. The company’s email format includes a user ID number (starting from 100) followed by the username, like the following:\n",
    "\n",
    "```\n",
    "100_alice@example.com\n",
    "101_bob@example.com\n",
    "```\n",
    "\n",
    "Use a `for` loop with `enumerate()` to:\n",
    "\n",
    "1. Combine the index (as a user ID) and the username\n",
    "2. Generate an email string in the format: `\"ID_username@example.com\"`\n",
    "3. Store each email in a new list called `email_list`\n",
    "4. Print the list of emails at the end"
   ]
  },
  {
   "cell_type": "code",
   "execution_count": null,
   "id": "41c47879-4158-46c6-818f-fd687ce6df4a",
   "metadata": {},
   "outputs": [],
   "source": [
    "# your starting usernames\n",
    "usernames = [\"alice\", \"bob\", \"charlie\", \"dana\"]\n",
    "\n",
    "# an empty list to store your new email addresses\n",
    "email_list = []\n",
    "\n",
    "# TODO: create a for loop using enumerate\n",
    "for __, name in enumerate(_______):\n",
    "    # TODO: create the username\n",
    "    user_id = 100 + ___\n",
    "\n",
    "    email = f\"{user_id}_{name}@example.com\"\n",
    "    # add the new email to the email list\n",
    "    email_list.append(email)\n",
    "\n",
    "# print all generated emails\n",
    "print(email_list)"
   ]
  },
  {
   "cell_type": "markdown",
   "id": "e825275c-1230-43fa-9dfe-c6f33a792513",
   "metadata": {},
   "source": [
    "### Problem 3: Iterate over indices\n",
    "\n",
    "You're analyzing the motion of a group of objects. You have a list of their masses (in kg) and a separate list of their velocities (in m/s). You want to calculate their kinetic energy using the formula:\n",
    "\n",
    "$$ KE = \\frac{1}{2}mv^2 $$\n",
    "\n",
    "#### Your Task\n",
    "Use a `for` loop with `range()` and `len()` to:\n",
    "\n",
    "1. Access each mass and its corresponding velocity **by index**\n",
    "2. Calculate the kinetic energy for each object\n",
    "3. Print the result "
   ]
  },
  {
   "cell_type": "code",
   "execution_count": null,
   "id": "0f87e259-a58e-42b6-9c9f-0db3a0b98f9f",
   "metadata": {},
   "outputs": [],
   "source": [
    "# object masses in kg\n",
    "masses = [2.0, 4.5, 1.2, 3.4]\n",
    "\n",
    "# object velocities in m/s\n",
    "velocities = [3.0, 2.0, 5.5, 1.8]\n",
    "\n",
    "# TODO: loop over indices using len() and range()\n",
    "for ___ in ___:\n",
    "    # TODO: retrieve the mass and velocity using indices\n",
    "    mass = ____\n",
    "    velocity = ____\n",
    "\n",
    "    # Calculate kinetic energy\n",
    "    ke = 0.5 * mass * velocity ** 2\n",
    "\n",
    "    # Print result\n",
    "    print(f\"Object {i}: KE = {ke:.2e} J\")"
   ]
  },
  {
   "cell_type": "markdown",
   "id": "b0218259-9f25-4487-9949-38131e96dca0",
   "metadata": {
    "jp-MarkdownHeadingCollapsed": true
   },
   "source": [
    "<div style=\"background-color: #007acc; color: white; padding: 12px; border-radius: 5px;\">\n",
    "  <h1 style=\"margin: 0;\">2. Functions</h1>\n",
    "</div>"
   ]
  },
  {
   "cell_type": "markdown",
   "id": "f39dcbd3-b210-42ca-8759-2cd1a70cc43f",
   "metadata": {},
   "source": [
    "## What is a Function?\n",
    "\n",
    "A *function* is a reusable block of code that performs a specific task. Functions help you *organize*, *simplify*, and *reuse* your code without repeating yourself."
   ]
  },
  {
   "cell_type": "markdown",
   "id": "6a7c2bf3-4231-4718-8ff7-37306e3ec7cd",
   "metadata": {},
   "source": [
    "## Why Use Functions?\n",
    "\n",
    "- Avoid repeating code\n",
    "- Break problems into smaller pieces\n",
    "- Improve code readability\n",
    "- Test and debug specific parts of code easily\n",
    "- Reuse logic in other programs or notebooks"
   ]
  },
  {
   "cell_type": "markdown",
   "id": "e17fe9ab-9995-46b2-9423-69ece902f3a6",
   "metadata": {},
   "source": [
    "## Function Syntax\n",
    "\n",
    "```python\n",
    "def function_name(parameters):\n",
    "    # code block (function body)\n",
    "    return result  # optional\n",
    "```\n",
    "\n",
    "- `def` — keyword to define a function\n",
    "- `function_name` — the name of the function\n",
    "- `parameters` — inputs to the function (optional)\n",
    "- `return` — sends back a result from the function (optional)"
   ]
  },
  {
   "cell_type": "markdown",
   "id": "d845477a-fb61-47a0-bf5c-783d0839108b",
   "metadata": {},
   "source": [
    "### Calling a Function\n",
    "\n",
    "A *function call* is how you use a function that’s been defined.\n",
    "\n",
    "```python\n",
    "def square(x):\n",
    "    return x * x\n",
    "\n",
    "result = square(5)  # <--- This is the function call\n",
    "print(result)       # Output: 25\n",
    "```\n",
    "\n",
    "- The function `square()` is defined.\n",
    "- The call `square(5)` invokes the function with `5` as an argument.\n",
    "- The result is stored in `result` and printed."
   ]
  },
  {
   "cell_type": "markdown",
   "id": "4515d4be-ab2d-437f-82ae-f4f11dcc5e31",
   "metadata": {},
   "source": [
    "### Function (Call) Signature\n",
    "\n",
    "A **function signature** is the combination of:\n",
    "\n",
    "- The function name\n",
    "- The number and type of parameters it accepts\n",
    "\n",
    "```python\n",
    "def kinetic_energy(mass, velocity):\n",
    "    return 0.5 * mass * velocity ** 2\n",
    "```\n",
    "\n",
    "- Function name: `kinetic_energy`\n",
    "- Parameters: `mass`, `velocity`\n",
    "\n",
    "This tells you what the function expects and what it returns."
   ]
  },
  {
   "cell_type": "markdown",
   "id": "7fc87f28-dde3-4173-ad27-b6a3f5f9b431",
   "metadata": {},
   "source": [
    "## Types of Function Parameters\n",
    "\n",
    "Python supports several kinds of parameters to make functions flexible, but we will focus on two: Positional and Default parameters.\n",
    "\n",
    "### Positional Parameters\n",
    "**Positional parameters** are called positional because their position in the call signature matters. Positional parameters must be passed in the _correct order_ or the function will not perform its intended purpose."
   ]
  },
  {
   "cell_type": "code",
   "execution_count": null,
   "id": "4d4ea38d-ef6f-4817-8fd6-f715e32acf84",
   "metadata": {},
   "outputs": [],
   "source": [
    "def greet(greeting, name):\n",
    "    print(f\"{greeting} {name}!\")\n",
    "\n",
    "greet(\"Alice\", \"Hello\")\n",
    "greet(\"Hello\", \"Alice\")"
   ]
  },
  {
   "cell_type": "markdown",
   "id": "b284bd2b-dd2c-4c0c-a8ab-e9c148c4c0b2",
   "metadata": {},
   "source": [
    "### Default Parameters\n",
    "**Default parameters** are (as the name might suggest) parameters with default values. This allows you to call the function with certain default values without having to specify them in every single call signature. Run the cell below to see how default parameters affect the function calls. "
   ]
  },
  {
   "cell_type": "code",
   "execution_count": null,
   "id": "d68640b4-afcd-47d5-a344-cf623709307b",
   "metadata": {},
   "outputs": [],
   "source": [
    "def greet(name, greeting=\"Hello\"):\n",
    "    print(f\"{greeting}, {name}!\")\n",
    "\n",
    "greet(\"Charlie\")\n",
    "greet(\"Dana\", \"Welcome\")"
   ]
  },
  {
   "cell_type": "markdown",
   "id": "630d4ced-e400-418a-bd42-713ca61dcc57",
   "metadata": {},
   "source": [
    "Additionally, you can name parameters explicitly (called **keyword arguments**) when calling your function:"
   ]
  },
  {
   "cell_type": "code",
   "execution_count": null,
   "id": "c903fb22-7d02-49b1-a4dd-126eb30d2cc1",
   "metadata": {},
   "outputs": [],
   "source": [
    "greet(name=\"Bob\", greeting=\"Hi\")"
   ]
  },
  {
   "cell_type": "markdown",
   "id": "61bb0674-f093-4a21-bd90-521d59f649c7",
   "metadata": {},
   "source": [
    "This makes your code more readable and clear."
   ]
  },
  {
   "cell_type": "markdown",
   "id": "260d5bbd-c36a-494f-8a0c-68e7b360f2a6",
   "metadata": {},
   "source": [
    "<div style=\"border-left: 5px solid goldenrod; padding: 10px; background-color: #fff8dc;\"> <strong>Note:</strong>\n",
    "When defining a function, default parameters must be listed <i>last</i>. You <b>cannot</b> have <i>positional parameters</i> after any <i>default parameters</i>.\n",
    "</div>"
   ]
  },
  {
   "cell_type": "markdown",
   "id": "ab7d9b16-53c0-4957-985b-9db829ee8e16",
   "metadata": {},
   "source": [
    "### Important Considerations:\n",
    "- If you don’t use a return statement, the function returns `None`.\n",
    "- You can define functions anywhere, but they must be called to run.\n",
    "- Parameters are local to the function—they don’t affect variables outside unless returned or modified globally."
   ]
  },
  {
   "cell_type": "markdown",
   "id": "63448c91-09f6-4c57-98d1-c91e08b2a8e3",
   "metadata": {},
   "source": [
    "## Function Vocab Summary"
   ]
  },
  {
   "cell_type": "markdown",
   "id": "909aebc1-6ae3-48b1-9a41-ca6b00a45ff5",
   "metadata": {},
   "source": [
    "| Concept         | Description                                             |\n",
    "|-----------------|---------------------------------------------------------|\n",
    "| `def`           | Defines a function                                      |\n",
    "| Function call   | Executes (calls) the function with specific arguments   |\n",
    "| Signature       | The function’s name and its parameter list              |\n",
    "| Positional args | Arguments passed by position (in order)                |\n",
    "| Default args    | Parameters with default values (can be omitted)         |\n",
    "| Keyword args    | Arguments passed using `name=value` format              |"
   ]
  },
  {
   "cell_type": "markdown",
   "id": "65b1a347-147f-419b-94dd-9a2e128f6ede",
   "metadata": {},
   "source": [
    "<div style=\"background-color: #28a745; color: white; padding: 12px; border-radius: 5px;\">\n",
    "  <h2 style=\"margin: 0;\">Try it Yourself: Function Edition</h2>\n",
    "</div>"
   ]
  },
  {
   "cell_type": "markdown",
   "id": "691a3a57-a875-4b82-93f6-6dea79dee73b",
   "metadata": {},
   "source": [
    "### Problem 1: Celsius to Fahrenheit\n",
    "\n",
    "Write a function called c_to_f that takes a temperature in Celsius and returns the temperature in Fahrenheit.\n",
    "\n",
    "Use the formula:\n",
    "\n",
    "$$ F = \\frac{9}{5}C + 32 $$\n",
    "\n",
    "#### Your Tasks:\n",
    "- Define the function `c_to_f(celsius)`\n",
    "- Return the converted temperature\n",
    "- Call the function with `c_to_f(0)` and `c_to_f(100)`"
   ]
  },
  {
   "cell_type": "code",
   "execution_count": null,
   "id": "4fcd1b10-2cd3-45cb-ad0c-106c42c82e25",
   "metadata": {},
   "outputs": [],
   "source": [
    "# define the function\n",
    "def c_to_f(celsius):\n",
    "    # convert Celsius to Fahrenheit\n",
    "    fahrenheit = ___\n",
    "    return ___\n",
    "\n",
    "# Test calls\n",
    "print(c_to_f(0))      # Should print 32.0\n",
    "print(c_to_f(100))    # Should print 212.0"
   ]
  },
  {
   "cell_type": "markdown",
   "id": "0656c90d-c6af-4ac1-ba9f-913b4420faf8",
   "metadata": {},
   "source": [
    "### Problem 2: Calculate the Volume of a Cylinder\n",
    "\n",
    "The volume of a cylinder is given by $ V = \\pi r^2 h $, where $r$ is the radius and $h$ is the height. Write a function `calculate_cylinder_volume(radius, height=1.0)` that returns the volume, using `pi = 3.14159`.\n",
    "\n",
    "#### Your Tasks:\n",
    "- Define the function\n",
    "- Return the computed volume\n",
    "- Call the function with a few different values"
   ]
  },
  {
   "cell_type": "code",
   "execution_count": null,
   "id": "93fce2af-e7d9-4d53-9a3a-358e602207c8",
   "metadata": {},
   "outputs": [],
   "source": [
    "# define the function with a default height\n",
    "def cylinder_volume(radius, height=1.0):\n",
    "    pi = 3.14159\n",
    "    # Calculate volume\n",
    "    volume = ___\n",
    "    return ___\n",
    "\n",
    "# Test calls\n",
    "print(cylinder_volume(radius=2, height=5))    # compute volume with radius=2, height=5\n",
    "print(cylinder_volume(2))                     # compute volume with radius=2 and default height of 1.0"
   ]
  },
  {
   "cell_type": "markdown",
   "id": "f40c05de-0a85-4e0d-9aaf-52f168ce748b",
   "metadata": {},
   "source": [
    "### Problem 3: Elastic Potential Energy of Springs\n",
    "\n",
    "You're studying a set of springs, each with a different spring constant and displacement. You want to calculate the elastic potential energy stored in each spring using the formula $ U = \\frac{1}{2}kx^2 $, where $k$ is the spring constant and $x$ is the displacement. \n",
    "\n",
    "#### Your Tasks:\n",
    "- Define a function called elastic_potential_energy(k, x) that returns the energy in joules.\n",
    "- You are given two lists:\n",
    "    - `spring_constants`: list of $k$ values in N/m\n",
    "    - `displacements`: list of $x$ values in meters\n",
    "- Use a `for` loop with `range()` to:\n",
    "  - Access each pair of values\n",
    "  - Use your function to calculate the potential energy\n",
    "  - Print the results"
   ]
  },
  {
   "cell_type": "code",
   "execution_count": null,
   "id": "cd88d541-2ff0-4a74-8f86-7129c7cfd693",
   "metadata": {},
   "outputs": [],
   "source": [
    "# spring constants in N/m\n",
    "spring_constants = [100, 200, 150]\n",
    "# displacements in meters\n",
    "displacements = [0.1, 0.05, 0.2]\n",
    "\n",
    "# define your energy function\n",
    "def elastic_potential_energy(___, ___):\n",
    "    # TODO: calculate the energy\n",
    "    energy = ___\n",
    "    # TODO: return the elastic potential energy\n",
    "    return ___\n",
    "\n",
    "# TODO: define the for loop to iterate over indices\n",
    "for ___ in ____:\n",
    "    # TODO: retrieve the spring constant and displacement\n",
    "    # from the lists defined above, using their indices\n",
    "    k = ____\n",
    "    x = ____\n",
    "    # TODO: use your function to calculate the energy\n",
    "    energy = elastic_potential_energy()\n",
    "    print(f\"Spring {i}: U = {energy:.2e} J\")"
   ]
  },
  {
   "cell_type": "markdown",
   "id": "cd9b1544-44bb-4bdb-81b0-920b76bda1a6",
   "metadata": {
    "jp-MarkdownHeadingCollapsed": true
   },
   "source": [
    "<div style=\"background-color: #007acc; color: white; padding: 12px; border-radius: 5px;\">\n",
    "  <h1 style=\"margin: 0;\">3. Importing Libraries</h1>\n",
    "</div>"
   ]
  },
  {
   "cell_type": "markdown",
   "id": "fc781b48-7789-4796-ad63-c8197ddf3cdd",
   "metadata": {},
   "source": [
    "As you’ve seen in the previous section, **functions** allow you to reuse code and avoid repeating yourself. But imagine if you had to write every math function, plotting tool, or array operation from scratch - your programs would be long, error-prone, and hard to maintain. That’s where **libraries** come in. A library is a collection of **predefined functions, classes, and tools** that someone else has already written, tested, and optimized for you. Python libraries let you focus on solving problems, not reinventing the wheel. Whether you need to calculate square roots, simulate planetary motion, analyze data, or create graphs, there’s almost always a **library full of functions** ready to help you do it faster, better, and with less code.\n",
    "\n",
    "In Python there are two kinds of libraries you can import:\n",
    "1. **Built-in Python modules:** these are libraries that are available to import in any Python installation. \n",
    "2. **External libraries:** like the name suggests, these are libraries that are external to Python. For these libraries, you must install them separately using a package manager like [`pip`](https://pypi.org/project/pip/) to be able to import them into your code."
   ]
  },
  {
   "cell_type": "markdown",
   "id": "bab11597-8288-4679-9427-fee86ffbebca",
   "metadata": {},
   "source": [
    "### Common Python Modules and Libraries\n",
    "\n",
    "| Library / Module | Type      | Description                                                             |\n",
    "|------------------|-----------|-------------------------------------------------------------------------|\n",
    "| `math`           | Built-in  | Provides advanced mathematical functions like `sqrt`, `cos`, `log`, etc.|\n",
    "| `random`         | Built-in  | Generates random numbers, shuffles lists, and more                      |\n",
    "| `itertools`      | Built-in  | Tools for looping and working with combinations, permutations           |\n",
    "| `datetime`       | Built-in  | Functions for working with dates and times                              |\n",
    "| `os`             | Built-in  | Interfaces with the operating system (files, directories, etc.)         |\n",
    "| `numpy`          | External  | Powerful support for arrays, math, and linear algebra                   |\n",
    "| `matplotlib`     | External  | Visualization library for plotting graphs and charts                    |\n",
    "| `pandas`         | External  | Data analysis and manipulation with labeled tables (DataFrames)         |\n",
    "| `scipy`          | External  | Scientific computing tools (integration, optimization, etc.)            |\n",
    "| `seaborn`        | External  | Statistical data visualization built on top of `matplotlib`             |\n",
    "\n",
    "<div style=\"border-left: 5px solid goldenrod; padding: 10px; background-color: #fff8dc;\"> <strong>Note:</strong>\n",
    "The built-in Python modules available to you will depend on the version of Python you are using. The Python 3.13 Module Index can be viewed <a href=https://docs.python.org/3/py-modindex.html>here</a>.\n",
    "</div>"
   ]
  },
  {
   "cell_type": "markdown",
   "id": "46881a05-11e7-45a0-b1d5-39e3b10ea9e2",
   "metadata": {},
   "source": [
    "## Importing a Library"
   ]
  },
  {
   "cell_type": "markdown",
   "id": "4f1f0310-cf30-42de-854b-01f13f9aaf41",
   "metadata": {},
   "source": [
    "You can import the module using `import`:"
   ]
  },
  {
   "cell_type": "code",
   "execution_count": null,
   "id": "0572f06a-8b87-4d51-b1c3-30d685e2623e",
   "metadata": {},
   "outputs": [],
   "source": [
    "import math\n",
    "\n",
    "result = math.sqrt(25)\n",
    "print(result)"
   ]
  },
  {
   "cell_type": "markdown",
   "id": "7a914250-a8d8-45a6-89df-da674179531a",
   "metadata": {},
   "source": [
    "This gives you access to any functions, classes, or tools the library has available. A lot of libraries are broken into a series of modules, each with a different focus for that library. "
   ]
  },
  {
   "cell_type": "markdown",
   "id": "8f3d5008-cb45-4ef6-8c02-ff7555da498c",
   "metadata": {},
   "source": [
    "## Advanced Library Imports"
   ]
  },
  {
   "cell_type": "markdown",
   "id": "daeec0ad-e7ba-4809-b522-e49fd1591016",
   "metadata": {},
   "source": [
    "Once you’re comfortable with basic imports like `import math`, you’ll often encounter different styles that give you more flexibility or convenience. These advanced styles include:\n",
    "\n",
    "### `from MODULE import NAME`\n",
    "\n",
    "This allows you to import **specific items** from a module so you don’t have to use the full module name each time."
   ]
  },
  {
   "cell_type": "code",
   "execution_count": null,
   "id": "84056e6e-1484-4892-b0d3-f1a5a0813112",
   "metadata": {},
   "outputs": [],
   "source": [
    "from math import pi, sqrt\n",
    "\n",
    "print(pi)\n",
    "print(sqrt(16))"
   ]
  },
  {
   "cell_type": "markdown",
   "id": "55227d02-01a6-4e19-be04-a2c9d02f8590",
   "metadata": {},
   "source": [
    "#### Why use this?\n",
    "- Save typing when you only need a few functions from a library\n",
    "- Make code cleaner when used in moderation"
   ]
  },
  {
   "cell_type": "markdown",
   "id": "52784e40-6b47-4706-bf48-3e90ed8feea4",
   "metadata": {},
   "source": [
    "### `from MODULE import *` — Import Everything"
   ]
  },
  {
   "cell_type": "markdown",
   "id": "76261833-cde7-4b4a-8686-66717e361b14",
   "metadata": {},
   "source": [
    "The following line imports *all* functions and constants from the `math` module into your current namespace."
   ]
  },
  {
   "cell_type": "code",
   "execution_count": null,
   "id": "eed07a9b-0f95-4e17-8689-5284e1558ca4",
   "metadata": {},
   "outputs": [],
   "source": [
    "from math import *"
   ]
  },
  {
   "cell_type": "markdown",
   "id": "7652a8f4-9d2a-4e13-8959-92e1538dc2c2",
   "metadata": {},
   "source": [
    "You can then use them directly:"
   ]
  },
  {
   "cell_type": "code",
   "execution_count": null,
   "id": "520acbcf-12b9-4417-85fa-914b49e27eb8",
   "metadata": {},
   "outputs": [],
   "source": [
    "print(sqrt(25))  # 5.0\n",
    "print(cos(0))    # 1.0"
   ]
  },
  {
   "cell_type": "markdown",
   "id": "97b8b180-29a0-41ce-a105-5e7c80bbc99c",
   "metadata": {},
   "source": [
    "#### Why you should use this _sparingly_:\n",
    "- It pollutes your namespace with unknown function/variable names\n",
    "- It can overwrite variables or functions if there’s a name conflict (e.g., if you already had a function called `sqrt`)\n",
    "- It makes it harder to understand where a function came from\n",
    "\n",
    "This is recommended only for quick testing or small scripts, not larger projects or notebooks."
   ]
  },
  {
   "cell_type": "markdown",
   "id": "76e44672-19a2-4fce-b700-a353895b15a4",
   "metadata": {},
   "source": [
    "### Using Aliases with `as`\n",
    "\n",
    "You can rename a module or function using `as` to create a **shorter or more convenient alias*."
   ]
  },
  {
   "cell_type": "code",
   "execution_count": null,
   "id": "5607beb3-d7c9-43c5-ad54-20cd65007cfd",
   "metadata": {},
   "outputs": [],
   "source": [
    "import numpy as np\n",
    "import matplotlib.pyplot as plt\n",
    "from math import factorial as fact"
   ]
  },
  {
   "cell_type": "markdown",
   "id": "b5b85479-02d6-4997-88f6-d5515bdd84ef",
   "metadata": {},
   "source": [
    "- `np` is the standard alias for `numpy`\n",
    "- `plt` is the standard alias for `matplotlib.pyplot`\n",
    "- `fact` is a custom alias for `factorial`\n",
    "\n",
    "#### Why use aliases?\n",
    "- Keeps your code shorter and easier to read\n",
    "- Follows common conventions in the Python community"
   ]
  },
  {
   "cell_type": "markdown",
   "id": "ca3903e7-69d3-4648-9092-4c956e5a5722",
   "metadata": {},
   "source": [
    "### Summary of Advanced Import Styles\n",
    "\n",
    "| Syntax                          | Purpose                                       |\n",
    "|---------------------------------|-----------------------------------------------|\n",
    "| `from math import pi`           | Import only `pi` from the `math` module       |\n",
    "| `from math import *`            | Import everything from `math` (discouraged) |\n",
    "| `import numpy as np`            | Import and give an alias to the module        |\n",
    "| `from math import sqrt as s`    | Import and give an alias to a function        |\n"
   ]
  },
  {
   "cell_type": "markdown",
   "id": "7adffe22-7210-4467-9583-d3c8e903cb1e",
   "metadata": {},
   "source": [
    "## Namespaces & Libraries"
   ]
  },
  {
   "cell_type": "markdown",
   "id": "7357bd99-5765-4079-ad7c-8d29dcc8b745",
   "metadata": {},
   "source": [
    "A **namespace** is a space where names (like variables, functions, and classes) are **stored and tracked**. It helps Python keep track of what each name refers to—and **prevents name conflicts** between different parts of your code.\n",
    "\n",
    "You can think of a namespace like a **labeled container** or **directory**: it keeps everything organized so Python knows where to look when you call a name."
   ]
  },
  {
   "cell_type": "markdown",
   "id": "bbbeb9fc-5629-43af-9fa6-cf811a993a6f",
   "metadata": {},
   "source": [
    "When you import a library, its functions and variables live in that library’s own namespace.\n",
    "\n",
    "```python\n",
    "import math\n",
    "\n",
    "print(math.pi)      # Accessing 'pi' from the 'math' namespace\n",
    "print(math.sqrt(9)) # Accessing 'sqrt' from the 'math' namespace\n",
    "```\n",
    "\n",
    "Here, `math.pi` and `math.sqrt()` are inside the math namespace. You have to prefix them with `math.` to tell Python exactly which `pi` or `sqrt()` you mean. This helps avoid confusion if your code or other libraries also have a function or variable named `sqrt`.\n",
    "\n",
    "Another option is to import everything from `math` directly into your current _global_ namespace (i.e., the namespace containing all of your currently defined functions and variables):\n",
    "\n",
    "```python\n",
    "from math import *\n",
    "\n",
    "print(sqrt(9))  # Works... but we no longer know where sqrt() came from!\n",
    "```\n",
    "\n",
    "This works, but it can make your code very hard to debug down the road since you don't really know what all you have imported. This can lead to issues if another function called `sqrt` already exists in your code. This is why using `import math` or `from math import pi, sqrt` are considered safer imports. "
   ]
  },
  {
   "cell_type": "markdown",
   "id": "cbb73739-576a-42d7-b82a-c3c7075abcc8",
   "metadata": {},
   "source": [
    "## Best Practices for Python Library Imports"
   ]
  },
  {
   "cell_type": "markdown",
   "id": "ee461c6c-f963-4ed9-bf49-022dfea7f2f1",
   "metadata": {},
   "source": [
    "Following best practices when importing libraries keeps your code clean, readable, and professional—especially as projects grow larger or are shared with others.\n",
    "\n",
    "### 1. Import Standard Libraries First\n",
    "Start by importing _built-in_ Python modules, _then_ external libraries. This helps keep your imports organized.\n",
    "\n",
    "### 2. Use Aliases for Common Libraries\n",
    "Use standard aliases to keep your code concise and consistent with the wider Python community:\n",
    "```python\n",
    "import numpy as np\n",
    "import matplotlib.pyplot as plt\n",
    "\n",
    "my_array = np.array([0, 1, 4, 9])\n",
    "```\n",
    "\n",
    "This makes your code easier for others to read and maintain.\n",
    "\n",
    "### 3. Avoid Using `import *`\n",
    "\n",
    "```python\n",
    "from math import *  # not recommended\n",
    "```\n",
    "\n",
    "This brings **everything** into your namespace, can make it unclear where your functions came from, and can cause **name conflicts**. Instead, import only what you need, or use the module name explicitly:\n",
    "```python\n",
    "from math import pi, sin  # better\n",
    "# or\n",
    "import math               # clear and explicit\n",
    "```\n",
    "\n",
    "### 4. Group Imports at the Top of the File\n",
    "\n",
    "All imports should go at the **very top** of your script or notebook, **not** inside functions or loops (unless absolutely necessary).\n",
    "```python\n",
    "# good\n",
    "import numpy as np\n",
    "\n",
    "def compute(x):\n",
    "    result = x**2 + 5\n",
    "    return result\n",
    "\n",
    "# bad\n",
    "def compute(x):\n",
    "    import numpy as np # avoid importing inside a function unless required for special reasons\n",
    "    result = x**2 + 5\n",
    "    return result\n",
    "```\n",
    "\n",
    "### 5. Keep Imports Clean and Minimal\n",
    "\n",
    "Only import what you actually use. Don’t clutter your code with unused imports—they add confusion and slow down your code."
   ]
  },
  {
   "cell_type": "markdown",
   "id": "e3da6565-ce14-450c-be65-57879fe5c457",
   "metadata": {},
   "source": [
    "<div style=\"background-color: #28a745; color: white; padding: 12px; border-radius: 5px;\">\n",
    "  <h2 style=\"margin: 0;\">Try it Yourself: Explaining the Imports</h2>\n",
    "</div>"
   ]
  },
  {
   "cell_type": "markdown",
   "id": "751be359-f61f-4f60-b452-893b3972afe5",
   "metadata": {},
   "source": [
    "### Problem 1\n",
    "\n",
    "Look at the code below:\n",
    "```python\n",
    "from math import sqrt\n",
    "import numpy as np\n",
    "\n",
    "result = sqrt(49)\n",
    "array_result = sqrt(np.array([4, 9, 16]))  # Apply sqrt to an array\n",
    "print(result)\n",
    "print(array_result)\n",
    "```\n",
    "\n",
    "#### Your Tasks:\n",
    "1. Does this code work as expected?\n",
    "2. What is the likely error, and what causes it?"
   ]
  },
  {
   "cell_type": "markdown",
   "id": "f1678c48-dd9b-4996-be0c-974cb5c90737",
   "metadata": {},
   "source": []
  },
  {
   "cell_type": "markdown",
   "id": "e4f5f833-11bc-4d8e-87fc-ccb71d1c0d56",
   "metadata": {},
   "source": [
    "Rewrite the code above so that all issues above are avoided:"
   ]
  },
  {
   "cell_type": "code",
   "execution_count": null,
   "id": "b1678054-34cd-403b-8196-1194208a3791",
   "metadata": {},
   "outputs": [],
   "source": []
  },
  {
   "cell_type": "markdown",
   "id": "32e28aba-5dc0-4d5f-b75f-a1fd361ac195",
   "metadata": {},
   "source": [
    "### Problem 2\n",
    "\n",
    "Look at the code below:\n",
    "```python\n",
    "from math import pi\n",
    "\n",
    "pi = 3  # Redefining pi\n",
    "\n",
    "area = pi * 2**2  # Area of a circle with radius 2\n",
    "print(\"Pi value used:\", pi)\n",
    "print(\"Area:\", area)\n",
    "```\n",
    "\n",
    "#### Your Tasks:\n",
    "1. What issue might this code cause?\n",
    "2. Why could this be dangerous in longer or more complex programs?"
   ]
  },
  {
   "cell_type": "markdown",
   "id": "b674dadf-37f5-449c-a600-2c7b1c3036bb",
   "metadata": {},
   "source": []
  },
  {
   "cell_type": "markdown",
   "id": "c108bc3f-76a3-41da-9107-3983a01a4a1e",
   "metadata": {},
   "source": [
    "Rewrite the code such that the name conflict is avoided:"
   ]
  },
  {
   "cell_type": "code",
   "execution_count": null,
   "id": "fee7fd31-4a9e-4e6f-a898-bf71e0bd226e",
   "metadata": {},
   "outputs": [],
   "source": []
  },
  {
   "cell_type": "markdown",
   "id": "9b237b6a-0d2e-4ad8-84cf-5c9acd0d2ccc",
   "metadata": {},
   "source": [
    "### Problem 3\n",
    "\n",
    "Look at the code below:\n",
    "```python\n",
    "from math import *\n",
    "from random import *\n",
    "\n",
    "value = random()\n",
    "angle = radians(value * 90)\n",
    "print(\"Cosine:\", cos(angle))\n",
    "\n",
    "```\n",
    "\n",
    "#### Your Tasks:\n",
    "1. What are the potential problems with this import style?\n",
    "2. Could this lead to bugs or confusion later on?"
   ]
  },
  {
   "cell_type": "markdown",
   "id": "2b3485af-d009-44cd-9af3-2a202e299d87",
   "metadata": {},
   "source": []
  },
  {
   "cell_type": "markdown",
   "id": "8a30bcc8-0fd9-4d6d-916f-79c34af4c755",
   "metadata": {},
   "source": [
    "Rewrite the code using better import practices:"
   ]
  },
  {
   "cell_type": "code",
   "execution_count": null,
   "id": "49d66a2b-53ea-4c61-ada2-0089bec75f68",
   "metadata": {},
   "outputs": [],
   "source": []
  },
  {
   "cell_type": "markdown",
   "id": "7f6ff1fe-86ec-43f2-8b1a-c8b8098b4743",
   "metadata": {},
   "source": [
    "<div style=\"background-color: #007acc; color: white; padding: 12px; border-radius: 5px;\">\n",
    "  <h1 style=\"margin: 0;\">4. Visualizing Data in Python</h1>\n",
    "</div>"
   ]
  },
  {
   "cell_type": "markdown",
   "id": "1c2a3c3f-d18b-49fb-9e50-0247d94ff598",
   "metadata": {},
   "source": [
    "In our previous section, we explored the basics of importing libraries. Now that you know how to bring powerful libraries into your Python environment, it’s time to see them in action! One of the most common applications in science, particularly in physics, is **data visualization**. Visual representations of data can help you understand trends, compare experimental results with theoretical predictions, and communicate complex ideas effectively.\n",
    "\n",
    "## Why Plot Data in Python?\n",
    "\n",
    "- **Insight into Data:** Graphs and plots can make patterns and relationships visible that might be hard to spot from raw numbers alone.\n",
    "- **Verification of Theoretical Models:** When you run simulations or collect experimental data, plotting your results can help you verify that the behavior matches theoretical predictions.\n",
    "- **Communication:** Visualizations are an effective way to share findings with others. Whether in a research presentation or a lab report, clear figures can enhance your message.\n",
    "\n",
    "[**Matplotlib**](https://matplotlib.org/) is one of the most widely-used libraries for creating static, animated, and interactive visualizations in Python. It offers a MATLAB-like interface, making it very accessible if you have any prior experience with MATLAB or similar tools.\n",
    "\n",
    "## Getting Started with Matplotlib\n",
    "\n",
    "Before you can create plots, you need to import the necessary module. We typically import Matplotlib's `pyplot` module and give it the common alias `plt`:\n",
    "\n",
    "```python\n",
    "import matplotlib.pyplot as plt\n",
    "```"
   ]
  },
  {
   "cell_type": "markdown",
   "id": "7345ba4e-f926-4471-a6a1-bfd9a6cac7e6",
   "metadata": {},
   "source": [
    "## Making a Simple Plot with `Pyplot`\n",
    "\n",
    "Let's start with a basic example: plotting a quadratic graph. For other examples you can take a look at the [Pyplot Totorial](https://matplotlib.org/stable/tutorials/pyplot.html).\n",
    "\n",
    "### 1. Prepare Your Data\n",
    "\n",
    "First, define the data you want to plot. In this example, we’ll generate `x` values from `0` to `10` and calculate the corresponding `y` values using the quadratic equation $y = x^2 + 2x + 1$:"
   ]
  },
  {
   "cell_type": "code",
   "execution_count": 11,
   "id": "d592efa6-661e-4aef-a6a2-ef06bcdb80fc",
   "metadata": {},
   "outputs": [],
   "source": [
    "# example data: x values from 0 to 10 and a corresponding y = 2x\n",
    "x = []\n",
    "y = []\n",
    "for i in range(11):\n",
    "    x.append(i)\n",
    "    y.append(i**2 + (2*i) + 1)"
   ]
  },
  {
   "cell_type": "markdown",
   "id": "47ce632a-7de3-4e71-8fb9-cb6a6a20210a",
   "metadata": {},
   "source": [
    "### 2. Create the Plot\n",
    "\n",
    "Next, import Matplotlib’s `pyplot` module and create the plot by passing the `x` and `y` data to the `plt.plot()` function:"
   ]
  },
  {
   "cell_type": "code",
   "execution_count": 13,
   "id": "3d1a80d8-93cb-49a7-9687-fa40b74b030d",
   "metadata": {},
   "outputs": [
    {
     "data": {
      "text/plain": [
       "[<matplotlib.lines.Line2D at 0x2207f83e450>]"
      ]
     },
     "execution_count": 13,
     "metadata": {},
     "output_type": "execute_result"
    },
    {
     "data": {
      "image/png": "[encoded data removed]",
      "text/plain": [
       "<Figure size 640x480 with 1 Axes>"
      ]
     },
     "metadata": {},
     "output_type": "display_data"
    }
   ],
   "source": [
    "import matplotlib.pyplot as plt\n",
    "\n",
    "plt.plot(x, y)"
   ]
  },
  {
   "cell_type": "markdown",
   "id": "6b22fb3c-7722-4ad7-8902-e3093ed4fcb9",
   "metadata": {},
   "source": [
    "In essence, that is all you have to do. Create your data, then send it through `plt.plot()`. However, there is a lot more we can do with our plots in `matplotlib`. \n",
    "\n",
    "<div style=\"border-left: 5px solid goldenrod; padding: 10px; background-color: #fff8dc;\">\n",
    "  <strong>Note:</strong> In Jupyter Notebooks, plots are automatically displayed. However, in many Python scripts and some non-interactive environments, you'll need to explicitly call <code>plt.show()</code> to display your created plots.\n",
    "</div>\n",
    "\n",
    "### 3. Customize your Plot\n",
    "\n",
    "Enhance your plot by adding labels, a title, and a grid. This step helps make your visualization clearer and more informative:"
   ]
  },
  {
   "cell_type": "code",
   "execution_count": 20,
   "id": "156d7c5e-3352-4bce-b914-332908db3733",
   "metadata": {},
   "outputs": [
    {
     "data": {
      "image/png": "[encoded data removed]",
      "text/plain": [
       "<Figure size 640x480 with 1 Axes>"
      ]
     },
     "metadata": {},
     "output_type": "display_data"
    }
   ],
   "source": [
    "plt.plot(x, y)\n",
    "\n",
    "# it is considered good practice to label your x and\n",
    "# y coordinate axes for any plot you make\n",
    "plt.xlabel(\"x, independent variable (units)\")\n",
    "plt.ylabel(\"y, dependent variable (units)\")\n",
    "\n",
    "# adding a title is generally useful to communicate\n",
    "# what info your plot is meant to convey\n",
    "plt.title(\"Simple Line Plot: \" + r\"$y = x^2 + 2x + 1$\")\n",
    "\n",
    "# you can also add a grid to help compare x-y\n",
    "# coordinates across the plotting area\n",
    "plt.grid(True)"
   ]
  },
  {
   "cell_type": "markdown",
   "id": "1107f4ca-948e-464f-a322-7cd07346b8e9",
   "metadata": {},
   "source": [
    "## An Alternative Approach: Plotting with Matplotlib Axes Objects\n",
    "\n",
    "Instead of relying solely on the pyplot interface (`plt`), here we will create plot elements using `matplotlib` **Axes objects**. This approach gives you finer control over your figures, which is especially useful for more complex visualizations or when working with multiple plots in a single figure.\n",
    "\n",
    "### Step 1: Import Required Libraries\n",
    "\n",
    "Begin by importing the necessary libraries. We need `matplotlib.pyplot` for plotting and `numpy` for numerical operations."
   ]
  },
  {
   "cell_type": "code",
   "execution_count": 21,
   "id": "2a116af7-ff7e-4ce3-baed-5f4832534412",
   "metadata": {},
   "outputs": [],
   "source": [
    "import matplotlib.pyplot as plt\n",
    "import numpy as np"
   ]
  },
  {
   "cell_type": "markdown",
   "id": "711c1081-c115-43c8-8cb6-89a33df84743",
   "metadata": {},
   "source": [
    "### Step 2: Create a `Figure` and an `Axes` Object\n",
    "\n",
    "Instead of using `plt.plot()` directly, we will create a `Figure` and one or more `Axes` objects. The `Axes` is where the data will be plotted.\n",
    "\n",
    "```python\n",
    "# create a figure and an axes object with one subplot\n",
    "fig, ax = plt.subplots()\n",
    "# Note: plt.subplots() returns a tuple where fig is the Figure object that contains\n",
    "# everything, and ax is an Axes object that you can use to call plotting methods.\n",
    "```"
   ]
  },
  {
   "cell_type": "markdown",
   "id": "1c029f1d-9d32-445d-b981-311c71ec4fa5",
   "metadata": {},
   "source": [
    "### Step 3: Prepare Your Data\n",
    "\n",
    "Let's generate an array of x-values over which to compute the sine function. In this example, `x` will range from `0` to `2π`."
   ]
  },
  {
   "cell_type": "code",
   "execution_count": 32,
   "id": "636147c1-542c-4348-ae84-1db6adc805f7",
   "metadata": {},
   "outputs": [],
   "source": [
    "# generate an array of 100 values between 0 and 2*pi\n",
    "x = np.linspace(0, 2 * np.pi, 100)\n",
    "# compute the sine of each x value\n",
    "y = np.sin(x)"
   ]
  },
  {
   "cell_type": "markdown",
   "id": "5aa6f5fc-a796-495f-9926-1535b29f2629",
   "metadata": {},
   "source": [
    "### Step 4: Plot Data Using the `Axes` Object\n",
    "\n",
    "Use the Axes object's `plot()` method to create your plot. Unlike the `pyplot` interface, you call plotting methods directly on the `ax` object."
   ]
  },
  {
   "cell_type": "code",
   "execution_count": 36,
   "id": "82da2a90-6839-4342-9ac7-b5457b20530e",
   "metadata": {},
   "outputs": [
    {
     "data": {
      "text/plain": [
       "[<matplotlib.lines.Line2D at 0x2200f7ca0d0>]"
      ]
     },
     "execution_count": 36,
     "metadata": {},
     "output_type": "execute_result"
    },
    {
     "data": {
      "image/png": "[encoded data removed]",
      "text/plain": [
       "<Figure size 640x480 with 1 Axes>"
      ]
     },
     "metadata": {},
     "output_type": "display_data"
    }
   ],
   "source": [
    "# make your Figure and Axes objects\n",
    "fig, ax = plt.subplots()\n",
    "\n",
    "# plot the data on the Axes object\n",
    "ax.plot(x, y, label='sin(x)')"
   ]
  },
  {
   "cell_type": "markdown",
   "id": "5151b2fe-8650-4910-87f8-06072bda99f4",
   "metadata": {},
   "source": [
    "The `ax.plot()` function works similarly to `plt.plot()`, but it is associated with a specific `Axes` object.\n",
    "\n",
    "Adding a label parameter is useful when you need a legend to differentiate between multiple plots.\n",
    "\n",
    "### Step 5: Customize Your Plot\n",
    "\n",
    "You can use various methods of the `Axes` object to add labels, a title, and a grid to the plot. This makes your visualization clearer and more informative."
   ]
  },
  {
   "cell_type": "code",
   "execution_count": 41,
   "id": "ce39dd4e-79c8-47db-b0c4-b4f5d5fc6fcf",
   "metadata": {},
   "outputs": [
    {
     "data": {
      "image/png": "[encoded data removed]",
      "text/plain": [
       "<Figure size 640x480 with 1 Axes>"
      ]
     },
     "execution_count": 41,
     "metadata": {},
     "output_type": "execute_result"
    }
   ],
   "source": [
    "# set the x and y axis labels\n",
    "ax.set_xlabel('Angle (radians)')\n",
    "ax.set_ylabel('sin(x)')\n",
    "# set the title of the plot\n",
    "ax.set_title('Sine Wave Using Axes Objects')\n",
    "# enable a grid for easier visual inspection\n",
    "ax.grid(True)\n",
    "# add a legend to identify the plotted line\n",
    "ax.legend()\n",
    "# display the updated figure in jupyter by naming it at the end of the cell\n",
    "fig"
   ]
  },
  {
   "cell_type": "markdown",
   "id": "ecb87496-27d1-4ce4-89e5-1d38a9a722dd",
   "metadata": {},
   "source": [
    "Methods like `set_xlabel()`, `set_ylabel()`, and `set_title()` are straightforward ways to add descriptive text to your `Axes` (similar to the commands we used with `plt.plot()` as well).\n",
    "\n",
    "Enabling a grid (`ax.grid(True)`) helps with visually gauging the values on the plot.\n",
    "\n",
    "The `ax.legend()` method displays the legend on your plot based on the labels provided."
   ]
  },
  {
   "cell_type": "markdown",
   "id": "ec511ebe-8157-4144-970f-2e92675aa6b9",
   "metadata": {},
   "source": [
    "### Full Example Code\n",
    "\n",
    "Here’s the complete code snippet for plotting a sine wave using Matplotlib Axes objects:"
   ]
  },
  {
   "cell_type": "code",
   "execution_count": 43,
   "id": "6d57f178-948f-4bc1-97e1-0941d44857ff",
   "metadata": {},
   "outputs": [
    {
     "data": {
      "image/png": "[encoded data removed]",
      "text/plain": [
       "<Figure size 640x480 with 1 Axes>"
      ]
     },
     "metadata": {},
     "output_type": "display_data"
    }
   ],
   "source": [
    "import matplotlib.pyplot as plt\n",
    "import numpy as np\n",
    "\n",
    "# Step 1: Create a figure and an axes object\n",
    "fig, ax = plt.subplots()\n",
    "\n",
    "# Step 2: Generate data for a sine wave\n",
    "x = np.linspace(0, 2 * np.pi, 100)\n",
    "y = np.sin(x)\n",
    "\n",
    "# Step 3: Plot data on the Axes object\n",
    "ax.plot(x, y, label='sin(x)')\n",
    "\n",
    "# Step 4: Customize the plot\n",
    "ax.set_xlabel('Angle (radians)')\n",
    "ax.set_ylabel('sin(x)')\n",
    "ax.set_title('Sine Wave Using Axes Objects')\n",
    "ax.grid(True)\n",
    "ax.legend()\n",
    "\n",
    "# Step 5: Display the plot\n",
    "plt.show()"
   ]
  },
  {
   "cell_type": "markdown",
   "id": "0aff6994-bf1a-4f6e-9348-f1ae580ae43f",
   "metadata": {},
   "source": [
    "<div style=\"background-color: #28a745; color: white; padding: 12px; border-radius: 5px;\">\n",
    "  <h2 style=\"margin: 0;\">Try it Yourself: Plotting Radioactive Decay</h2>\n",
    "</div>"
   ]
  },
  {
   "cell_type": "markdown",
   "id": "d81148d4-ee0a-4bd6-87fc-f057b4955909",
   "metadata": {},
   "source": [
    "Radioactive decay is a phenomenon where a substance decreases in amount over time at a rate characterized by its half-life, ( $T_\\text{half}$ ). The half-life is the time required for half of the substance to decay. The decay process can be modeled by the formula:\n",
    "\n",
    "$A(t) = A_0 \\times \\left(\\frac{1}{2}\\right)^{t / T_\\text{half}}$\n",
    "\n",
    "where:\n",
    "- $A(t)$ is the remaining amount after time $t$,\n",
    "- $A_0 $ is the initial amount,\n",
    "- $T_\\text{half}$ is the half-life of the substance.\n",
    "\n",
    "### Your Tasks\n",
    "1. Write a function `calculate_decay(initial_amount, time, half_life)` that computes the remaining amount $A(t)$ using the formula given above.\n",
    "2. Use a `for` loop to compute the remaining amount for a range of time values. Store these time values in one list and the calculated remaining amounts in another list.\n",
    "3. Plot the computed values using Matplotlib. The x-axis should represent time in seconds, and the y-axis should represent the remaining amount of the substance in grams. Be sure to label your axes and give your plot a title."
   ]
  },
  {
   "cell_type": "code",
   "execution_count": 30,
   "id": "dcf1db73-b968-4f62-b96f-13c4ae9c3796",
   "metadata": {},
   "outputs": [],
   "source": [
    "import matplotlib.pyplot as plt\n",
    "\n",
    "# Curium-233 variable definitions\n",
    "initial_amount = 20  # grams of Curium 233\n",
    "half_life = 27       # half-life of Curium-233 in seconds\n",
    "\n",
    "# time-related variable definitions\n",
    "start_time = 0                        # seconds\n",
    "n_half_lifes = 5                      # number of half-lifes\n",
    "end_time = half_life * n_half_lifes   # seconds\n",
    "step_size = 3                         # only calculate for every 3 seconds"
   ]
  },
  {
   "cell_type": "code",
   "execution_count": 29,
   "id": "a05f4f3b-81eb-47fb-8edb-8c0ff178bea2",
   "metadata": {},
   "outputs": [
    {
     "data": {
      "image/png": "[encoded data removed]",
      "text/plain": [
       "<Figure size 640x480 with 1 Axes>"
      ]
     },
     "metadata": {},
     "output_type": "display_data"
    }
   ],
   "source": [
    "# TODO: Define the user-defined function\n",
    "def calculate_decay(A_initial, t, T_half):\n",
    "    A_final = \n",
    "    return A_final\n",
    "\n",
    "\n",
    "# lists to store time and mass values\n",
    "time_values = []\n",
    "amount_values = []\n",
    "\n",
    "# NOTE: we are using start/end/step for this so we only calculate\n",
    "# the half-life every 3 seconds. When you get your graph working,\n",
    "# take some time to edit the variables in the cell above to see\n",
    "# more of how you can use the `range()` function\n",
    "for t in range(start_time, end_time, step_size):\n",
    "    # TODO: calculate the current amount after some time t has passed\n",
    "    current_amount = \n",
    "    # TODO: add the relevant values to the lists\n",
    "    time_values.append()\n",
    "    amount_values.append()\n",
    "\n",
    "# TODO: Plot the results\n",
    "fig, ax = plt.subplots()\n",
    "ax.plot()\n",
    "# TODO: add your labels (WITH UNITS!)\n",
    "ax.set_xlabel()\n",
    "ax.set_ylabel()\n",
    "ax.set_title()\n",
    "ax.grid()\n",
    "plt.show()"
   ]
  },
  {
   "cell_type": "markdown",
   "id": "a4d4daf1-3a0d-41e2-86cd-6baf05005958",
   "metadata": {},
   "source": [
    "<div style=\"background-color: #007acc; color: white; padding: 12px; border-radius: 5px;\">\n",
    "  <h1 style=\"margin: 0;\">5. Challenge Problems</h1>\n",
    "</div>"
   ]
  },
  {
   "cell_type": "code",
   "execution_count": null,
   "id": "f28ecf67-fbf2-4223-90d4-1e896c5a77b5",
   "metadata": {},
   "outputs": [],
   "source": []
  },
  {
   "cell_type": "code",
   "execution_count": null,
   "id": "36d0cfee-82b9-4f34-8a57-53e7bea6bc88",
   "metadata": {},
   "outputs": [],
   "source": []
  },
  {
   "cell_type": "code",
   "execution_count": null,
   "id": "ee33b3e6-82e3-4b6d-bf2c-81280dd5701a",
   "metadata": {},
   "outputs": [],
   "source": []
  },
  {
   "cell_type": "code",
   "execution_count": null,
   "id": "54cbbecf-5546-4a11-b336-779bffd94cb0",
   "metadata": {},
   "outputs": [],
   "source": []
  },
  {
   "cell_type": "code",
   "execution_count": null,
   "id": "17d2d511-7601-4b91-9e3a-fc1a16cc1a67",
   "metadata": {},
   "outputs": [],
   "source": []
  }
 ],
 "metadata": {
  "kernelspec": {
   "display_name": "Python 3 (ipykernel)",
   "language": "python",
   "name": "python3"
  },
  "language_info": {
   "codemirror_mode": {
    "name": "ipython",
    "version": 3
   },
   "file_extension": ".py",
   "mimetype": "text/x-python",
   "name": "python",
   "nbconvert_exporter": "python",
   "pygments_lexer": "ipython3",
   "version": "3.11.11"
  }
 },
 "nbformat": 4,
 "nbformat_minor": 5
}
