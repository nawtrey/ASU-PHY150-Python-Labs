{
 "cells": [
  {
   "cell_type": "markdown",
   "id": "80d7faec-9e1a-44b4-bf0e-3884a77ae186",
   "metadata": {},
   "source": [
    "**Sections:**\n",
    "- **Loops:** motivate by showing a repetative task, use indices and names\n",
    "- **Functions:** defining, calling, call signature, importing from other libraries\n",
    "- **Plotting:** projectile motion problem, \n",
    "- **Classes:** Activity: Make the same class as in Python Lab 1 using classes instead"
   ]
  },
  {
   "cell_type": "markdown",
   "id": "a8f8af9c-e22e-4c0a-885c-deaa372315aa",
   "metadata": {},
   "source": [
    "# Python Loops"
   ]
  },
  {
   "cell_type": "markdown",
   "id": "5eb9017f-cb0b-458e-9270-fab6f9f62b31",
   "metadata": {},
   "source": [
    "## What is a `for` loop?\n",
    "\n",
    "A `for` loop in Python is used to _iterate_ over a sequence of items — such as a `list`, a `string`, a `tuple`, or anything that's _iterable_. It allows you to perform an operation _repeatedly_, once for each item in that sequence."
   ]
  },
  {
   "cell_type": "code",
   "execution_count": 8,
   "id": "449db1cf-c14a-49d7-a497-8937841a2ee3",
   "metadata": {},
   "outputs": [
    {
     "name": "stdout",
     "output_type": "stream",
     "text": [
      "Tuple example: 1\n",
      "Tuple example: 2\n",
      "Tuple example: 3\n",
      "Tuple example: 4\n",
      "String example: a\n",
      "String example: b\n",
      "String example: c\n",
      "String example: d\n",
      "List example: 2\n",
      "List example: 3\n",
      "List example: 5\n",
      "List example: 8\n"
     ]
    }
   ],
   "source": [
    "# iterating over elements in a tuple\n",
    "for number in (1, 2, 3, 4):\n",
    "    print(\"Tuple example:\", number)\n",
    "\n",
    "# iterating over characters in a string\n",
    "for letter in \"abcd\":\n",
    "    print(\"String example:\", letter)\n",
    "\n",
    "# iterating over elements in a list\n",
    "for element in [2, 3, 5, 8]:\n",
    "    print(\"List example:\", element)"
   ]
  },
  {
   "cell_type": "markdown",
   "id": "b0218259-9f25-4487-9949-38131e96dca0",
   "metadata": {},
   "source": [
    "# Functions"
   ]
  },
  {
   "cell_type": "markdown",
   "id": "b1c2b631-0644-4b22-b487-07bb53fa1d6e",
   "metadata": {},
   "source": [
    "Functions in programming serve a similar purpose as mathematical functions or operators. But more generally, a function is a user-defined object in a program that allows you to reuse code. This can be useful for tasks where you have a complicated set of commands you want to apply to a bunch of data. "
   ]
  },
  {
   "cell_type": "markdown",
   "id": "0f6afc83-a168-4f59-af13-85abd11433fe",
   "metadata": {},
   "source": [
    "### Defining a Function: Syntax"
   ]
  },
  {
   "cell_type": "markdown",
   "id": "9306fd06-5f4d-401c-9a52-8372c87ba5cb",
   "metadata": {},
   "source": [
    "In Python, a function is defined using the following structure:\n",
    "\n",
    "```python\n",
    "def FUNCTION_NAME(ARG_1, ARG_2):\n",
    "    RESULT = ARG_1 + ARG_2\n",
    "    return RESULT\n",
    "```\n",
    "\n",
    "Let's discuss some of the important elements:\n"
   ]
  },
  {
   "cell_type": "markdown",
   "id": "36228417-1910-4df5-9577-f0d8d2d3e84b",
   "metadata": {},
   "source": [
    "```python\n",
    "def simple_function(x, y):\n",
    "    if x > y:\n",
    "        return x\n",
    "    else:\n",
    "        return y\n",
    "```"
   ]
  },
  {
   "cell_type": "markdown",
   "id": "cd9b1544-44bb-4bdb-81b0-920b76bda1a6",
   "metadata": {},
   "source": [
    "# Importing Functions (i.e., Python libraries)"
   ]
  },
  {
   "cell_type": "markdown",
   "id": "fc781b48-7789-4796-ad63-c8197ddf3cdd",
   "metadata": {},
   "source": [
    "### Python Modules"
   ]
  },
  {
   "cell_type": "markdown",
   "id": "46881a05-11e7-45a0-b1d5-39e3b10ea9e2",
   "metadata": {},
   "source": [
    "### Importing \"Internal\" Libraries (i.e., Python modules)"
   ]
  },
  {
   "cell_type": "markdown",
   "id": "4f1f0310-cf30-42de-854b-01f13f9aaf41",
   "metadata": {},
   "source": [
    "Over time Python has incorporated many functions into its standard modules (the Python 3.13 Module Index can be viewed [here](https://docs.python.org/3/py-modindex.html)). These modules contain functions that you can import at any time and use at-will. For example, one of these modules, [itertools](https://docs.python.org/3/library/itertools.html), is a good module to import for doing combinatorial mathematics.\n",
    "\n",
    "You can import the module by typing\n",
    "```python\n",
    "import itertools\n",
    "```\n",
    "This will allow you to use any of the functions in `itertools` by typing `itertools.FUNCTION_NAME`.\n",
    "\n",
    "Alternatively, you can use the star/asterisk to retrive _all_ functions in the module by typing\n",
    "```python\n",
    "from itertools import *\n",
    "```\n",
    "\n",
    "This will give you access to all the available functions in that module (more specifically, it adds all the functions in the module to your namespace). Generally speaking you do not want to import any code you don't need (this can cause some issues if you're not careful), so it is generally recommended to only import the functions you need. This can be done by typing\n",
    "\n",
    "```python\n",
    "from itertools import combinations\n",
    "```"
   ]
  },
  {
   "cell_type": "code",
   "execution_count": 9,
   "id": "deb07324-7230-40b2-9072-7722ce65a22f",
   "metadata": {},
   "outputs": [
    {
     "data": {
      "text/plain": [
       "[('a', 'b'), ('a', 'c'), ('a', 'd'), ('b', 'c'), ('b', 'd'), ('c', 'd')]"
      ]
     },
     "execution_count": 9,
     "metadata": {},
     "output_type": "execute_result"
    }
   ],
   "source": [
    "from itertools import combinations\n",
    "list_of_labels = [\"a\", \"b\", \"c\", \"d\"]\n",
    "list(combinations(list_of_labels, r=2))"
   ]
  },
  {
   "cell_type": "markdown",
   "id": "78db5293-085c-4880-a226-c21c93ce06b2",
   "metadata": {},
   "source": [
    "### Importing \"External\" Libraries"
   ]
  }
 ],
 "metadata": {
  "kernelspec": {
   "display_name": "Python 3 (ipykernel)",
   "language": "python",
   "name": "python3"
  },
  "language_info": {
   "codemirror_mode": {
    "name": "ipython",
    "version": 3
   },
   "file_extension": ".py",
   "mimetype": "text/x-python",
   "name": "python",
   "nbconvert_exporter": "python",
   "pygments_lexer": "ipython3",
   "version": "3.11.11"
  }
 },
 "nbformat": 4,
 "nbformat_minor": 5
}
