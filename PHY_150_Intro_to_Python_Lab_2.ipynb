{
 "cells": [
  {
   "cell_type": "markdown",
   "id": "ea24084d-1489-49ce-87a0-013a29bdbbc8",
   "metadata": {},
   "source": [
    "# PHY 150 Python Lab 2: Loops, Functions, Plotting, and Classes"
   ]
  },
  {
   "cell_type": "markdown",
   "id": "bc16ad3d-20f2-491a-b0a1-dedea20b1259",
   "metadata": {},
   "source": [
    "Nikolaus Awtrey\\\n",
    "Peter Smith\\\n",
    "Kevin Trinh\\\n",
    "Allison Boley\n",
    "\n",
    "If you want to review the content from **Lab 1**, you can view the entire notebook on [**GitHub**](https://github.com/nawtrey/ASU-PHY150-Python-Labs/blob/main/PHY_150_Intro_to_Python_Lab_1.ipynb)."
   ]
  },
  {
   "cell_type": "markdown",
   "id": "1fe5a192-5dce-42ca-9b55-6eed0ad884bb",
   "metadata": {},
   "source": [
    "## Lab Contents:\n",
    "1. [**Loops**](#1.-Python-Loops)\n",
    "2. [**Functions**](#2.-Functions)\n",
    "3. [**Importing Libraries**](#3.-Importing-Libraries)\n",
    "4. [**Plotting in Python**](#4.-Plotting-in-Python)\n",
    "5. [**Challenge Problems**](#5.-Challenge-Problems)"
   ]
  },
  {
   "cell_type": "markdown",
   "id": "a8f8af9c-e22e-4c0a-885c-deaa372315aa",
   "metadata": {},
   "source": [
    "<div style=\"background-color: #007acc; color: white; padding: 12px; border-radius: 5px;\">\n",
    "  <h1 style=\"margin: 0;\">1. Python Loops</h1>\n",
    "</div>"
   ]
  },
  {
   "cell_type": "markdown",
   "id": "5eb9017f-cb0b-458e-9270-fab6f9f62b31",
   "metadata": {},
   "source": [
    "## What is a `for` loop?\n",
    "\n",
    "A `for` loop in Python is used to _iterate_ over a sequence of items — such as a `list`, a `string`, a `tuple`, or anything that's _iterable_. It allows you to perform an operation _repeatedly_, once for each item in that sequence. "
   ]
  },
  {
   "cell_type": "code",
   "execution_count": 8,
   "id": "449db1cf-c14a-49d7-a497-8937841a2ee3",
   "metadata": {},
   "outputs": [
    {
     "name": "stdout",
     "output_type": "stream",
     "text": [
      "Tuple example: 1\n",
      "Tuple example: 2\n",
      "Tuple example: 3\n",
      "Tuple example: 4\n",
      "String example: a\n",
      "String example: b\n",
      "String example: c\n",
      "String example: d\n",
      "List example: 2\n",
      "List example: 3\n",
      "List example: 5\n",
      "List example: 8\n"
     ]
    }
   ],
   "source": [
    "# iterating over elements in a tuple\n",
    "for number in (1, 2, 3, 4):\n",
    "    print(\"Tuple example:\", number)\n",
    "\n",
    "# iterating over characters in a string\n",
    "for letter in \"abcd\":\n",
    "    print(\"String example:\", letter)\n",
    "\n",
    "# iterating over elements in a list\n",
    "for element in [2, 3, 5, 8]:\n",
    "    print(\"List example:\", element)"
   ]
  },
  {
   "cell_type": "markdown",
   "id": "bf6466f5-b4f2-4a0b-b152-9c34e753a462",
   "metadata": {},
   "source": [
    "## Code Blocks"
   ]
  },
  {
   "cell_type": "markdown",
   "id": "6aa0655d-9e4e-4922-bab4-39b28cb88dfb",
   "metadata": {},
   "source": [
    "In Python, **code blocks** are used to group together statements that should be executed as part of a loop, function, or condition. Unlike many other programming languages, Python _does not_ use curly braces (`{}`) to define blocks. Instead, Python relies on _indentation_.\n",
    "\n",
    "In a `for` loop, everything in the **code block** is executed for each iteration. \n",
    "\n",
    "```python\n",
    "for item in sequence:\n",
    "    # This is a code block\n",
    "    # All of this will run once for each item in the sequence\n",
    "    print(item)\n",
    "    print(\"Still inside the loop\")\n",
    "\n",
    "# This is outside the loop\n",
    "print(\"Done!\")\n",
    "```"
   ]
  },
  {
   "cell_type": "markdown",
   "id": "dc446590-9942-4c4a-be6f-bbd3b222b801",
   "metadata": {},
   "source": [
    "<div style=\"border-left: 5px solid goldenrod; padding: 10px; background-color: #fff8dc;\">\n",
    "  <strong>Note:</strong> Any code that is indented under the <code>for</code> loop line is part of the loop’s block. As soon as you stop indenting, you’re outside the loop. This also applies to conditional statements and functions (which will be addressed below).\n",
    "</div>"
   ]
  },
  {
   "cell_type": "markdown",
   "id": "911e4c3a-534c-432f-9098-c598ac064154",
   "metadata": {},
   "source": [
    "A **common mistake** in Python is misaligned or missing indentations - \n",
    "\n",
    "```python\n",
    "for i in range(3):\n",
    "print(i)   # ❌ This will cause an IndentationError\n",
    "```\n",
    "\n",
    "The code block _must be indented consistently_. Most code editors (such as Jupyter) automatically use 4 spaces per indentation level."
   ]
  },
  {
   "cell_type": "markdown",
   "id": "bfd352fc-b14f-47bd-950e-40d73277f2e7",
   "metadata": {},
   "source": [
    "### Why use a `for` loop?"
   ]
  },
  {
   "cell_type": "markdown",
   "id": "1bfcf6f4-abb1-4b2b-ada9-c8cebcb1325c",
   "metadata": {},
   "source": [
    "`For` loops are great for performing repetative tasks and help keep your code simple and easy to read. \n",
    "\n",
    "For example, say we had some list containing various alphabetic characters -"
   ]
  },
  {
   "cell_type": "code",
   "execution_count": 8,
   "id": "3333c7d4-059c-4b5c-a350-d3cdbf15be4c",
   "metadata": {},
   "outputs": [],
   "source": [
    "my_list = [\"Alpha\", \"Beta\", \"Gamma\"]"
   ]
  },
  {
   "cell_type": "markdown",
   "id": "e3b4a580-d757-40c6-bb0c-edb6b115ec5c",
   "metadata": {},
   "source": [
    "What if we wanted to add a bunch of _new_ characters? We could _append_ them one by one -"
   ]
  },
  {
   "cell_type": "code",
   "execution_count": 9,
   "id": "5526205d-077f-40ec-b7fd-2a91b95b8177",
   "metadata": {},
   "outputs": [
    {
     "name": "stdout",
     "output_type": "stream",
     "text": [
      "['Alpha', 'Beta', 'Gamma', 'Delta', 'Epsilon', 'Zeta', 'Theta']\n"
     ]
    }
   ],
   "source": [
    "my_list.append(\"Delta\")\n",
    "my_list.append(\"Epsilon\")\n",
    "my_list.append(\"Zeta\")\n",
    "my_list.append(\"Theta\")\n",
    "print(my_list)"
   ]
  },
  {
   "cell_type": "markdown",
   "id": "59876fe5-9b6b-4c65-81db-70c227ee6186",
   "metadata": {},
   "source": [
    "Alternatively, we could append them in a for loop - "
   ]
  },
  {
   "cell_type": "code",
   "execution_count": 10,
   "id": "597c1277-f190-4ce0-b26b-8c33e9fbb28d",
   "metadata": {},
   "outputs": [
    {
     "name": "stdout",
     "output_type": "stream",
     "text": [
      "['Alpha', 'Beta', 'Gamma', 'Delta', 'Epsilon', 'Zeta', 'Theta']\n"
     ]
    }
   ],
   "source": [
    "my_list = [\"Alpha\", \"Beta\", \"Gamma\"]\n",
    "\n",
    "for element in (\"Delta\", \"Epsilon\", \"Zeta\", \"Theta\"):\n",
    "    my_list.append(element)\n",
    "\n",
    "print(my_list)"
   ]
  },
  {
   "cell_type": "markdown",
   "id": "0a2b4674-bbfa-4e7d-a3e9-8a25b78728d4",
   "metadata": {},
   "source": [
    "### Looping Over Indices"
   ]
  },
  {
   "cell_type": "markdown",
   "id": "6d13a9ab-fd6a-462a-baef-96943324b64b",
   "metadata": {},
   "source": [
    "Python has built-in functions that allow you to iterate over _indices_ instead of _elements_. An **index** is the position of an item in a _sequence_ like a `list`, `string`, or `tuple`. We have already used indices in Lab 1 but now you know what their proper name is. \n",
    "\n",
    "But why would we want to loop over indices instead of the elements in the list directly?\n",
    "\n",
    "You loop over **indices** when:\n",
    "- You want to access multiple lists in a single loop\n",
    "- You need to modify elements in place\n",
    "- You want to use the index number for labeling, math, or control\n",
    "\n",
    "For example, say we have a list of planet names and another list of their distances.\n",
    "\n",
    "```python\n",
    "planets = [\"Mercury\", \"Venus\", \"Earth\", \"Mars\"]\n",
    "distances = [57.9e6, 108.2e6, 149.6e6, 227.9e6]  # km\n",
    "```\n",
    "\n",
    "Both lists have four elements, so if we create a `for` loop that performs four iterations we can access the elements in _both_ lists just by using their _indices_ (i.e., 0, 1, 2, 3). To do this we can use the Python built-in functions `range()` and `len()`. `len(my_list)` will output the integer number of elements in `my_list`, while `range()` will provide a new index for each iteration starting at `0` and ending with the input number (i.e., `4`).\n",
    "\n",
    "Let's start by defining our lists and trying out `len()` - "
   ]
  },
  {
   "cell_type": "code",
   "execution_count": 13,
   "id": "b5136c76-8a30-4bb3-8014-bf3afe3d8f25",
   "metadata": {},
   "outputs": [
    {
     "name": "stdout",
     "output_type": "stream",
     "text": [
      "Number of elements in `planets`: 4\n",
      "Number of elements in `distances`: 4\n"
     ]
    }
   ],
   "source": [
    "planets = [\"Mercury\", \"Venus\", \"Earth\", \"Mars\"]\n",
    "distances = [57.9e6, 108.2e6, 149.6e6, 227.9e6]  # km\n",
    "\n",
    "print(\"Number of elements in `planets`:\", len(planets))\n",
    "print(\"Number of elements in `distances`:\", len(distances))"
   ]
  },
  {
   "cell_type": "markdown",
   "id": "bb1cbdf4-3de2-435f-b58c-43a294d665b3",
   "metadata": {},
   "source": [
    "Now let's try out the `range()` function, using the length of `planets` - "
   ]
  },
  {
   "cell_type": "code",
   "execution_count": 14,
   "id": "871bb5f1-555a-4998-b3af-8141b0798e8e",
   "metadata": {},
   "outputs": [
    {
     "name": "stdout",
     "output_type": "stream",
     "text": [
      "0\n",
      "1\n",
      "2\n",
      "3\n"
     ]
    }
   ],
   "source": [
    "# we will use `index` to illustrate this example, but it \n",
    "# is common practice to use single-letter names like `i`\n",
    "for index in range(len(planets)):\n",
    "    print(index)"
   ]
  },
  {
   "cell_type": "markdown",
   "id": "3651d7e4-613a-439c-9b34-d822cce46774",
   "metadata": {},
   "source": [
    "Finally, let's try to print the elements of both lists using their indices. "
   ]
  },
  {
   "cell_type": "code",
   "execution_count": 19,
   "id": "cab92eaf-5581-498b-9d49-8bef32c643ed",
   "metadata": {},
   "outputs": [
    {
     "name": "stdout",
     "output_type": "stream",
     "text": [
      "0 Mercury 57900000.0\n",
      "1 Venus 108200000.0\n",
      "2 Earth 149600000.0\n",
      "3 Mars 227900000.0\n"
     ]
    }
   ],
   "source": [
    "# here we will use `i` since it is a very common choice\n",
    "# for the index name\n",
    "for i in range(len(planets)):\n",
    "    # retrieve the elements of the list using `my_list[i]`\n",
    "    print(i, planets[i], distances[i])"
   ]
  },
  {
   "cell_type": "markdown",
   "id": "7e75ec6f-5b14-48e5-9449-fa2cc5350457",
   "metadata": {},
   "source": [
    "Another built-in Python function worth mentioning is the `enumerate()` function. This function takes a sequence (like a `list`, `tuple`, or `dict`) and creates an index for them as well. \n",
    "\n",
    "Let's print the same information using `enumerate()` instead of `len()` and `range()` - "
   ]
  },
  {
   "cell_type": "code",
   "execution_count": 20,
   "id": "5d343ff4-fbcc-4a0c-b8a9-61bde764908f",
   "metadata": {},
   "outputs": [
    {
     "name": "stdout",
     "output_type": "stream",
     "text": [
      "0 Mercury 57900000.0\n",
      "1 Venus 108200000.0\n",
      "2 Earth 149600000.0\n",
      "3 Mars 227900000.0\n"
     ]
    }
   ],
   "source": [
    "# using `enumerate`, we have to assign both the\n",
    "# index name `i` and the element name `planet`\n",
    "for i, planet in enumerate(planets):\n",
    "    # since each element is already being assigned\n",
    "    # to `planet`, we no longer need to retrieve\n",
    "    # the planet name using the index. But since\n",
    "    # we are not iterating over the distances, \n",
    "    # we still have to retrieve each distance\n",
    "    # using the index `i`\n",
    "    print(i, planet, distances[i])"
   ]
  },
  {
   "cell_type": "markdown",
   "id": "7189b824-8d83-46c6-b357-d6e13eeaeeb4",
   "metadata": {},
   "source": [
    "#### When to Use a `for` Loop \n",
    "\n",
    "_Use_ a `for` loop when:\n",
    "- You want to go through every item in a list, tuple, string, or dictionary.\n",
    "- You want to repeat an action a known number of times.\n",
    "- You want to collect results, such as computing values and storing them in a list.\n",
    "- You're working with arrays, simulation steps, or multiple data points.\n",
    "\n",
    "#### When **Not** to Use a `for` Loop\n",
    "\n",
    "_Avoid_ `for` loops when:\n",
    "- You’re modifying a list while iterating over it — this can cause bugs or unexpected behavior.\n",
    "- You're only trying to repeat something until a condition is met — there are special loops called `while` loops for that instead."
   ]
  },
  {
   "cell_type": "markdown",
   "id": "2281840e-78a4-4ba5-8568-20458a8e81bf",
   "metadata": {},
   "source": [
    "<div style=\"background-color: #28a745; color: white; padding: 12px; border-radius: 5px;\">\n",
    "  <h2 style=\"margin: 0;\">Try it Yourself: For Loop Edition</h2>\n",
    "</div>"
   ]
  },
  {
   "cell_type": "markdown",
   "id": "4ee532ee-ff14-4684-8200-f8fa7613195c",
   "metadata": {},
   "source": [
    "### Problem 1: Iterate over list elements\n",
    "\n",
    "You are given a list of masses (in kg). Use the equation $E = mc^2$, where $c = 2.998 \\times 10^8 \\, \\text{m/s}$, to calculate and print the energy of each mass."
   ]
  },
  {
   "cell_type": "code",
   "execution_count": null,
   "id": "c57e29ad-0bff-4605-9064-ad84783fef7b",
   "metadata": {},
   "outputs": [],
   "source": [
    "# speed of light in m/s\n",
    "c = 2.998e8\n",
    "\n",
    "# list of masses in kg\n",
    "masses = [1, 5, 10]\n",
    "\n",
    "# TODO: create your for loop and print the energy using E = mc^2\n",
    "for ___ in ____:\n",
    "    # calculate the energy\n",
    "    energy = mass*c*c\n",
    "    print(f\"The calculated energy for {mass} kg mass: {energy:.2e} J\")"
   ]
  },
  {
   "cell_type": "markdown",
   "id": "5afa4259-a6df-47fb-bf2b-3ea007960eb4",
   "metadata": {},
   "source": [
    "### Problem 2: Iterate over indices & list elements\n",
    "\n",
    "You are given a list of usernames, and you want to generate custom email addresses for each user. The company’s email format includes a user ID number (starting from 100) followed by the username, like the following:\n",
    "\n",
    "```\n",
    "100_alice@example.com\n",
    "101_bob@example.com\n",
    "```\n",
    "\n",
    "Use a `for` loop with `enumerate()` to:\n",
    "\n",
    "1. Combine the index (as a user ID) and the username\n",
    "2. Generate an email string in the format: `\"ID_username@example.com\"`\n",
    "3. Store each email in a new list called `email_list`\n",
    "4. Print the list of emails at the end"
   ]
  },
  {
   "cell_type": "code",
   "execution_count": null,
   "id": "41c47879-4158-46c6-818f-fd687ce6df4a",
   "metadata": {},
   "outputs": [],
   "source": [
    "# your starting usernames\n",
    "usernames = [\"alice\", \"bob\", \"charlie\", \"dana\"]\n",
    "\n",
    "# an empty list to store your new email addresses\n",
    "email_list = []\n",
    "\n",
    "# TODO: create a for loop using enumerate\n",
    "for __, name in enumerate(_______):\n",
    "    # TODO: create the username\n",
    "    user_id = 100 + ___\n",
    "\n",
    "    email = f\"{user_id}_{name}@example.com\"\n",
    "    # add the new email to the email list\n",
    "    email_list.append(email)\n",
    "\n",
    "# print all generated emails\n",
    "print(email_list)"
   ]
  },
  {
   "cell_type": "markdown",
   "id": "e825275c-1230-43fa-9dfe-c6f33a792513",
   "metadata": {},
   "source": [
    "### Problem 3: Iterate over indices\n",
    "\n",
    "You're analyzing the motion of a group of objects. You have a list of their masses (in kg) and a separate list of their velocities (in m/s). You want to calculate their kinetic energy using the formula:\n",
    "\n",
    "$$ KE = \\frac{1}{2}mv^2 $$\n",
    "\n",
    "#### Your Task\n",
    "Use a `for` loop with `range()` and `len()` to:\n",
    "\n",
    "1. Access each mass and its corresponding velocity **by index**\n",
    "2. Calculate the kinetic energy for each object\n",
    "3. Print the result "
   ]
  },
  {
   "cell_type": "code",
   "execution_count": null,
   "id": "0f87e259-a58e-42b6-9c9f-0db3a0b98f9f",
   "metadata": {},
   "outputs": [],
   "source": [
    "# object masses in kg\n",
    "masses = [2.0, 4.5, 1.2, 3.4]\n",
    "\n",
    "# object velocities in m/s\n",
    "velocities = [3.0, 2.0, 5.5, 1.8]\n",
    "\n",
    "# TODO: loop over indices using len() and range()\n",
    "for ___ in ___:\n",
    "    # TODO: retrieve the mass and velocity using indices\n",
    "    mass = ____\n",
    "    velocity = ____\n",
    "\n",
    "    # Calculate kinetic energy\n",
    "    ke = 0.5 * mass * velocity ** 2\n",
    "\n",
    "    # Print result\n",
    "    print(f\"Object {i}: KE = {ke:.2e} J\")"
   ]
  },
  {
   "cell_type": "markdown",
   "id": "b0218259-9f25-4487-9949-38131e96dca0",
   "metadata": {},
   "source": [
    "<div style=\"background-color: #007acc; color: white; padding: 12px; border-radius: 5px;\">\n",
    "  <h1 style=\"margin: 0;\">2. Functions</h1>\n",
    "</div>"
   ]
  },
  {
   "cell_type": "markdown",
   "id": "f39dcbd3-b210-42ca-8759-2cd1a70cc43f",
   "metadata": {},
   "source": [
    "## What is a Function?\n",
    "\n",
    "A *function* is a reusable block of code that performs a specific task. Functions help you *organize*, *simplify*, and *reuse* your code without repeating yourself."
   ]
  },
  {
   "cell_type": "markdown",
   "id": "6a7c2bf3-4231-4718-8ff7-37306e3ec7cd",
   "metadata": {},
   "source": [
    "## Why Use Functions?\n",
    "\n",
    "- Avoid repeating code\n",
    "- Break problems into smaller pieces\n",
    "- Improve code readability\n",
    "- Test and debug specific parts of code easily\n",
    "- Reuse logic in other programs or notebooks"
   ]
  },
  {
   "cell_type": "markdown",
   "id": "e17fe9ab-9995-46b2-9423-69ece902f3a6",
   "metadata": {},
   "source": [
    "## Function Syntax\n",
    "\n",
    "```python\n",
    "def function_name(parameters):\n",
    "    # code block (function body)\n",
    "    return result  # optional\n",
    "```\n",
    "\n",
    "- `def` — keyword to define a function\n",
    "- `function_name` — the name of the function\n",
    "- `parameters` — inputs to the function (optional)\n",
    "- `return` — sends back a result from the function (optional)"
   ]
  },
  {
   "cell_type": "markdown",
   "id": "d845477a-fb61-47a0-bf5c-783d0839108b",
   "metadata": {},
   "source": [
    "### Calling a Function\n",
    "\n",
    "A *function call* is how you use a function that’s been defined.\n",
    "\n",
    "```python\n",
    "def square(x):\n",
    "    return x * x\n",
    "\n",
    "result = square(5)  # <--- This is the function call\n",
    "print(result)       # Output: 25\n",
    "```\n",
    "\n",
    "- The function `square()` is defined.\n",
    "- The call `square(5)` invokes the function with `5` as an argument.\n",
    "- The result is stored in `result` and printed."
   ]
  },
  {
   "cell_type": "markdown",
   "id": "4515d4be-ab2d-437f-82ae-f4f11dcc5e31",
   "metadata": {},
   "source": [
    "### Function (Call) Signature\n",
    "\n",
    "A **function signature** is the combination of:\n",
    "\n",
    "- The function name\n",
    "- The number and type of parameters it accepts\n",
    "\n",
    "```python\n",
    "def kinetic_energy(mass, velocity):\n",
    "    return 0.5 * mass * velocity ** 2\n",
    "```\n",
    "\n",
    "- Function name: `kinetic_energy`\n",
    "- Parameters: `mass`, `velocity`\n",
    "\n",
    "This tells you what the function expects and what it returns."
   ]
  },
  {
   "cell_type": "markdown",
   "id": "7fc87f28-dde3-4173-ad27-b6a3f5f9b431",
   "metadata": {},
   "source": [
    "## Types of Function Parameters\n",
    "\n",
    "Python supports several kinds of parameters to make functions flexible, but we will focus on two: Positional and Default parameters.\n",
    "\n",
    "### Positional Parameters\n",
    "**Positional parameters** are called positional because their position in the call signature matters. Positional parameters must be passed in the _correct order_ or the function will not perform its intended purpose."
   ]
  },
  {
   "cell_type": "code",
   "execution_count": null,
   "id": "4d4ea38d-ef6f-4817-8fd6-f715e32acf84",
   "metadata": {},
   "outputs": [],
   "source": [
    "def greet(greeting, name):\n",
    "    print(f\"{greeting} {name}!\")\n",
    "\n",
    "greet(\"Alice\", \"Hello\")\n",
    "greet(\"Hello\", \"Alice\")"
   ]
  },
  {
   "cell_type": "markdown",
   "id": "b284bd2b-dd2c-4c0c-a8ab-e9c148c4c0b2",
   "metadata": {},
   "source": [
    "### Default Parameters\n",
    "**Default parameters** are (as the name might suggest) parameters with default values. This allows you to call the function with certain default values without having to specify them in every single call signature. Run the cell below to see how default parameters affect the function calls. "
   ]
  },
  {
   "cell_type": "code",
   "execution_count": 1,
   "id": "d68640b4-afcd-47d5-a344-cf623709307b",
   "metadata": {},
   "outputs": [
    {
     "name": "stdout",
     "output_type": "stream",
     "text": [
      "Hello, Charlie!\n",
      "Welcome, Dana!\n"
     ]
    }
   ],
   "source": [
    "def greet(name, greeting=\"Hello\"):\n",
    "    print(f\"{greeting}, {name}!\")\n",
    "\n",
    "greet(\"Charlie\")\n",
    "greet(\"Dana\", \"Welcome\")"
   ]
  },
  {
   "cell_type": "markdown",
   "id": "630d4ced-e400-418a-bd42-713ca61dcc57",
   "metadata": {},
   "source": [
    "Additionally, you can name parameters explicitly (called **keyword arguments**) when calling your function:"
   ]
  },
  {
   "cell_type": "code",
   "execution_count": 2,
   "id": "c903fb22-7d02-49b1-a4dd-126eb30d2cc1",
   "metadata": {},
   "outputs": [
    {
     "name": "stdout",
     "output_type": "stream",
     "text": [
      "Hi, Bob!\n"
     ]
    }
   ],
   "source": [
    "greet(name=\"Bob\", greeting=\"Hi\")"
   ]
  },
  {
   "cell_type": "markdown",
   "id": "61bb0674-f093-4a21-bd90-521d59f649c7",
   "metadata": {},
   "source": [
    "This makes your code more readable and clear."
   ]
  },
  {
   "cell_type": "markdown",
   "id": "260d5bbd-c36a-494f-8a0c-68e7b360f2a6",
   "metadata": {},
   "source": [
    "<div style=\"border-left: 5px solid goldenrod; padding: 10px; background-color: #fff8dc;\"> <strong>Note:</strong>\n",
    "When defining a function, default parameters must be listed <i>last</i>. You <b>cannot</b> have <i>positional parameters</i> after any <i>default parameters</i>.\n",
    "</div>"
   ]
  },
  {
   "cell_type": "markdown",
   "id": "ab7d9b16-53c0-4957-985b-9db829ee8e16",
   "metadata": {},
   "source": [
    "### Important Considerations:\n",
    "- If you don’t use a return statement, the function returns `None`.\n",
    "- You can define functions anywhere, but they must be called to run.\n",
    "- Parameters are local to the function—they don’t affect variables outside unless returned or modified globally."
   ]
  },
  {
   "cell_type": "markdown",
   "id": "63448c91-09f6-4c57-98d1-c91e08b2a8e3",
   "metadata": {},
   "source": [
    "## Function Vocab Summary"
   ]
  },
  {
   "cell_type": "markdown",
   "id": "909aebc1-6ae3-48b1-9a41-ca6b00a45ff5",
   "metadata": {},
   "source": [
    "| Concept         | Description                                             |\n",
    "|-----------------|---------------------------------------------------------|\n",
    "| `def`           | Defines a function                                      |\n",
    "| Function call   | Executes (calls) the function with specific arguments   |\n",
    "| Signature       | The function’s name and its parameter list              |\n",
    "| Positional args | Arguments passed by position (in order)                |\n",
    "| Default args    | Parameters with default values (can be omitted)         |\n",
    "| Keyword args    | Arguments passed using `name=value` format              |"
   ]
  },
  {
   "cell_type": "markdown",
   "id": "65b1a347-147f-419b-94dd-9a2e128f6ede",
   "metadata": {},
   "source": [
    "<div style=\"background-color: #28a745; color: white; padding: 12px; border-radius: 5px;\">\n",
    "  <h2 style=\"margin: 0;\">Try it Yourself: Function Edition</h2>\n",
    "</div>"
   ]
  },
  {
   "cell_type": "markdown",
   "id": "691a3a57-a875-4b82-93f6-6dea79dee73b",
   "metadata": {},
   "source": [
    "### Problem 1: Celsius to Fahrenheit\n",
    "\n",
    "Write a function called c_to_f that takes a temperature in Celsius and returns the temperature in Fahrenheit.\n",
    "\n",
    "Use the formula:\n",
    "\n",
    "$$ F = \\frac{9}{5}C + 32 $$\n",
    "\n",
    "#### Your Tasks:\n",
    "- Define the function `c_to_f(celsius)`\n",
    "- Return the converted temperature\n",
    "- Call the function with `c_to_f(0)` and `c_to_f(100)`"
   ]
  },
  {
   "cell_type": "code",
   "execution_count": null,
   "id": "4fcd1b10-2cd3-45cb-ad0c-106c42c82e25",
   "metadata": {},
   "outputs": [],
   "source": [
    "# define the function\n",
    "def c_to_f(celsius):\n",
    "    # convert Celsius to Fahrenheit\n",
    "    fahrenheit = ___\n",
    "    return ___\n",
    "\n",
    "# Test calls\n",
    "print(c_to_f(0))      # Should print 32.0\n",
    "print(c_to_f(100))    # Should print 212.0"
   ]
  },
  {
   "cell_type": "markdown",
   "id": "0656c90d-c6af-4ac1-ba9f-913b4420faf8",
   "metadata": {},
   "source": [
    "### Problem 2: Calculate the Volume of a Cylinder\n",
    "\n",
    "The volume of a cylinder is given by $ V = \\pi r^2 h $, where $r$ is the radius and $h$ is the height. Write a function `calculate_cylinder_volume(radius, height=1.0)` that returns the volume, using `pi = 3.14159`.\n",
    "\n",
    "#### Your Tasks:\n",
    "- Define the function\n",
    "- Return the computed volume\n",
    "- Call the function with a few different values"
   ]
  },
  {
   "cell_type": "code",
   "execution_count": null,
   "id": "93fce2af-e7d9-4d53-9a3a-358e602207c8",
   "metadata": {},
   "outputs": [],
   "source": [
    "# define the function with a default height\n",
    "def cylinder_volume(radius, height=1.0):\n",
    "    pi = 3.14159\n",
    "    # Calculate volume\n",
    "    volume = ___\n",
    "    return ___\n",
    "\n",
    "# Test calls\n",
    "print(cylinder_volume(radius=2, height=5))    # compute volume with radius=2, height=5\n",
    "print(cylinder_volume(2))                     # compute volume with radius=2 and default height of 1.0"
   ]
  },
  {
   "cell_type": "markdown",
   "id": "f40c05de-0a85-4e0d-9aaf-52f168ce748b",
   "metadata": {},
   "source": [
    "### Problem 3: Elastic Potential Energy of Springs\n",
    "\n",
    "You're studying a set of springs, each with a different spring constant and displacement. You want to calculate the elastic potential energy stored in each spring using the formula $ U = \\frac{1}{2}kx^2 $, where $k$ is the spring constant and $x$ is the displacement. \n",
    "\n",
    "#### Your Tasks:\n",
    "- Define a function called elastic_potential_energy(k, x) that returns the energy in joules.\n",
    "- You are given two lists:\n",
    "    - `spring_constants`: list of $k$ values in N/m\n",
    "    - `displacements`: list of $x$ values in meters\n",
    "- Use a `for` loop with `range()` to:\n",
    "  - Access each pair of values\n",
    "  - Use your function to calculate the potential energy\n",
    "  - Print the results"
   ]
  },
  {
   "cell_type": "code",
   "execution_count": null,
   "id": "cd88d541-2ff0-4a74-8f86-7129c7cfd693",
   "metadata": {},
   "outputs": [],
   "source": [
    "# spring constants in N/m\n",
    "spring_constants = [100, 200, 150]\n",
    "# displacements in meters\n",
    "displacements = [0.1, 0.05, 0.2]\n",
    "\n",
    "# define your energy function\n",
    "def elastic_potential_energy(___, ___):\n",
    "    # TODO: calculate the energy\n",
    "    energy = ___\n",
    "    # TODO: return the elastic potential energy\n",
    "    return ___\n",
    "\n",
    "# TODO: define the for loop to iterate over indices\n",
    "for ___ in ____:\n",
    "    # TODO: retrieve the spring constant and displacement\n",
    "    # from the lists defined above, using their indices\n",
    "    k = ____\n",
    "    x = ____\n",
    "    # TODO: use your function to calculate the energy\n",
    "    energy = elastic_potential_energy()\n",
    "    print(f\"Spring {i}: U = {energy:.2e} J\")"
   ]
  },
  {
   "cell_type": "markdown",
   "id": "cd9b1544-44bb-4bdb-81b0-920b76bda1a6",
   "metadata": {},
   "source": [
    "<div style=\"background-color: #007acc; color: white; padding: 12px; border-radius: 5px;\">\n",
    "  <h1 style=\"margin: 0;\">3. Importing Libraries</h1>\n",
    "</div>"
   ]
  },
  {
   "cell_type": "markdown",
   "id": "fc781b48-7789-4796-ad63-c8197ddf3cdd",
   "metadata": {},
   "source": [
    "As you’ve seen in the previous section, **functions** allow you to reuse code and avoid repeating yourself. But imagine if you had to write every math function, plotting tool, or array operation from scratch - your programs would be long, error-prone, and hard to maintain. That’s where **libraries** come in. A library is a collection of **predefined functions, classes, and tools** that someone else has already written, tested, and optimized for you. Python libraries let you focus on solving problems, not reinventing the wheel. Whether you need to calculate square roots, simulate planetary motion, analyze data, or create graphs, there’s almost always a **library full of functions** ready to help you do it faster, better, and with less code.\n",
    "\n",
    "In Python there are two kinds of libraries you can import:\n",
    "1. **Built-in Python modules:** these are libraries that are available to import in any Python installation. \n",
    "2. **External libraries:** like the name suggests, these are libraries that are external to Python. For these libraries, you must install them separately using a package manager like [`pip`](https://pypi.org/project/pip/) to be able to import them into your code."
   ]
  },
  {
   "cell_type": "markdown",
   "id": "bab11597-8288-4679-9427-fee86ffbebca",
   "metadata": {},
   "source": [
    "### Common Python Modules and Libraries\n",
    "\n",
    "| Library / Module | Type      | Description                                                             |\n",
    "|------------------|-----------|-------------------------------------------------------------------------|\n",
    "| `math`           | Built-in  | Provides advanced mathematical functions like `sqrt`, `cos`, `log`, etc.|\n",
    "| `random`         | Built-in  | Generates random numbers, shuffles lists, and more                      |\n",
    "| `itertools`      | Built-in  | Tools for looping and working with combinations, permutations           |\n",
    "| `datetime`       | Built-in  | Functions for working with dates and times                              |\n",
    "| `os`             | Built-in  | Interfaces with the operating system (files, directories, etc.)         |\n",
    "| `numpy`          | External  | Powerful support for arrays, math, and linear algebra                   |\n",
    "| `matplotlib`     | External  | Visualization library for plotting graphs and charts                    |\n",
    "| `pandas`         | External  | Data analysis and manipulation with labeled tables (DataFrames)         |\n",
    "| `scipy`          | External  | Scientific computing tools (integration, optimization, etc.)            |\n",
    "| `seaborn`        | External  | Statistical data visualization built on top of `matplotlib`             |\n",
    "\n",
    "<div style=\"border-left: 5px solid goldenrod; padding: 10px; background-color: #fff8dc;\"> <strong>Note:</strong>\n",
    "The built-in Python modules available to you will depend on the version of Python you are using. The Python 3.13 Module Index can be viewed <a href=https://docs.python.org/3/py-modindex.html>here</a>.\n",
    "</div>"
   ]
  },
  {
   "cell_type": "markdown",
   "id": "46881a05-11e7-45a0-b1d5-39e3b10ea9e2",
   "metadata": {},
   "source": [
    "## Importing a Library"
   ]
  },
  {
   "cell_type": "markdown",
   "id": "4f1f0310-cf30-42de-854b-01f13f9aaf41",
   "metadata": {},
   "source": [
    "You can import the module using `import`:\n",
    "```python\n",
    "import math\n",
    "\n",
    "result = math.sqrt(25)\n",
    "print(results)  # output: 5.0\n",
    "```\n",
    "\n",
    "This gives you access to any functions, classes, or tools the library has available. A lot of libraries are broken into a series of modules, each with a different focus for that library. \n",
    "\n",
    "If you want to just import a specific function, you can use `from` and `import` together:\n",
    "```python\n",
    "from math import pi, sin\n",
    "\n",
    "print(pi)         # output: 3.141592....\n",
    "print(sin(pi/2))  # output: 1.0\n",
    "```"
   ]
  },
  {
   "cell_type": "markdown",
   "id": "8f3d5008-cb45-4ef6-8c02-ff7555da498c",
   "metadata": {},
   "source": [
    "## Advanced Library Imports"
   ]
  },
  {
   "cell_type": "markdown",
   "id": "daeec0ad-e7ba-4809-b522-e49fd1591016",
   "metadata": {},
   "source": [
    "Once you’re comfortable with basic imports like `import math`, you’ll often encounter different styles that give you more flexibility or convenience. These advanced styles include:\n",
    "\n",
    "### `from MODULE import NAME`\n",
    "\n",
    "This allows you to import **specific items** from a module so you don’t have to use the full module name each time.\n",
    "```python\n",
    "from math import pi, sqrt\n",
    "\n",
    "print(pi)       # 3.141592653589793\n",
    "print(sqrt(16)) # 4.0\n",
    "```\n",
    "\n",
    "#### Why use this?\n",
    "- Save typing when you only need a few functions from a library\n",
    "- Make code cleaner when used in moderation"
   ]
  },
  {
   "cell_type": "markdown",
   "id": "52784e40-6b47-4706-bf48-3e90ed8feea4",
   "metadata": {},
   "source": [
    "### `from MODULE import *` — Import Everything\n",
    "\n",
    "```python\n",
    "from math import *\n",
    "```\n",
    "\n",
    "This imports *all* functions and constants from the `math` module into your current namespace. You can then use them directly:\n",
    "\n",
    "```python\n",
    "print(sqrt(25))  # 5.0\n",
    "print(cos(0))    # 1.0\n",
    "```\n",
    "\n",
    "#### Why you should use this _sparingly_:\n",
    "- It pollutes your namespace with unknown function/variable names\n",
    "- It can overwrite variables or functions if there’s a name conflict (e.g., if you already had a function called `sqrt`)\n",
    "- It makes it harder to understand where a function came from\n",
    "\n",
    "This is recommended only for quick testing or small scripts, not larger projects or notebooks."
   ]
  },
  {
   "cell_type": "markdown",
   "id": "76e44672-19a2-4fce-b700-a353895b15a4",
   "metadata": {},
   "source": [
    "### Using Aliases with `as`\n",
    "\n",
    "You can rename a module or function using `as` to create a **shorter or more convenient alias*.\n",
    "\n",
    "```python\n",
    "import numpy as np\n",
    "import matplotlib.pyplot as plt\n",
    "from math import factorial as fact\n",
    "```\n",
    "\n",
    "- `np` is the standard alias for `numpy`\n",
    "- `plt` is the standard alias for `matplotlib.pyplot`\n",
    "- `fact` is a custom alias for `factorial`\n",
    "\n",
    "#### Why use aliases?\n",
    "- Keeps your code shorter and easier to read\n",
    "- Follows common conventions in the Python community"
   ]
  },
  {
   "cell_type": "markdown",
   "id": "ca3903e7-69d3-4648-9092-4c956e5a5722",
   "metadata": {},
   "source": [
    "### Summary of Advanced Import Styles\n",
    "\n",
    "| Syntax                          | Purpose                                       |\n",
    "|---------------------------------|-----------------------------------------------|\n",
    "| `from math import pi`           | Import only `pi` from the `math` module       |\n",
    "| `from math import *`            | Import everything from `math` (discouraged) |\n",
    "| `import numpy as np`            | Import and give an alias to the module        |\n",
    "| `from math import sqrt as s`    | Import and give an alias to a function        |\n"
   ]
  },
  {
   "cell_type": "markdown",
   "id": "7adffe22-7210-4467-9583-d3c8e903cb1e",
   "metadata": {},
   "source": [
    "## Namespaces & Libraries"
   ]
  },
  {
   "cell_type": "markdown",
   "id": "7357bd99-5765-4079-ad7c-8d29dcc8b745",
   "metadata": {},
   "source": [
    "A **namespace** is a space where names (like variables, functions, and classes) are **stored and tracked**. It helps Python keep track of what each name refers to—and **prevents name conflicts** between different parts of your code.\n",
    "\n",
    "You can think of a namespace like a **labeled container** or **directory**: it keeps everything organized so Python knows where to look when you call a name."
   ]
  },
  {
   "cell_type": "markdown",
   "id": "bbbeb9fc-5629-43af-9fa6-cf811a993a6f",
   "metadata": {},
   "source": [
    "When you import a library, its functions and variables live in that library’s own namespace.\n",
    "\n",
    "```python\n",
    "import math\n",
    "\n",
    "print(math.pi)      # Accessing 'pi' from the 'math' namespace\n",
    "print(math.sqrt(9)) # Accessing 'sqrt' from the 'math' namespace\n",
    "```\n",
    "\n",
    "Here, `math.pi` and `math.sqrt()` are inside the math namespace. You have to prefix them with `math.` to tell Python exactly which `pi` or `sqrt()` you mean. This helps avoid confusion if your code or other libraries also have a function or variable named `sqrt`.\n",
    "\n",
    "Another option is to import everything from `math` directly into your current _global_ namespace (i.e., the namespace containing all of your currently defined functions and variables):\n",
    "\n",
    "```python\n",
    "from math import *\n",
    "\n",
    "print(sqrt(9))  # Works... but we no longer know where sqrt() came from!\n",
    "```\n",
    "\n",
    "This works, but it can make your code very hard to debug down the road since you don't really know what all you have imported. This can lead to issues if another function called `sqrt` already exists in your code. This is why using `import math` or `from math import pi, sqrt` are considered safer imports. "
   ]
  },
  {
   "cell_type": "markdown",
   "id": "cbb73739-576a-42d7-b82a-c3c7075abcc8",
   "metadata": {},
   "source": [
    "## Best Practices for Python Library Imports"
   ]
  },
  {
   "cell_type": "markdown",
   "id": "ee461c6c-f963-4ed9-bf49-022dfea7f2f1",
   "metadata": {},
   "source": [
    "Following best practices when importing libraries keeps your code clean, readable, and professional—especially as projects grow larger or are shared with others.\n",
    "\n",
    "### 1. Import Standard Libraries First\n",
    "Start by importing _built-in_ Python modules, _then_ external libraries. This helps keep your imports organized.\n",
    "\n",
    "### 2. Use Aliases for Common Libraries\n",
    "Use standard aliases to keep your code concise and consistent with the wider Python community:\n",
    "```python\n",
    "import numpy as np\n",
    "import matplotlib.pyplot as plt\n",
    "\n",
    "my_array = np.array([0, 1, 4, 9])\n",
    "```\n",
    "\n",
    "This makes your code easier for others to read and maintain.\n",
    "\n",
    "### 3. Avoid Using `import *`\n",
    "\n",
    "```python\n",
    "from math import *  # not recommended\n",
    "```\n",
    "\n",
    "This brings **everything** into your namespace, can make it unclear where your functions came from, and can cause **name conflicts**. Instead, import only what you need, or use the module name explicitly:\n",
    "```python\n",
    "from math import pi, sin  # better\n",
    "# or\n",
    "import math               # clear and explicit\n",
    "```\n",
    "\n",
    "### 4. Group Imports at the Top of the File\n",
    "\n",
    "All imports should go at the **very top** of your script or notebook, **not** inside functions or loops (unless absolutely necessary).\n",
    "```python\n",
    "# good\n",
    "import numpy as np\n",
    "\n",
    "def compute(x):\n",
    "    result = x**2 + 5\n",
    "    return result\n",
    "\n",
    "# bad\n",
    "def compute(x):\n",
    "    import numpy as np # avoid importing inside a function unless required for special reasons\n",
    "    result = x**2 + 5\n",
    "    return result\n",
    "```\n",
    "\n",
    "### 5. Keep Imports Clean and Minimal\n",
    "\n",
    "Only import what you actually use. Don’t clutter your code with unused imports—they add confusion and slow down your code."
   ]
  },
  {
   "cell_type": "markdown",
   "id": "e3da6565-ce14-450c-be65-57879fe5c457",
   "metadata": {},
   "source": [
    "<div style=\"background-color: #28a745; color: white; padding: 12px; border-radius: 5px;\">\n",
    "  <h2 style=\"margin: 0;\">Try it Yourself: Explaining the Imports</h2>\n",
    "</div>"
   ]
  },
  {
   "cell_type": "markdown",
   "id": "751be359-f61f-4f60-b452-893b3972afe5",
   "metadata": {},
   "source": [
    "### Problem 1\n",
    "\n",
    "Look at the code below:\n",
    "```python\n",
    "from math import sqrt\n",
    "import numpy as np\n",
    "\n",
    "result = sqrt(49)\n",
    "array_result = sqrt(np.array([4, 9, 16]))  # Apply sqrt to an array\n",
    "print(result)\n",
    "print(array_result)\n",
    "```\n",
    "\n",
    "#### Your Tasks:\n",
    "1. Does this code work as expected?\n",
    "2. What is the likely error, and what causes it?"
   ]
  },
  {
   "cell_type": "markdown",
   "id": "f1678c48-dd9b-4996-be0c-974cb5c90737",
   "metadata": {},
   "source": []
  },
  {
   "cell_type": "markdown",
   "id": "e4f5f833-11bc-4d8e-87fc-ccb71d1c0d56",
   "metadata": {},
   "source": [
    "Rewrite the code above so that all issues above are avoided:"
   ]
  },
  {
   "cell_type": "code",
   "execution_count": null,
   "id": "b1678054-34cd-403b-8196-1194208a3791",
   "metadata": {},
   "outputs": [],
   "source": []
  },
  {
   "cell_type": "markdown",
   "id": "32e28aba-5dc0-4d5f-b75f-a1fd361ac195",
   "metadata": {},
   "source": [
    "### Problem 2\n",
    "\n",
    "Look at the code below:\n",
    "```python\n",
    "from math import pi\n",
    "\n",
    "pi = 3  # Redefining pi\n",
    "\n",
    "area = pi * 2**2  # Area of a circle with radius 2\n",
    "print(\"Pi value used:\", pi)\n",
    "print(\"Area:\", area)\n",
    "```\n",
    "\n",
    "#### Your Tasks:\n",
    "1. What issue might this code cause?\n",
    "2. Why could this be dangerous in longer or more complex programs?"
   ]
  },
  {
   "cell_type": "markdown",
   "id": "b674dadf-37f5-449c-a600-2c7b1c3036bb",
   "metadata": {},
   "source": []
  },
  {
   "cell_type": "markdown",
   "id": "c108bc3f-76a3-41da-9107-3983a01a4a1e",
   "metadata": {},
   "source": [
    "Rewrite the code such that the name conflict is avoided:"
   ]
  },
  {
   "cell_type": "code",
   "execution_count": null,
   "id": "fee7fd31-4a9e-4e6f-a898-bf71e0bd226e",
   "metadata": {},
   "outputs": [],
   "source": []
  },
  {
   "cell_type": "markdown",
   "id": "9b237b6a-0d2e-4ad8-84cf-5c9acd0d2ccc",
   "metadata": {},
   "source": [
    "### Problem 3\n",
    "\n",
    "Look at the code below:\n",
    "```python\n",
    "from math import *\n",
    "from random import *\n",
    "\n",
    "value = random()\n",
    "angle = radians(value * 90)\n",
    "print(\"Cosine:\", cos(angle))\n",
    "\n",
    "```\n",
    "\n",
    "#### Your Tasks:\n",
    "1. What are the potential problems with this import style?\n",
    "2. Could this lead to bugs or confusion later on?"
   ]
  },
  {
   "cell_type": "markdown",
   "id": "2b3485af-d009-44cd-9af3-2a202e299d87",
   "metadata": {},
   "source": []
  },
  {
   "cell_type": "markdown",
   "id": "8a30bcc8-0fd9-4d6d-916f-79c34af4c755",
   "metadata": {},
   "source": [
    "Rewrite the code using better import practices:"
   ]
  },
  {
   "cell_type": "code",
   "execution_count": null,
   "id": "49d66a2b-53ea-4c61-ada2-0089bec75f68",
   "metadata": {},
   "outputs": [],
   "source": []
  },
  {
   "cell_type": "markdown",
   "id": "7f6ff1fe-86ec-43f2-8b1a-c8b8098b4743",
   "metadata": {},
   "source": [
    "<div style=\"background-color: #007acc; color: white; padding: 12px; border-radius: 5px;\">\n",
    "  <h1 style=\"margin: 0;\">4. Plotting in Python</h1>\n",
    "</div>"
   ]
  },
  {
   "cell_type": "markdown",
   "id": "a4d4daf1-3a0d-41e2-86cd-6baf05005958",
   "metadata": {},
   "source": [
    "<div style=\"background-color: #007acc; color: white; padding: 12px; border-radius: 5px;\">\n",
    "  <h1 style=\"margin: 0;\">5. Challenge Problems</h1>\n",
    "</div>"
   ]
  }
 ],
 "metadata": {
  "kernelspec": {
   "display_name": "Python 3 (ipykernel)",
   "language": "python",
   "name": "python3"
  },
  "language_info": {
   "codemirror_mode": {
    "name": "ipython",
    "version": 3
   },
   "file_extension": ".py",
   "mimetype": "text/x-python",
   "name": "python",
   "nbconvert_exporter": "python",
   "pygments_lexer": "ipython3",
   "version": "3.11.11"
  }
 },
 "nbformat": 4,
 "nbformat_minor": 5
}
