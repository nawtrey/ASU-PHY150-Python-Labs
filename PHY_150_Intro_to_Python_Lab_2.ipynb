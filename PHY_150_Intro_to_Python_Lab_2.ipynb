{
 "cells": [
  {
   "cell_type": "markdown",
   "id": "ea24084d-1489-49ce-87a0-013a29bdbbc8",
   "metadata": {},
   "source": [
    "# PHY 150 Python Lab 2: Loops, Functions, Plotting, and Classes"
   ]
  },
  {
   "cell_type": "markdown",
   "id": "bc16ad3d-20f2-491a-b0a1-dedea20b1259",
   "metadata": {},
   "source": [
    "Nikolaus Awtrey\\\n",
    "Peter Smith\\\n",
    "Kevin Trinh\\\n",
    "Allison Boley\n",
    "\n",
    "If you want to review the content from **Lab 1**, you can view the entire notebook on [**GitHub**](https://github.com/nawtrey/ASU-PHY150-Python-Labs/blob/main/PHY_150_Intro_to_Python_Lab_1.ipynb)."
   ]
  },
  {
   "cell_type": "markdown",
   "id": "1fe5a192-5dce-42ca-9b55-6eed0ad884bb",
   "metadata": {},
   "source": [
    "## Lab Contents:\n",
    "1. [**Loops**](#1.-Python-Loops)\n",
    "2. [**Functions**](#2.-Functions)\n",
    "3. [**Importing Libraries**](#3.-Importing-Libraries)\n",
    "4. [**Plotting in Python**](#4.-Plotting-in-Python)\n",
    "5. [**Challenge Problems**](#5.-Challenge-Problems)"
   ]
  },
  {
   "cell_type": "markdown",
   "id": "a8f8af9c-e22e-4c0a-885c-deaa372315aa",
   "metadata": {},
   "source": [
    "<div style=\"background-color: #007acc; color: white; padding: 12px; border-radius: 5px;\">\n",
    "  <h1 style=\"margin: 0;\">1. Python Loops</h1>\n",
    "</div>"
   ]
  },
  {
   "cell_type": "markdown",
   "id": "5eb9017f-cb0b-458e-9270-fab6f9f62b31",
   "metadata": {},
   "source": [
    "## What is a `for` loop?\n",
    "\n",
    "A `for` loop in Python is used to _iterate_ over a sequence of items — such as a `list`, a `string`, a `tuple`, or anything that's _iterable_. It allows you to perform an operation _repeatedly_, once for each item in that sequence. "
   ]
  },
  {
   "cell_type": "code",
   "execution_count": 8,
   "id": "449db1cf-c14a-49d7-a497-8937841a2ee3",
   "metadata": {},
   "outputs": [
    {
     "name": "stdout",
     "output_type": "stream",
     "text": [
      "Tuple example: 1\n",
      "Tuple example: 2\n",
      "Tuple example: 3\n",
      "Tuple example: 4\n",
      "String example: a\n",
      "String example: b\n",
      "String example: c\n",
      "String example: d\n",
      "List example: 2\n",
      "List example: 3\n",
      "List example: 5\n",
      "List example: 8\n"
     ]
    }
   ],
   "source": [
    "# iterating over elements in a tuple\n",
    "for number in (1, 2, 3, 4):\n",
    "    print(\"Tuple example:\", number)\n",
    "\n",
    "# iterating over characters in a string\n",
    "for letter in \"abcd\":\n",
    "    print(\"String example:\", letter)\n",
    "\n",
    "# iterating over elements in a list\n",
    "for element in [2, 3, 5, 8]:\n",
    "    print(\"List example:\", element)"
   ]
  },
  {
   "cell_type": "markdown",
   "id": "bf6466f5-b4f2-4a0b-b152-9c34e753a462",
   "metadata": {},
   "source": [
    "## Code Blocks"
   ]
  },
  {
   "cell_type": "markdown",
   "id": "6aa0655d-9e4e-4922-bab4-39b28cb88dfb",
   "metadata": {},
   "source": [
    "In Python, **code blocks** are used to group together statements that should be executed as part of a loop, function, or condition. Unlike many other programming languages, Python _does not_ use curly braces (`{}`) to define blocks. Instead, Python relies on _indentation_.\n",
    "\n",
    "In a `for` loop, everything in the **code block** is executed for each iteration. \n",
    "\n",
    "```python\n",
    "for item in sequence:\n",
    "    # This is a code block\n",
    "    # All of this will run once for each item in the sequence\n",
    "    print(item)\n",
    "    print(\"Still inside the loop\")\n",
    "\n",
    "# This is outside the loop\n",
    "print(\"Done!\")\n",
    "```"
   ]
  },
  {
   "cell_type": "markdown",
   "id": "dc446590-9942-4c4a-be6f-bbd3b222b801",
   "metadata": {},
   "source": [
    "<div style=\"border-left: 5px solid goldenrod; padding: 10px; background-color: #fff8dc;\">\n",
    "  <strong>Note:</strong> Any code that is indented under the <code>for</code> loop line is part of the loop’s block. As soon as you stop indenting, you’re outside the loop. This also applies to conditional statements and functions (which will be addressed below).\n",
    "</div>"
   ]
  },
  {
   "cell_type": "markdown",
   "id": "911e4c3a-534c-432f-9098-c598ac064154",
   "metadata": {},
   "source": [
    "A **common mistake** in Python is misaligned or missing indentations - \n",
    "\n",
    "```python\n",
    "for i in range(3):\n",
    "print(i)   # ❌ This will cause an IndentationError\n",
    "```\n",
    "\n",
    "The code block _must be indented consistently_. Most code editors (such as Jupyter) automatically use 4 spaces per indentation level."
   ]
  },
  {
   "cell_type": "markdown",
   "id": "bfd352fc-b14f-47bd-950e-40d73277f2e7",
   "metadata": {},
   "source": [
    "### Why use a `for` loop?"
   ]
  },
  {
   "cell_type": "markdown",
   "id": "1bfcf6f4-abb1-4b2b-ada9-c8cebcb1325c",
   "metadata": {},
   "source": [
    "`For` loops are great for performing repetative tasks and help keep your code simple and easy to read. \n",
    "\n",
    "For example, say we had some list containing various alphabetic characters -"
   ]
  },
  {
   "cell_type": "code",
   "execution_count": 8,
   "id": "3333c7d4-059c-4b5c-a350-d3cdbf15be4c",
   "metadata": {},
   "outputs": [],
   "source": [
    "my_list = [\"Alpha\", \"Beta\", \"Gamma\"]"
   ]
  },
  {
   "cell_type": "markdown",
   "id": "e3b4a580-d757-40c6-bb0c-edb6b115ec5c",
   "metadata": {},
   "source": [
    "What if we wanted to add a bunch of _new_ characters? We could _append_ them one by one -"
   ]
  },
  {
   "cell_type": "code",
   "execution_count": 9,
   "id": "5526205d-077f-40ec-b7fd-2a91b95b8177",
   "metadata": {},
   "outputs": [
    {
     "name": "stdout",
     "output_type": "stream",
     "text": [
      "['Alpha', 'Beta', 'Gamma', 'Delta', 'Epsilon', 'Zeta', 'Theta']\n"
     ]
    }
   ],
   "source": [
    "my_list.append(\"Delta\")\n",
    "my_list.append(\"Epsilon\")\n",
    "my_list.append(\"Zeta\")\n",
    "my_list.append(\"Theta\")\n",
    "print(my_list)"
   ]
  },
  {
   "cell_type": "markdown",
   "id": "59876fe5-9b6b-4c65-81db-70c227ee6186",
   "metadata": {},
   "source": [
    "Alternatively, we could append them in a for loop - "
   ]
  },
  {
   "cell_type": "code",
   "execution_count": 10,
   "id": "597c1277-f190-4ce0-b26b-8c33e9fbb28d",
   "metadata": {},
   "outputs": [
    {
     "name": "stdout",
     "output_type": "stream",
     "text": [
      "['Alpha', 'Beta', 'Gamma', 'Delta', 'Epsilon', 'Zeta', 'Theta']\n"
     ]
    }
   ],
   "source": [
    "my_list = [\"Alpha\", \"Beta\", \"Gamma\"]\n",
    "\n",
    "for element in (\"Delta\", \"Epsilon\", \"Zeta\", \"Theta\"):\n",
    "    my_list.append(element)\n",
    "\n",
    "print(my_list)"
   ]
  },
  {
   "cell_type": "markdown",
   "id": "0a2b4674-bbfa-4e7d-a3e9-8a25b78728d4",
   "metadata": {},
   "source": [
    "### Looping Over Indices"
   ]
  },
  {
   "cell_type": "markdown",
   "id": "6d13a9ab-fd6a-462a-baef-96943324b64b",
   "metadata": {},
   "source": [
    "Python has built-in functions that allow you to iterate over _indices_ instead of _elements_. An **index** is the position of an item in a _sequence_ like a `list`, `string`, or `tuple`. We have already used indices in Lab 1 but now you know what their proper name is. \n",
    "\n",
    "But why would we want to loop over indices instead of the elements in the list directly?\n",
    "\n",
    "You loop over **indices** when:\n",
    "- You want to access multiple lists in a single loop\n",
    "- You need to modify elements in place\n",
    "- You want to use the index number for labeling, math, or control\n",
    "\n",
    "For example, say we have a list of planet names and another list of their distances.\n",
    "\n",
    "```python\n",
    "planets = [\"Mercury\", \"Venus\", \"Earth\", \"Mars\"]\n",
    "distances = [57.9e6, 108.2e6, 149.6e6, 227.9e6]  # km\n",
    "```\n",
    "\n",
    "Both lists have four elements, so if we create a `for` loop that performs four iterations we can access the elements in _both_ lists just by using their _indices_ (i.e., 0, 1, 2, 3). To do this we can use the Python built-in functions `range()` and `len()`. `len(my_list)` will output the integer number of elements in `my_list`, while `range()` will provide a new index for each iteration starting at `0` and ending with the input number (i.e., `4`).\n",
    "\n",
    "Let's start by defining our lists and trying out `len()` - "
   ]
  },
  {
   "cell_type": "code",
   "execution_count": 13,
   "id": "b5136c76-8a30-4bb3-8014-bf3afe3d8f25",
   "metadata": {},
   "outputs": [
    {
     "name": "stdout",
     "output_type": "stream",
     "text": [
      "Number of elements in `planets`: 4\n",
      "Number of elements in `distances`: 4\n"
     ]
    }
   ],
   "source": [
    "planets = [\"Mercury\", \"Venus\", \"Earth\", \"Mars\"]\n",
    "distances = [57.9e6, 108.2e6, 149.6e6, 227.9e6]  # km\n",
    "\n",
    "print(\"Number of elements in `planets`:\", len(planets))\n",
    "print(\"Number of elements in `distances`:\", len(distances))"
   ]
  },
  {
   "cell_type": "markdown",
   "id": "bb1cbdf4-3de2-435f-b58c-43a294d665b3",
   "metadata": {},
   "source": [
    "Now let's try out the `range()` function, using the length of `planets` - "
   ]
  },
  {
   "cell_type": "code",
   "execution_count": 14,
   "id": "871bb5f1-555a-4998-b3af-8141b0798e8e",
   "metadata": {},
   "outputs": [
    {
     "name": "stdout",
     "output_type": "stream",
     "text": [
      "0\n",
      "1\n",
      "2\n",
      "3\n"
     ]
    }
   ],
   "source": [
    "# we will use `index` to illustrate this example, but it \n",
    "# is common practice to use single-letter names like `i`\n",
    "for index in range(len(planets)):\n",
    "    print(index)"
   ]
  },
  {
   "cell_type": "markdown",
   "id": "3651d7e4-613a-439c-9b34-d822cce46774",
   "metadata": {},
   "source": [
    "Finally, let's try to print the elements of both lists using their indices. "
   ]
  },
  {
   "cell_type": "code",
   "execution_count": 19,
   "id": "cab92eaf-5581-498b-9d49-8bef32c643ed",
   "metadata": {},
   "outputs": [
    {
     "name": "stdout",
     "output_type": "stream",
     "text": [
      "0 Mercury 57900000.0\n",
      "1 Venus 108200000.0\n",
      "2 Earth 149600000.0\n",
      "3 Mars 227900000.0\n"
     ]
    }
   ],
   "source": [
    "# here we will use `i` since it is a very common choice\n",
    "# for the index name\n",
    "for i in range(len(planets)):\n",
    "    # retrieve the elements of the list using `my_list[i]`\n",
    "    print(i, planets[i], distances[i])"
   ]
  },
  {
   "cell_type": "markdown",
   "id": "7e75ec6f-5b14-48e5-9449-fa2cc5350457",
   "metadata": {},
   "source": [
    "Another built-in Python function worth mentioning is the `enumerate()` function. This function takes a sequence (like a `list`, `tuple`, or `dict`) and creates an index for them as well. \n",
    "\n",
    "Let's print the same information using `enumerate()` instead of `len()` and `range()` - "
   ]
  },
  {
   "cell_type": "code",
   "execution_count": 20,
   "id": "5d343ff4-fbcc-4a0c-b8a9-61bde764908f",
   "metadata": {},
   "outputs": [
    {
     "name": "stdout",
     "output_type": "stream",
     "text": [
      "0 Mercury 57900000.0\n",
      "1 Venus 108200000.0\n",
      "2 Earth 149600000.0\n",
      "3 Mars 227900000.0\n"
     ]
    }
   ],
   "source": [
    "# using `enumerate`, we have to assign both the\n",
    "# index name `i` and the element name `planet`\n",
    "for i, planet in enumerate(planets):\n",
    "    # since each element is already being assigned\n",
    "    # to `planet`, we no longer need to retrieve\n",
    "    # the planet name using the index. But since\n",
    "    # we are not iterating over the distances, \n",
    "    # we still have to retrieve each distance\n",
    "    # using the index `i`\n",
    "    print(i, planet, distances[i])"
   ]
  },
  {
   "cell_type": "markdown",
   "id": "7189b824-8d83-46c6-b357-d6e13eeaeeb4",
   "metadata": {},
   "source": [
    "#### When to Use a `for` Loop \n",
    "\n",
    "_Use_ a `for` loop when:\n",
    "- You want to go through every item in a list, tuple, string, or dictionary.\n",
    "- You want to repeat an action a known number of times.\n",
    "- You want to collect results, such as computing values and storing them in a list.\n",
    "- You're working with arrays, simulation steps, or multiple data points.\n",
    "\n",
    "#### When **Not** to Use a `for` Loop\n",
    "\n",
    "_Avoid_ `for` loops when:\n",
    "- You’re modifying a list while iterating over it — this can cause bugs or unexpected behavior.\n",
    "- You're only trying to repeat something until a condition is met — there are special loops called `while` loops for that instead."
   ]
  },
  {
   "cell_type": "markdown",
   "id": "2281840e-78a4-4ba5-8568-20458a8e81bf",
   "metadata": {},
   "source": [
    "<div style=\"background-color: #28a745; color: white; padding: 12px; border-radius: 5px;\">\n",
    "  <h2 style=\"margin: 0;\">Try it Yourself: For Loop Edition</h2>\n",
    "</div>"
   ]
  },
  {
   "cell_type": "markdown",
   "id": "4ee532ee-ff14-4684-8200-f8fa7613195c",
   "metadata": {},
   "source": [
    "### Problem 1: Iterate over list elements\n",
    "\n",
    "You are given a list of masses (in kg). Use the equation $E = mc^2$, where $c = 2.998 \\times 10^8 \\, \\text{m/s}$, to calculate and print the energy of each mass."
   ]
  },
  {
   "cell_type": "code",
   "execution_count": null,
   "id": "c57e29ad-0bff-4605-9064-ad84783fef7b",
   "metadata": {},
   "outputs": [],
   "source": [
    "# speed of light in m/s\n",
    "c = 2.998e8\n",
    "\n",
    "# list of masses in kg\n",
    "masses = [1, 5, 10]\n",
    "\n",
    "# TODO: create your for loop and print the energy using E = mc^2\n",
    "for ___ in ____:\n",
    "    # calculate the energy\n",
    "    energy = mass*c*c\n",
    "    print(f\"The calculated energy for {mass} kg mass: {energy:.2e} J\")"
   ]
  },
  {
   "cell_type": "markdown",
   "id": "5afa4259-a6df-47fb-bf2b-3ea007960eb4",
   "metadata": {},
   "source": [
    "### Problem 2: Iterate over indices & list elements\n",
    "\n",
    "You are given a list of usernames, and you want to generate custom email addresses for each user. The company’s email format includes a user ID number (starting from 100) followed by the username, like the following:\n",
    "\n",
    "```\n",
    "100_alice@example.com\n",
    "101_bob@example.com\n",
    "```\n",
    "\n",
    "Use a `for` loop with `enumerate()` to:\n",
    "\n",
    "1. Combine the index (as a user ID) and the username\n",
    "2. Generate an email string in the format: `\"ID_username@example.com\"`\n",
    "3. Store each email in a new list called `email_list`\n",
    "4. Print the list of emails at the end"
   ]
  },
  {
   "cell_type": "code",
   "execution_count": null,
   "id": "41c47879-4158-46c6-818f-fd687ce6df4a",
   "metadata": {},
   "outputs": [],
   "source": [
    "# your starting usernames\n",
    "usernames = [\"alice\", \"bob\", \"charlie\", \"dana\"]\n",
    "\n",
    "# an empty list to store your new email addresses\n",
    "email_list = []\n",
    "\n",
    "# TODO: create a for loop using enumerate\n",
    "for __, name in enumerate(_______):\n",
    "    # TODO: create the username\n",
    "    user_id = 100 + ___\n",
    "\n",
    "    email = f\"{user_id}_{name}@example.com\"\n",
    "    # add the new email to the email list\n",
    "    email_list.append(email)\n",
    "\n",
    "# print all generated emails\n",
    "print(email_list)"
   ]
  },
  {
   "cell_type": "markdown",
   "id": "e825275c-1230-43fa-9dfe-c6f33a792513",
   "metadata": {},
   "source": [
    "### Problem 3: Iterate over indices\n",
    "\n",
    "You're analyzing the motion of a group of objects. You have a list of their masses (in kg) and a separate list of their velocities (in m/s). You want to calculate their kinetic energy using the formula:\n",
    "\n",
    "$$ KE = \\frac{1}{2}mv^2 $$\n",
    "\n",
    "#### Your Task\n",
    "Use a `for` loop with `range()` and `len()` to:\n",
    "\n",
    "1. Access each mass and its corresponding velocity **by index**\n",
    "2. Calculate the kinetic energy for each object\n",
    "3. Print the result "
   ]
  },
  {
   "cell_type": "code",
   "execution_count": null,
   "id": "0f87e259-a58e-42b6-9c9f-0db3a0b98f9f",
   "metadata": {},
   "outputs": [],
   "source": [
    "# object masses in kg\n",
    "masses = [2.0, 4.5, 1.2, 3.4]\n",
    "\n",
    "# object velocities in m/s\n",
    "velocities = [3.0, 2.0, 5.5, 1.8]\n",
    "\n",
    "# TODO: loop over indices using len() and range()\n",
    "for ___ in ___:\n",
    "    # TODO: retrieve the mass and velocity using indices\n",
    "    mass = ____\n",
    "    velocity = ____\n",
    "\n",
    "    # Calculate kinetic energy\n",
    "    ke = 0.5 * mass * velocity ** 2\n",
    "\n",
    "    # Print result\n",
    "    print(f\"Object {i}: KE = {ke:.2e} J\")"
   ]
  },
  {
   "cell_type": "markdown",
   "id": "b0218259-9f25-4487-9949-38131e96dca0",
   "metadata": {},
   "source": [
    "<div style=\"background-color: #007acc; color: white; padding: 12px; border-radius: 5px;\">\n",
    "  <h1 style=\"margin: 0;\">2. Functions</h1>\n",
    "</div>"
   ]
  },
  {
   "cell_type": "markdown",
   "id": "f39dcbd3-b210-42ca-8759-2cd1a70cc43f",
   "metadata": {},
   "source": [
    "## What is a Function?\n",
    "\n",
    "A *function* is a reusable block of code that performs a specific task. Functions help you *organize*, *simplify*, and *reuse* your code without repeating yourself."
   ]
  },
  {
   "cell_type": "markdown",
   "id": "6a7c2bf3-4231-4718-8ff7-37306e3ec7cd",
   "metadata": {},
   "source": [
    "## Why Use Functions?\n",
    "\n",
    "- Avoid repeating code\n",
    "- Break problems into smaller pieces\n",
    "- Improve code readability\n",
    "- Test and debug specific parts of code easily\n",
    "- Reuse logic in other programs or notebooks"
   ]
  },
  {
   "cell_type": "markdown",
   "id": "e17fe9ab-9995-46b2-9423-69ece902f3a6",
   "metadata": {},
   "source": [
    "## Function Syntax\n",
    "\n",
    "```python\n",
    "def function_name(parameters):\n",
    "    # code block (function body)\n",
    "    return result  # optional\n",
    "```\n",
    "\n",
    "- `def` — keyword to define a function\n",
    "- `function_name` — the name of the function\n",
    "- `parameters` — inputs to the function (optional)\n",
    "- `return` — sends back a result from the function (optional)"
   ]
  },
  {
   "cell_type": "markdown",
   "id": "d845477a-fb61-47a0-bf5c-783d0839108b",
   "metadata": {},
   "source": [
    "### Calling a Function\n",
    "\n",
    "A *function call* is how you use a function that’s been defined.\n",
    "\n",
    "```python\n",
    "def square(x):\n",
    "    return x * x\n",
    "\n",
    "result = square(5)  # <--- This is the function call\n",
    "print(result)       # Output: 25\n",
    "```\n",
    "\n",
    "- The function `square()` is defined.\n",
    "- The call `square(5)` invokes the function with `5` as an argument.\n",
    "- The result is stored in `result` and printed."
   ]
  },
  {
   "cell_type": "markdown",
   "id": "4515d4be-ab2d-437f-82ae-f4f11dcc5e31",
   "metadata": {},
   "source": [
    "### Function (Call) Signature\n",
    "\n",
    "A **function signature** is the combination of:\n",
    "\n",
    "- The function name\n",
    "- The number and type of parameters it accepts\n",
    "\n",
    "```python\n",
    "def kinetic_energy(mass, velocity):\n",
    "    return 0.5 * mass * velocity ** 2\n",
    "```\n",
    "\n",
    "- Function name: `kinetic_energy`\n",
    "- Parameters: `mass`, `velocity`\n",
    "\n",
    "This tells you what the function expects and what it returns."
   ]
  },
  {
   "cell_type": "markdown",
   "id": "7fc87f28-dde3-4173-ad27-b6a3f5f9b431",
   "metadata": {},
   "source": [
    "## Types of Function Parameters\n",
    "\n",
    "Python supports several kinds of parameters to make functions flexible, but we will focus on two: Positional and Default parameters.\n",
    "\n",
    "### Positional Parameters\n",
    "**Positional parameters** are called positional because their position in the call signature matters. Positional parameters must be passed in the _correct order_ or the function will not perform its intended purpose."
   ]
  },
  {
   "cell_type": "code",
   "execution_count": null,
   "id": "4d4ea38d-ef6f-4817-8fd6-f715e32acf84",
   "metadata": {},
   "outputs": [],
   "source": [
    "def greet(greeting, name):\n",
    "    print(f\"{greeting} {name}!\")\n",
    "\n",
    "greet(\"Alice\", \"Hello\")\n",
    "greet(\"Hello\", \"Alice\")"
   ]
  },
  {
   "cell_type": "markdown",
   "id": "b284bd2b-dd2c-4c0c-a8ab-e9c148c4c0b2",
   "metadata": {},
   "source": [
    "### Default Parameters\n",
    "**Default parameters** are (as the name might suggest) parameters with default values. This allows you to call the function with certain default values without having to specify them in every single call signature. Run the cell below to see how default parameters affect the function calls. "
   ]
  },
  {
   "cell_type": "code",
   "execution_count": 1,
   "id": "d68640b4-afcd-47d5-a344-cf623709307b",
   "metadata": {},
   "outputs": [
    {
     "name": "stdout",
     "output_type": "stream",
     "text": [
      "Hello, Charlie!\n",
      "Welcome, Dana!\n"
     ]
    }
   ],
   "source": [
    "def greet(name, greeting=\"Hello\"):\n",
    "    print(f\"{greeting}, {name}!\")\n",
    "\n",
    "greet(\"Charlie\")\n",
    "greet(\"Dana\", \"Welcome\")"
   ]
  },
  {
   "cell_type": "markdown",
   "id": "630d4ced-e400-418a-bd42-713ca61dcc57",
   "metadata": {},
   "source": [
    "Additionally, you can name parameters explicitly (called **keyword arguments**) when calling your function:"
   ]
  },
  {
   "cell_type": "code",
   "execution_count": 2,
   "id": "c903fb22-7d02-49b1-a4dd-126eb30d2cc1",
   "metadata": {},
   "outputs": [
    {
     "name": "stdout",
     "output_type": "stream",
     "text": [
      "Hi, Bob!\n"
     ]
    }
   ],
   "source": [
    "greet(name=\"Bob\", greeting=\"Hi\")"
   ]
  },
  {
   "cell_type": "markdown",
   "id": "61bb0674-f093-4a21-bd90-521d59f649c7",
   "metadata": {},
   "source": [
    "This makes your code more readable and clear."
   ]
  },
  {
   "cell_type": "markdown",
   "id": "260d5bbd-c36a-494f-8a0c-68e7b360f2a6",
   "metadata": {},
   "source": [
    "<div style=\"border-left: 5px solid goldenrod; padding: 10px; background-color: #fff8dc;\"> <strong>Note:</strong>\n",
    "When defining a function, default parameters must be listed <i>last</i>. You <b>cannot</b> have <i>positional parameters</i> after any <i>default parameters</i>.\n",
    "</div>"
   ]
  },
  {
   "cell_type": "markdown",
   "id": "ab7d9b16-53c0-4957-985b-9db829ee8e16",
   "metadata": {},
   "source": [
    "### Important Considerations:\n",
    "- If you don’t use a return statement, the function returns `None`.\n",
    "- You can define functions anywhere, but they must be called to run.\n",
    "- Parameters are local to the function—they don’t affect variables outside unless returned or modified globally."
   ]
  },
  {
   "cell_type": "markdown",
   "id": "63448c91-09f6-4c57-98d1-c91e08b2a8e3",
   "metadata": {},
   "source": [
    "## Function Vocab Summary"
   ]
  },
  {
   "cell_type": "markdown",
   "id": "909aebc1-6ae3-48b1-9a41-ca6b00a45ff5",
   "metadata": {},
   "source": [
    "| Concept         | Description                                             |\n",
    "|-----------------|---------------------------------------------------------|\n",
    "| `def`           | Defines a function                                      |\n",
    "| Function call   | Executes (calls) the function with specific arguments   |\n",
    "| Signature       | The function’s name and its parameter list              |\n",
    "| Positional args | Arguments passed by position (in order)                |\n",
    "| Default args    | Parameters with default values (can be omitted)         |\n",
    "| Keyword args    | Arguments passed using `name=value` format              |"
   ]
  },
  {
   "cell_type": "markdown",
   "id": "65b1a347-147f-419b-94dd-9a2e128f6ede",
   "metadata": {},
   "source": [
    "<div style=\"background-color: #28a745; color: white; padding: 12px; border-radius: 5px;\">\n",
    "  <h2 style=\"margin: 0;\">Try it Yourself: Function Edition</h2>\n",
    "</div>"
   ]
  },
  {
   "cell_type": "markdown",
   "id": "691a3a57-a875-4b82-93f6-6dea79dee73b",
   "metadata": {},
   "source": [
    "## Problem 1: Celsius to Fahrenheit\n",
    "\n",
    "Write a function called c_to_f that takes a temperature in Celsius and returns the temperature in Fahrenheit.\n",
    "\n",
    "Use the formula:\n",
    "\n",
    "$$ F = \\frac{9}{5}C + 32 $$\n",
    "\n",
    "### Your Tasks:\n",
    "- Define the function `c_to_f(celsius)`\n",
    "- Return the converted temperature\n",
    "- Call the function with `c_to_f(0)` and `c_to_f(100)`"
   ]
  },
  {
   "cell_type": "code",
   "execution_count": null,
   "id": "4fcd1b10-2cd3-45cb-ad0c-106c42c82e25",
   "metadata": {},
   "outputs": [],
   "source": [
    "# define the function\n",
    "def c_to_f(celsius):\n",
    "    # convert Celsius to Fahrenheit\n",
    "    fahrenheit = ___\n",
    "    return ___\n",
    "\n",
    "# Test calls\n",
    "print(c_to_f(0))      # Should print 32.0\n",
    "print(c_to_f(100))    # Should print 212.0"
   ]
  },
  {
   "cell_type": "markdown",
   "id": "0656c90d-c6af-4ac1-ba9f-913b4420faf8",
   "metadata": {},
   "source": [
    "## Problem 2: Calculate the Volume of a Cylinder\n",
    "\n",
    "The volume of a cylinder is given by $ V = \\pi r^2 h $, where $r$ is the radius and $h$ is the height. Write a function `calculate_cylinder_volume(radius, height=1.0)` that returns the volume, using `pi = 3.14159`.\n",
    "\n",
    "### Your Tasks:\n",
    "- Define the function\n",
    "- Return the computed volume\n",
    "- Call the function with a few different values"
   ]
  },
  {
   "cell_type": "code",
   "execution_count": null,
   "id": "93fce2af-e7d9-4d53-9a3a-358e602207c8",
   "metadata": {},
   "outputs": [],
   "source": [
    "# define the function with a default height\n",
    "def cylinder_volume(radius, height=1.0):\n",
    "    pi = 3.14159\n",
    "    # Calculate volume\n",
    "    volume = ___\n",
    "    return ___\n",
    "\n",
    "# Test calls\n",
    "print(cylinder_volume(radius=2, height=5))    # compute volume with radius=2, height=5\n",
    "print(cylinder_volume(2))                     # compute volume with radius=2 and default height of 1.0"
   ]
  },
  {
   "cell_type": "markdown",
   "id": "f40c05de-0a85-4e0d-9aaf-52f168ce748b",
   "metadata": {},
   "source": [
    "## Problem 3: Elastic Potential Energy of Springs\n",
    "\n",
    "You're studying a set of springs, each with a different spring constant and displacement. You want to calculate the elastic potential energy stored in each spring using the formula $ U = \\frac{1}{2}kx^2 $, where $k$ is the spring constant and $x$ is the displacement. \n",
    "\n",
    "### Your Tasks:\n",
    "- Define a function called elastic_potential_energy(k, x) that returns the energy in joules.\n",
    "- You are given two lists:\n",
    "    - `spring_constants`: list of $k$ values in N/m\n",
    "    - `displacements`: list of $x$ values in meters\n",
    "- Use a `for` loop with `range()` to:\n",
    "  - Access each pair of values\n",
    "  - Use your function to calculate the potential energy\n",
    "  - Print the results"
   ]
  },
  {
   "cell_type": "code",
   "execution_count": null,
   "id": "cd88d541-2ff0-4a74-8f86-7129c7cfd693",
   "metadata": {},
   "outputs": [],
   "source": [
    "# spring constants in N/m\n",
    "spring_constants = [100, 200, 150]\n",
    "# displacements in meters\n",
    "displacements = [0.1, 0.05, 0.2]\n",
    "\n",
    "# define your energy function\n",
    "def elastic_potential_energy(___, ___):\n",
    "    # TODO: calculate the energy\n",
    "    energy = ___\n",
    "    # TODO: return the elastic potential energy\n",
    "    return ___\n",
    "\n",
    "# TODO: define the for loop to iterate over indices\n",
    "for ___ in ____:\n",
    "    # TODO: retrieve the spring constant and displacement\n",
    "    # from the lists defined above, using their indices\n",
    "    k = ____\n",
    "    x = ____\n",
    "    # TODO: use your function to calculate the energy\n",
    "    energy = elastic_potential_energy()\n",
    "    print(f\"Spring {i}: U = {energy:.2e} J\")"
   ]
  },
  {
   "cell_type": "markdown",
   "id": "cd9b1544-44bb-4bdb-81b0-920b76bda1a6",
   "metadata": {},
   "source": [
    "<div style=\"background-color: #007acc; color: white; padding: 12px; border-radius: 5px;\">\n",
    "  <h1 style=\"margin: 0;\">3. Importing Libraries</h1>\n",
    "</div>"
   ]
  },
  {
   "cell_type": "markdown",
   "id": "fc781b48-7789-4796-ad63-c8197ddf3cdd",
   "metadata": {},
   "source": [
    "### Python Modules"
   ]
  },
  {
   "cell_type": "markdown",
   "id": "46881a05-11e7-45a0-b1d5-39e3b10ea9e2",
   "metadata": {},
   "source": [
    "### Importing \"Internal\" Libraries (i.e., Python modules)"
   ]
  },
  {
   "cell_type": "markdown",
   "id": "4f1f0310-cf30-42de-854b-01f13f9aaf41",
   "metadata": {},
   "source": [
    "Over time Python has incorporated many functions into its standard modules (the Python 3.13 Module Index can be viewed [here](https://docs.python.org/3/py-modindex.html)). These modules contain functions that you can import at any time and use at-will. For example, one of these modules, [itertools](https://docs.python.org/3/library/itertools.html), is a good module to import for doing combinatorial mathematics.\n",
    "\n",
    "You can import the module by typing\n",
    "```python\n",
    "import itertools\n",
    "```\n",
    "This will allow you to use any of the functions in `itertools` by typing `itertools.FUNCTION_NAME`.\n",
    "\n",
    "Alternatively, you can use the star/asterisk to retrive _all_ functions in the module by typing\n",
    "```python\n",
    "from itertools import *\n",
    "```\n",
    "\n",
    "This will give you access to all the available functions in that module (more specifically, it adds all the functions in the module to your namespace). Generally speaking you do not want to import any code you don't need (this can cause some issues if you're not careful), so it is generally recommended to only import the functions you need. This can be done by typing\n",
    "\n",
    "```python\n",
    "from itertools import combinations\n",
    "```"
   ]
  },
  {
   "cell_type": "code",
   "execution_count": 9,
   "id": "deb07324-7230-40b2-9072-7722ce65a22f",
   "metadata": {},
   "outputs": [
    {
     "data": {
      "text/plain": [
       "[('a', 'b'), ('a', 'c'), ('a', 'd'), ('b', 'c'), ('b', 'd'), ('c', 'd')]"
      ]
     },
     "execution_count": 9,
     "metadata": {},
     "output_type": "execute_result"
    }
   ],
   "source": [
    "from itertools import combinations\n",
    "list_of_labels = [\"a\", \"b\", \"c\", \"d\"]\n",
    "list(combinations(list_of_labels, r=2))"
   ]
  },
  {
   "cell_type": "markdown",
   "id": "78db5293-085c-4880-a226-c21c93ce06b2",
   "metadata": {},
   "source": [
    "### Importing \"External\" Libraries"
   ]
  },
  {
   "cell_type": "markdown",
   "id": "7f6ff1fe-86ec-43f2-8b1a-c8b8098b4743",
   "metadata": {},
   "source": [
    "<div style=\"background-color: #007acc; color: white; padding: 12px; border-radius: 5px;\">\n",
    "  <h1 style=\"margin: 0;\">4. Plotting in Python</h1>\n",
    "</div>"
   ]
  },
  {
   "cell_type": "markdown",
   "id": "a4d4daf1-3a0d-41e2-86cd-6baf05005958",
   "metadata": {},
   "source": [
    "<div style=\"background-color: #007acc; color: white; padding: 12px; border-radius: 5px;\">\n",
    "  <h1 style=\"margin: 0;\">5. Challenge Problems</h1>\n",
    "</div>"
   ]
  },
  {
   "cell_type": "code",
   "execution_count": null,
   "id": "ea582eca-a18a-451c-b8ff-c6fcf6dd4330",
   "metadata": {},
   "outputs": [],
   "source": []
  }
 ],
 "metadata": {
  "kernelspec": {
   "display_name": "Python 3 (ipykernel)",
   "language": "python",
   "name": "python3"
  },
  "language_info": {
   "codemirror_mode": {
    "name": "ipython",
    "version": 3
   },
   "file_extension": ".py",
   "mimetype": "text/x-python",
   "name": "python",
   "nbconvert_exporter": "python",
   "pygments_lexer": "ipython3",
   "version": "3.11.11"
  }
 },
 "nbformat": 4,
 "nbformat_minor": 5
}
