{
 "cells": [
  {
   "cell_type": "markdown",
   "metadata": {},
   "source": [
    "# PHY 150 Python Lab 1: Introduction to Python Programming"
   ]
  },
  {
   "cell_type": "markdown",
   "metadata": {},
   "source": [
    "## Lab Contents:\n",
    "1. [**What is Code?**](#What-is-Code?)\n",
    "2. [**Using Jupyter Notebooks**](#Using-Jupyter-Notebooks)\n",
    "3. [**Data Types**](#Data-Types) \n",
    "4. [**Operations**](#Operations)\n",
    "5. [**Variables**](#Variables)\n",
    "6. [**Data Structures**](#Data-Structures)"
   ]
  },
  {
   "cell_type": "markdown",
   "metadata": {
    "jp-MarkdownHeadingCollapsed": true
   },
   "source": [
    "# What is Code? "
   ]
  },
  {
   "cell_type": "markdown",
   "metadata": {},
   "source": [
    "**Code** is a set of instructions that a computer can understand and execute.\n",
    "\n",
    "Think of it like:\n",
    "\n",
    "- **A recipe**: Just like a recipe tells you how to make a dish step by step, code tells a computer what to do — step by step.\n",
    "- **A language**: It’s how humans communicate with computers to perform tasks — from simple calculations to creating full-blown applications.\n",
    "\n",
    "In short, code is how we tell computers _what to do_. \n",
    "\n",
    "In this lab, we’ll be using **Python** — a programming language known for being readable, beginner-friendly, and super versatile — to learn how to write code."
   ]
  },
  {
   "cell_type": "markdown",
   "metadata": {
    "jp-MarkdownHeadingCollapsed": true
   },
   "source": [
    "# Using Jupyter Notebooks"
   ]
  },
  {
   "cell_type": "markdown",
   "metadata": {},
   "source": [
    "Before we get to learning about code, let's learn the basics of using a Jupyter notebook -- \n",
    "\n",
    "The fundamental unit of a Jupyter notebook is the _cell_. Cells form the body of the notebook and come in 2 types, **Code** cells and **Markdown** cells. \n",
    "\n",
    "A **code cell** contains code to be executed in the kernel. When the code is run, the notebook displays the output below the code cell that generated it:"
   ]
  },
  {
   "cell_type": "code",
   "execution_count": 2,
   "metadata": {},
   "outputs": [
    {
     "name": "stdout",
     "output_type": "stream",
     "text": [
      "I am a code cell\n"
     ]
    }
   ],
   "source": [
    "print(\"I am a code cell\")"
   ]
  },
  {
   "cell_type": "markdown",
   "metadata": {},
   "source": [
    "We can use the `print()` function in Python to print out the output of our code. While in the interactive notebook, we don't always have to use the print function to display the value of an operation, but it is useful pratice if you ever switch over to other coding envrioments."
   ]
  },
  {
   "cell_type": "markdown",
   "metadata": {},
   "source": [
    "A **markdown cell** contains text formatted using Markdown and displays its output in-place when the Markdown cell is run:"
   ]
  },
  {
   "cell_type": "markdown",
   "metadata": {},
   "source": [
    "I am a Markdown cell"
   ]
  },
  {
   "cell_type": "markdown",
   "metadata": {},
   "source": [
    "When editing a Jupyter notebook, there are 2 modes of operation:\n",
    "1. **Edit mode:** In _edit mode_, you can edit the contents of an individual cell, such as code or markdown text.\n",
    "2. **Command mode:** In _command mode_, you perform actions on the notebook as a whole, such as adding cells, removing cells, duplicating cells, running cells, etc.\n",
    "\n",
    "Below are some commonly used shortcuts for both editor modes."
   ]
  },
  {
   "cell_type": "markdown",
   "metadata": {},
   "source": [
    "<center><h2>Common Jupyter Notebook Shortcuts</h2></center>\n",
    "\n",
    "| Mode         | Shortcut              | Action |\n",
    "|--------------|------------------------|--------|\n",
    "| Command      | `Enter`                | Enter edit mode |\n",
    "| Command      | `Y`                    | Change cell to **Code** |\n",
    "| Command      | `M`                    | Change cell to **Markdown** |\n",
    "| Command      | `Ctrl + S` / `Cmd + S` | Save notebook |\n",
    "| Command      | `A`                    | Insert new cell **above** |\n",
    "| Command      | `B`                    | Insert new cell **below** |\n",
    "| Command      | `D, D`                 | Delete selected cell |\n",
    "| Command      | `Z`                    | Undo cell deletion |\n",
    "| Edit         | `Esc`                  | Enter command mode |\n",
    "| Edit         | `Ctrl + Enter`         | Run cell in place |\n",
    "| Edit         | `Tab`                  | Code completion / indent |\n",
    "| Edit         | `Ctrl + /`             | Comment/uncomment lines |\n",
    "| Edit         | `Ctrl + Z`             | Undo edit |\n",
    "| Edit         | `Ctrl + Y`             | Redo edit |\n",
    "| Edit         | `Ctrl + A`             | Select all in cell |\n",
    "| Edit         | `Up` / `Down`          | Move within cell lines |"
   ]
  },
  {
   "cell_type": "markdown",
   "metadata": {
    "id": "q4BL7HjopdXe",
    "jp-MarkdownHeadingCollapsed": true
   },
   "source": [
    "# Data Types"
   ]
  },
  {
   "cell_type": "markdown",
   "metadata": {},
   "source": [
    "In Python, **data types** define what kind of value you're working with — whether it's a number, text, or something more complex.\n",
    "\n",
    "Some of the common data types:\n",
    "\n",
    "- `int` – An _integer_ is a whole number — positive, negative, or zero — without any decimal point (e.g., `5`, `-12`, `0`). Integers are commonly used for counting, indexing, and simple math operations. While they’re fast and efficient, they can’t represent fractions or precise real-world measurements like time or money.\n",
    "\n",
    "- `float` – A _float_ (i.e., a floating point number) is a number with a decimal point (e.g., `3.14`, `-0.001`, `2.0`). It's used for representing more precise values, such as scientific measurements, percentages, or prices. Be cautious with floats in high-precision math — they can introduce rounding errors due to how computers store decimal numbers.\n",
    "\n",
    "- `str` – A _string_ stores a sequence of characters, like words, sentences, or even numbers as text (e.g., `\"Hello\"`, `\"123\"`). Strings are essential for displaying output, collecting user input, or working with textual data. However, they’re immutable (can’t be changed in place), and operations like searching or modifying parts of a large string can be slow compared to numeric types.\n",
    "\n",
    "- `bool` – A _boolean_ represents one of two values: `True` or `False`. They are commonly used for controling logic in programs — like in conditional statements (i.e., if/then statements, or comparisons using the `and`/`or` operators) or loops. Booleans are simple and efficient, but they can’t store more complex information on their own. \n",
    "\n",
    "In Python, we can use the built-in **type** function to figure out the data type were working with. Run the cell below and place different data types in the function to see what it returns. Use the examples of the different data types given above."
   ]
  },
  {
   "cell_type": "code",
   "execution_count": 10,
   "metadata": {},
   "outputs": [
    {
     "data": {
      "text/plain": [
       "str"
      ]
     },
     "execution_count": 10,
     "metadata": {},
     "output_type": "execute_result"
    }
   ],
   "source": [
    "# TODO: insert data into the `type` function to verify the data type\n",
    "type(\"insert new data here\")"
   ]
  },
  {
   "cell_type": "code",
   "execution_count": 5,
   "metadata": {},
   "outputs": [
    {
     "name": "stdout",
     "output_type": "stream",
     "text": [
      "Age: 25 | Type: <class 'int'>\n",
      "Pi: 3.14159 | Type: <class 'float'>\n",
      "Name: Alice | Type: <class 'str'>\n",
      "Is student: True | Type: <class 'bool'>\n",
      "Colors: ['red', 'green', 'blue'] | Type: <class 'list'>\n"
     ]
    }
   ],
   "source": [
    "# Integer\n",
    "age = 25\n",
    "print(\"Age:\", age, \"| Type:\", type(age))\n",
    "\n",
    "# Float\n",
    "pi = 3.14159\n",
    "print(\"Pi:\", pi, \"| Type:\", type(pi))\n",
    "\n",
    "# String\n",
    "name = \"Alice\"\n",
    "print(\"Name:\", name, \"| Type:\", type(name))\n",
    "\n",
    "# Boolean\n",
    "is_student = True\n",
    "print(\"Is student:\", is_student, \"| Type:\", type(is_student))"
   ]
  },
  {
   "cell_type": "markdown",
   "metadata": {},
   "source": [
    "## Try it Yourself: Fill in the Data Types"
   ]
  },
  {
   "cell_type": "code",
   "execution_count": null,
   "metadata": {},
   "outputs": [],
   "source": [
    "# TODO: Create a variable with an integer value\n",
    "my_integer = \n",
    "\n",
    "# TODO: Create a variable with a float value\n",
    "my_float = \n",
    "\n",
    "# TODO: Create a variable with a string value\n",
    "my_string = \n",
    "\n",
    "# TODO: Create a variable with a boolean value\n",
    "my_bool = "
   ]
  },
  {
   "cell_type": "markdown",
   "metadata": {},
   "source": [
    "## Check your work"
   ]
  },
  {
   "cell_type": "code",
   "execution_count": 7,
   "metadata": {},
   "outputs": [
    {
     "ename": "NameError",
     "evalue": "name 'my_integer' is not defined",
     "output_type": "error",
     "traceback": [
      "\u001b[1;31m---------------------------------------------------------------------------\u001b[0m",
      "\u001b[1;31mNameError\u001b[0m                                 Traceback (most recent call last)",
      "Cell \u001b[1;32mIn[7], line 3\u001b[0m\n\u001b[0;32m      1\u001b[0m \u001b[38;5;66;03m# Let's print out the types of your variables\u001b[39;00m\n\u001b[1;32m----> 3\u001b[0m \u001b[38;5;28mprint\u001b[39m(\u001b[38;5;124m\"\u001b[39m\u001b[38;5;124mmy_integer is of type:\u001b[39m\u001b[38;5;124m\"\u001b[39m, \u001b[38;5;28mtype\u001b[39m(\u001b[43mmy_integer\u001b[49m))\n\u001b[0;32m      4\u001b[0m \u001b[38;5;28mprint\u001b[39m(\u001b[38;5;124m\"\u001b[39m\u001b[38;5;124mmy_float is of type:\u001b[39m\u001b[38;5;124m\"\u001b[39m, \u001b[38;5;28mtype\u001b[39m(my_float))\n\u001b[0;32m      5\u001b[0m \u001b[38;5;28mprint\u001b[39m(\u001b[38;5;124m\"\u001b[39m\u001b[38;5;124mmy_string is of type:\u001b[39m\u001b[38;5;124m\"\u001b[39m, \u001b[38;5;28mtype\u001b[39m(my_string))\n",
      "\u001b[1;31mNameError\u001b[0m: name 'my_integer' is not defined"
     ]
    }
   ],
   "source": [
    "# Let's print out the types of your variables\n",
    "\n",
    "print(\"my_integer is of type:\", type(my_integer))\n",
    "print(\"my_float is of type:\", type(my_float))\n",
    "print(\"my_string is of type:\", type(my_string))\n",
    "print(\"my_bool is of type:\", type(my_bool))"
   ]
  },
  {
   "cell_type": "markdown",
   "metadata": {
    "id": "TqSXoAH4tiJ1",
    "jp-MarkdownHeadingCollapsed": true
   },
   "source": [
    "# Operations"
   ]
  },
  {
   "cell_type": "markdown",
   "metadata": {},
   "source": [
    "Now that we know some data types, lets learn about operations we can peform on these data types."
   ]
  },
  {
   "cell_type": "markdown",
   "metadata": {
    "id": "flecCvZQttsi"
   },
   "source": [
    "Python provides a variety of **operators** that let you perform math, value comparisons, and more. \n",
    "\n",
    "<center><h3>Arithmetic Operators</h3>\n",
    "\n",
    "| Operator | Name              | Example | Result     |\n",
    "|----------|-------------------|---------|------------|\n",
    "| `+`      | Addition           | `3 + 2` | `5`        |\n",
    "| `-`      | Subtraction        | `5 - 1` | `4`        |\n",
    "| `*`      | Multiplication     | `4 * 2` | `8`        |\n",
    "| `/`      | Division           | `8 / 4` | `2.0` (float) |\n",
    "| `%`      | Modulus (remainder)| `10 % 3`| `1`        |\n",
    "| `**`     | Exponentiation     | `2 ** 3`| `8`        |\n",
    "| `//`     | Floor Division     | `9 // 2`| `4`        |\n",
    "\n",
    "<h3>Comparison Operators</h3>\n",
    "\n",
    "| Operator | Meaning                  | Example      | Result   |\n",
    "|----------|--------------------------|--------------|----------|\n",
    "| `==`     | Equal to                 | `5 == 5`     | `True`   |\n",
    "| `!=`     | Not equal to             | `5 != 3`     | `True`   |\n",
    "| `>`      | Greater than             | `7 > 4`      | `True`   |\n",
    "| `<`      | Less than                | `2 < 5`      | `True`   |\n",
    "| `>=`     | Greater than or equal to | `5 >= 5`     | `True`   |\n",
    "| `<=`     | Less than or equal to    | `4 <= 6`     | `True`   |\n",
    "</center>"
   ]
  },
  {
   "cell_type": "markdown",
   "metadata": {
    "id": "K1rPPAAuCu2A"
   },
   "source": [
    "### ➕ Addition"
   ]
  },
  {
   "cell_type": "code",
   "execution_count": 16,
   "metadata": {},
   "outputs": [
    {
     "name": "stdout",
     "output_type": "stream",
     "text": [
      "a + b = 8\n"
     ]
    }
   ],
   "source": [
    "a = 5\n",
    "b = 3\n",
    "print(\"a + b =\", a + b)"
   ]
  },
  {
   "cell_type": "markdown",
   "metadata": {},
   "source": [
    "### ➖ Subtraction"
   ]
  },
  {
   "cell_type": "code",
   "execution_count": 17,
   "metadata": {},
   "outputs": [
    {
     "name": "stdout",
     "output_type": "stream",
     "text": [
      "a - b = 6\n"
     ]
    }
   ],
   "source": [
    "a = 10\n",
    "b = 4\n",
    "print(\"a - b =\", a - b)"
   ]
  },
  {
   "cell_type": "markdown",
   "metadata": {},
   "source": [
    "### ✖️ Multiplication"
   ]
  },
  {
   "cell_type": "code",
   "execution_count": 18,
   "metadata": {},
   "outputs": [
    {
     "name": "stdout",
     "output_type": "stream",
     "text": [
      "x * y = 42\n"
     ]
    }
   ],
   "source": [
    "x = 6\n",
    "y = 7\n",
    "print(\"x * y =\", x * y)"
   ]
  },
  {
   "cell_type": "markdown",
   "metadata": {},
   "source": [
    "### ➗ Division"
   ]
  },
  {
   "cell_type": "code",
   "execution_count": 19,
   "metadata": {},
   "outputs": [
    {
     "name": "stdout",
     "output_type": "stream",
     "text": [
      "x / y = 2.5\n"
     ]
    }
   ],
   "source": [
    "x = 10\n",
    "y = 4\n",
    "print(\"x / y =\", x / y)  # Returns a float"
   ]
  },
  {
   "cell_type": "markdown",
   "metadata": {},
   "source": [
    "### 🧮 Modulus (Remainder)"
   ]
  },
  {
   "cell_type": "code",
   "execution_count": 22,
   "metadata": {},
   "outputs": [
    {
     "name": "stdout",
     "output_type": "stream",
     "text": [
      "x % y = 2\n"
     ]
    }
   ],
   "source": [
    "x = 10\n",
    "y = 4\n",
    "print(\"x % y =\", x % y)"
   ]
  },
  {
   "cell_type": "markdown",
   "metadata": {},
   "source": [
    "### 💥 Exponentiation"
   ]
  },
  {
   "cell_type": "code",
   "execution_count": 23,
   "metadata": {},
   "outputs": [
    {
     "name": "stdout",
     "output_type": "stream",
     "text": [
      "2 ** 3 = 8\n"
     ]
    }
   ],
   "source": [
    "base = 2\n",
    "power = 3\n",
    "print(\"2 ** 3 =\", base ** power)"
   ]
  },
  {
   "cell_type": "markdown",
   "metadata": {},
   "source": [
    "### 🔽 Floor Division"
   ]
  },
  {
   "cell_type": "code",
   "execution_count": 24,
   "metadata": {},
   "outputs": [
    {
     "name": "stdout",
     "output_type": "stream",
     "text": [
      "x // y = 3\n"
     ]
    }
   ],
   "source": [
    "x = 17\n",
    "y = 5\n",
    "print(\"x // y =\", x // y)  # Drops the decimal part"
   ]
  },
  {
   "cell_type": "markdown",
   "metadata": {},
   "source": [
    "### 🔍 Comparison Operators"
   ]
  },
  {
   "cell_type": "code",
   "execution_count": 27,
   "metadata": {},
   "outputs": [
    {
     "name": "stdout",
     "output_type": "stream",
     "text": [
      "a > b: False\n",
      "a < b: True\n",
      "a == b: False\n",
      "a == b: True\n"
     ]
    }
   ],
   "source": [
    "a = 5\n",
    "b = 8\n",
    "print(\"a > b:\", a > b)\n",
    "print(\"a < b:\", a < b)\n",
    "print(\"a == b:\", a == b)\n",
    "print(\"a == b:\", a != b)"
   ]
  },
  {
   "cell_type": "markdown",
   "metadata": {
    "id": "Rwi2iKNYwmOV"
   },
   "source": [
    "**NOTE:** The last two cells print the **boolean** data type that we learned about previously. This means that python checked wether the operation was either true or false based on value of each side, then returned that boolean value."
   ]
  },
  {
   "cell_type": "markdown",
   "metadata": {},
   "source": [
    "## Try it Yourself: Operators"
   ]
  },
  {
   "cell_type": "code",
   "execution_count": 28,
   "metadata": {},
   "outputs": [
    {
     "ename": "SyntaxError",
     "evalue": "invalid syntax (3784515461.py, line 2)",
     "output_type": "error",
     "traceback": [
      "\u001b[1;36m  Cell \u001b[1;32mIn[28], line 2\u001b[1;36m\u001b[0m\n\u001b[1;33m    sum_result =\u001b[0m\n\u001b[1;37m                 ^\u001b[0m\n\u001b[1;31mSyntaxError\u001b[0m\u001b[1;31m:\u001b[0m invalid syntax\n"
     ]
    }
   ],
   "source": [
    "# TODO: Add 12 and 8\n",
    "sum_result = \n",
    "\n",
    "# TODO: Subtract 15 from 100\n",
    "difference = \n",
    "\n",
    "# TODO: Multiply 7 by 9\n",
    "product = \n",
    "\n",
    "# TODO: Divide 144 by 12\n",
    "quotient = \n",
    "\n",
    "# TODO: What is the remainder when 29 is divided by 5?\n",
    "remainder = \n",
    "\n",
    "# TODO: Raise 3 to the power of 4\n",
    "power_result = \n",
    "\n",
    "# TODO: Perform floor division of 29 by 5\n",
    "floor_result = \n",
    "\n",
    "# TODO: Is 12 greater than or equal to 10?\n",
    "is_greater_equal = \n",
    "\n",
    "# TODO: Is 5 less than or equal to 3?\n",
    "is_less_equal = "
   ]
  },
  {
   "cell_type": "markdown",
   "metadata": {},
   "source": [
    "## Check your work"
   ]
  },
  {
   "cell_type": "code",
   "execution_count": null,
   "metadata": {},
   "outputs": [],
   "source": [
    "print(\"Sum:\", sum_result)\n",
    "print(\"Difference:\", difference)\n",
    "print(\"Product:\", product)\n",
    "print(\"Quotient:\", quotient)\n",
    "print(\"Remainder:\", remainder)\n",
    "print(\"Power Result:\", power_result)\n",
    "print(\"Floor Result:\", floor_result)\n",
    "print(\"12 >= 10?\", is_greater_equal)\n",
    "print(\"5 <= 3?\", is_less_equal)"
   ]
  },
  {
   "cell_type": "markdown",
   "metadata": {},
   "source": [
    "## Challenge: Put it all together!"
   ]
  },
  {
   "cell_type": "markdown",
   "metadata": {},
   "source": [
    "Write a single expression that:\n",
    "\n",
    "1. Multiplies 4 by 5  \n",
    "2. Adds 2 to the result  \n",
    "3. Divides the total by 3  \n",
    "4. Then checks if the result is **greater than or equal to 7**\n",
    "\n",
    "Try writing it **all in one line** using parentheses where needed. Then, print the final result."
   ]
  },
  {
   "cell_type": "code",
   "execution_count": 29,
   "metadata": {},
   "outputs": [
    {
     "ename": "SyntaxError",
     "evalue": "invalid syntax (3469448566.py, line 2)",
     "output_type": "error",
     "traceback": [
      "\u001b[1;36m  Cell \u001b[1;32mIn[29], line 2\u001b[1;36m\u001b[0m\n\u001b[1;33m    challenge_result =\u001b[0m\n\u001b[1;37m                       ^\u001b[0m\n\u001b[1;31mSyntaxError\u001b[0m\u001b[1;31m:\u001b[0m invalid syntax\n"
     ]
    }
   ],
   "source": [
    "# TODO: Write your one-line expression here\n",
    "challenge_result = \n",
    "\n",
    "# Print the final result (True or False)\n",
    "print(\"Challenge result:\", challenge_result)"
   ]
  },
  {
   "cell_type": "markdown",
   "metadata": {
    "id": "w0X3p6gCwqhg",
    "jp-MarkdownHeadingCollapsed": true
   },
   "source": [
    "# Variables"
   ]
  },
  {
   "cell_type": "markdown",
   "metadata": {},
   "source": [
    "A **variable** is like a labeled container that stores a value in memory. You can give it a name and assign it a value using the assignment operator `=`. \n",
    "\n",
    "Once you've stored something in a variable, you can use it later in your code without having to retype the value.\n",
    "\n",
    "### Example:\n",
    "\n",
    "```python\n",
    "name = \"Alice\"        # string variable\n",
    "age = 25              # integer variable\n",
    "pi = 3.14159          # float variable\n",
    "\n",
    "print(\"Name:\", name)\n",
    "print(\"Age:\", age)\n",
    "print(\"Value of pi:\", pi)\n",
    "```\n",
    "\n",
    "You can even do multiple variable assignments in a single line if you're feeling fancy:\n",
    "```python\n",
    "a, b, c = 1, 2, 3  # assigns respective values to uniquely named variables\n",
    "a = b = c = 42     # assigns the same value to multiple variables at once\n",
    "```\n",
    "\n",
    "**NOTE**: be careful not to mix up the operators `=` and `==`. They are not the same! As a reminder, `==` is the comparison operator that asks if two objects are equal in value, while the `=` operator is used exclusively to assign data to variables.\n",
    "\n",
    "### Rules for Variable Names\n",
    "1. Must start with a letter or underscore (`_`)\n",
    "2. Can include letters, numbers, and underscores\n",
    "3. Can't start with a number\n",
    "4. Case-sensitive: Name and name are different"
   ]
  },
  {
   "cell_type": "markdown",
   "metadata": {},
   "source": [
    "## Try it Yourself: Fill in the Variables"
   ]
  },
  {
   "cell_type": "code",
   "execution_count": 42,
   "metadata": {},
   "outputs": [
    {
     "ename": "SyntaxError",
     "evalue": "invalid syntax (537731718.py, line 2)",
     "output_type": "error",
     "traceback": [
      "\u001b[1;36m  Cell \u001b[1;32mIn[42], line 2\u001b[1;36m\u001b[0m\n\u001b[1;33m    first_name =\u001b[0m\n\u001b[1;37m                 ^\u001b[0m\n\u001b[1;31mSyntaxError\u001b[0m\u001b[1;31m:\u001b[0m invalid syntax\n"
     ]
    }
   ],
   "source": [
    "# TODO: Create a variable for your first name\n",
    "first_name = \n",
    "\n",
    "# TODO: Create a variable for your age\n",
    "my_age = \n",
    "\n",
    "# TODO: Create a variable for your favorite number (decimal)\n",
    "favorite_number = \n",
    "\n",
    "# TODO: Print each variable on its own line\n"
   ]
  },
  {
   "cell_type": "markdown",
   "metadata": {},
   "source": [
    "## Check your work"
   ]
  },
  {
   "cell_type": "code",
   "execution_count": 43,
   "metadata": {},
   "outputs": [
    {
     "ename": "NameError",
     "evalue": "name 'first_name' is not defined",
     "output_type": "error",
     "traceback": [
      "\u001b[1;31m---------------------------------------------------------------------------\u001b[0m",
      "\u001b[1;31mNameError\u001b[0m                                 Traceback (most recent call last)",
      "Cell \u001b[1;32mIn[43], line 1\u001b[0m\n\u001b[1;32m----> 1\u001b[0m \u001b[38;5;28mprint\u001b[39m(\u001b[38;5;124m\"\u001b[39m\u001b[38;5;124mFirst Name:\u001b[39m\u001b[38;5;124m\"\u001b[39m, \u001b[43mfirst_name\u001b[49m)\n\u001b[0;32m      2\u001b[0m \u001b[38;5;28mprint\u001b[39m(\u001b[38;5;124m\"\u001b[39m\u001b[38;5;124mMy Age:\u001b[39m\u001b[38;5;124m\"\u001b[39m, my_age)\n\u001b[0;32m      3\u001b[0m \u001b[38;5;28mprint\u001b[39m(\u001b[38;5;124m\"\u001b[39m\u001b[38;5;124mFavorite Number:\u001b[39m\u001b[38;5;124m\"\u001b[39m, favorite_number)\n",
      "\u001b[1;31mNameError\u001b[0m: name 'first_name' is not defined"
     ]
    }
   ],
   "source": [
    "print(\"First Name:\", first_name)\n",
    "print(\"My Age:\", my_age)\n",
    "print(\"Favorite Number:\", favorite_number)"
   ]
  },
  {
   "cell_type": "markdown",
   "metadata": {
    "id": "zp9zQ-GSzO6v"
   },
   "source": [
    "## Challenge Problem: Can You Stop the Car?\n",
    "\n",
    "You're writing a physics simulation for a car that is slowing down before an intersection. The car is moving at an initial velocity of **40 m/s** and decelerates at a constant rate of **20 m/s²**. The car only has **35 meters** to reach a complete stop before entering the intersection, so you need to calculate **how far it will travel before coming to a complete stop**.\n",
    "\n",
    "\n",
    "You will need to use the kinematic equation (derived from the work-kinetic energy theorem): \n",
    "\n",
    "$$\\Delta x = \\frac{v_\\text{final}^2 - v_\\text{initial}^2}{2 a_\\text{constant}}$$\n",
    "\n",
    "\n",
    "\n",
    "**Your Tasks:**\n",
    "\n",
    "1. Define the variables you need to solve the problem\n",
    "2. Use the equation to calculate the stopping distance of the car  \n",
    "3. Use a comparison operator to check if the stopping distance is greater than 35 meters  \n",
    "4. Store the result (a boolean) in a variable called `car_too_fast`"
   ]
  },
  {
   "cell_type": "code",
   "execution_count": 41,
   "metadata": {},
   "outputs": [
    {
     "name": "stdout",
     "output_type": "stream",
     "text": [
      "Stopping Distance:  40.0\n",
      "Is the car going too fast?  True\n"
     ]
    }
   ],
   "source": [
    "# TODO: Define the velocity and acceleration\n",
    "vi =   # initial velocity in m/s\n",
    "vf =   # final velocity in m/s\n",
    "a =    # acceleration in m/s²\n",
    "\n",
    "# TODO: Calculate the stopping distance\n",
    "stopping_distance = \n",
    "\n",
    "# TODO: Is the car stopping distance greater than 35 meters?\n",
    "car_too_fast = "
   ]
  },
  {
   "cell_type": "code",
   "execution_count": null,
   "metadata": {},
   "outputs": [],
   "source": [
    "print(\"Stopping Distance: \", stopping_distance)\n",
    "print(\"Is the car going too fast? \", car_too_fast)"
   ]
  },
  {
   "cell_type": "markdown",
   "metadata": {
    "id": "V2qahHKnnJ9a",
    "jp-MarkdownHeadingCollapsed": true
   },
   "source": [
    "# Data Structures"
   ]
  },
  {
   "cell_type": "markdown",
   "metadata": {},
   "source": [
    "Now that we know what types of data we can create, what operations we can perform on that data, and how to assign that data to variables, let's look at more complex ways of storing our data, i.e., using *data structures*.\n",
    "\n",
    "**What is a Data Structure?**\n",
    "\n",
    "A data structure is a way of organizing and storing data so that it can be used efficiently. Think of it like this, if _data_ is your information (e.g., names, numbers, etc.), then a _data structure_ is the container or blueprint for how that data is arranged and accessed.\n",
    "\n",
    "**Why Are Data Structures Important?**\n",
    "\n",
    "Data structures are important because:\n",
    "1. They help you organize data logically (like grouping names in a list, or mapping usernames to passwords)\n",
    "2. They allow you to work with data more efficiently — whether you're searching, sorting, adding, or removing items\n",
    "3. Different problems require different structures — some are better for fast lookups, others for preserving order, or for ensuring uniqueness\n"
   ]
  },
  {
   "cell_type": "markdown",
   "metadata": {},
   "source": [
    "## Python Built-in Data Structures\n",
    "\n",
    "Python provides several **built-in data structures** that allow you to store and organize data in different ways.\n",
    "\n",
    "These are the 4 most common data structures in Python:\n",
    "\n",
    "- **List** - `list()` - A _list_ is an ordered, changeable collection of items (e.g., `my_list = [1, 2, 3]`). You can store numbers, strings, or even other lists. Lists are great for grouping related data, looping over elements, or tracking sequences (like a to-do list). However, lists can become inefficient for large-scale lookups or when you need fast access by key.\n",
    "\n",
    "- **Tuple** - `tuple()` - A _tuple_ is like a list but it is _immutable_, meaning you _cannot change it_ after creation (e.g., `my_tuple = (1.4, 3.3)`).\n",
    "\n",
    "- **Set** - `set()` - A _set_ is an unordered collection of *unique* items, which makes them great for removing duplicates (e.g., `my_set = {\"red\", \"blue\", \"red\"}` will return `{\"red\", \"blue\"}`). \n",
    "\n",
    "- **Dictionary** - `dict()` - A _dict_ is an unordered collection of key-value pairs (e.g., `my_dict = {\"name\": \"Alice\", \"age\": 25}`. It lets you label and quickly access values using a unique key. Dictionaries are perfect for storing structured data (like a user profile with a name, age, etc.).\n",
    "\n",
    "**NOTE:** In Python you _cannot_ use `list`, `set`, `dict`, or `tuple` as variable names. These names are reserved for their respective functions.  \n",
    "\n",
    "<center><h3>Python Data Structures Summary</h3></center>\n",
    "\n",
    "| Structure   | Ordered | Mutable | Unique Items | Syntax Example               |\n",
    "|-------------|---------|---------|---------------|------------------------------|\n",
    "| List        | ✅       | ✅       | ❌             | `[\"a\", \"b\", \"c\"]`            |\n",
    "| Tuple       | ✅       | ❌       | ❌             | `(\"a\", \"b\", \"c\")`            |\n",
    "| Set         | ❌       | ✅       | ✅             | `{\"a\", \"b\", \"c\"}`            |\n",
    "| Dictionary  | ❌       | ✅       | ✅ (keys only) | `{\"key\": \"value\"}`           |\n"
   ]
  },
  {
   "cell_type": "markdown",
   "metadata": {
    "jp-MarkdownHeadingCollapsed": true
   },
   "source": [
    "## Exploring Python Lists\n",
    "\n",
    "A **list** is an ordered collection of items that can be modified. You can access items by index, add new elements, and loop through them.\n",
    "\n",
    "Since items in a list are ordered, you can retrieve the individual elements using their _index_. For a list with 10 elements, the indices are 0-9, where the first element is accessed with index `0` and the last element is accessed using index `9`. Alternatively, you can access the final item in a list using index `-1` (`-2` is the second to last, `-3` is the third to last, etc.). \n",
    "\n",
    "```python\n",
    "fruits = [\"apple\", \"banana\", \"cherry\"]  # create a list and assign it to a variable\n",
    "print(fruits[0])       # access the first element in the list (i.e. \"apple\")\n",
    "print(fruits[-1])      # access the last element in the list (i.e. \"cherry\")\n",
    "```\n",
    "\n",
    "Since a `list` is a built-in data structure, it has a host of _methods_ you can use to access or change the list. Here are some of the commonly used methods:\n",
    "1. **`append(value)`** – Adds an item to the end of the list\n",
    "2. **`insert(index, value)`** – Inserts an item at a specific position\n",
    "3. **`remove(value)`** – Removes the first occurrence of a specified value\n",
    "\n",
    "```python\n",
    "fruits = [\"apple\", \"banana\", \"cherry\"]  # create a list and assign it to a variable\n",
    "fruits.append(\"kiwi\")  # add a new item to the end of the list\n",
    "print(fruits)\n",
    "fruits.insert(0, \"watermelon\")  # add a new item at the beginning of the list\n",
    "print(fruits)\n",
    "fruits.remove(\"banana\")\n",
    "print(fruits)"
   ]
  },
  {
   "cell_type": "markdown",
   "metadata": {},
   "source": [
    "## Try it Yourself: Create and modify a list"
   ]
  },
  {
   "cell_type": "code",
   "execution_count": 2,
   "metadata": {},
   "outputs": [
    {
     "ename": "SyntaxError",
     "evalue": "invalid syntax (1255339317.py, line 2)",
     "output_type": "error",
     "traceback": [
      "\u001b[1;36m  Cell \u001b[1;32mIn[2], line 2\u001b[1;36m\u001b[0m\n\u001b[1;33m    favorite_movies =\u001b[0m\n\u001b[1;37m                      ^\u001b[0m\n\u001b[1;31mSyntaxError\u001b[0m\u001b[1;31m:\u001b[0m invalid syntax\n"
     ]
    }
   ],
   "source": [
    "# TODO: Create a list of your 3 favorite movies\n",
    "favorite_movies = \n",
    "# TODO: Add another movie to your list\n",
    "\n",
    "# TODO: Print the second movie in your list\n",
    "\n",
    "# TODO: Remove the first movie in your list\n",
    "\n",
    "# TODO: Insert \"Shrek\" at the beginning of the list\n",
    "\n",
    "# TODO: Print the first movie in your list using negative indices\n"
   ]
  },
  {
   "cell_type": "markdown",
   "metadata": {},
   "source": [
    "## Exploring Python Dictionaries\n",
    "\n",
    "A **dictionary** in Python is a powerful way to store and organize data using **key-value pairs**. Instead of accessing values with a numeric index (like in a list), you access them using **keys** that describe what the data represents.\n",
    "\n",
    "Dictionaries are great for representing structured data — for example, say you want to store related properties of an object, such as mass, velocity, charge, or position — all labeled clearly by name.\n",
    "\n",
    "_Keys_ are usually strings, whereas _values_ can be any data type (including other dictionaries or lists).\n",
    "\n",
    "```python\n",
    "particle = {\n",
    "    \"mass\": 9.11e-31,           # in kilograms\n",
    "    \"charge\": -1.6e-19,         # in coulombs\n",
    "    \"velocity\": [2.5e6, 0, 0],  # in meters/second\n",
    "    \"position\": [0, 0, 0]       # in meters (x, y, z)\n",
    "}\n",
    "\n",
    "print(particle[\"mass\"])     # Access the mass of the particle\n",
    "print(particle[\"position\"]) # Access the position vector\n",
    "```\n",
    "\n",
    "Python dictionaries also have built-in methods that help you read and update data more safely and efficiently.\n",
    "\n",
    "Here are some commonly used dictionary methods:\n",
    "- `get(key)` – Returns the value for the given key (or `None` if the key doesn’t exist)\n",
    "- `update({key: value})` – Updates the value for an existing key or adds a new key-value pair\n",
    "- `pop(key)` – Removes a key from the dictionary and returns its value\n",
    "\n",
    "```python\n",
    "print(particle.get(\"charge\"))                   # Safer way to access values\n",
    "particle.update({\"velocity\": [3.0e6, 0, 0]})    # Update the velocity\n",
    "print(particle)\n",
    "removed = particle.pop(\"position\")      # Remove the position key\n",
    "print(\"Removed position:\", removed)\n",
    "print(particle)\n",
    "```"
   ]
  },
  {
   "cell_type": "markdown",
   "metadata": {},
   "source": [
    "## Try It Yourself: Celestial Object Dictionary\n",
    "\n",
    "Create a dictionary that stores information about a celestial object (e.g., a planet, star, or moon). Your dictionary should include at least the following keys:\n",
    "\n",
    "- `\"name\"` – the name of the object  \n",
    "- `\"type\"` – the category (e.g., planet, star, moon, asteroid)  \n",
    "- `\"mass\"` – in kilograms  \n",
    "- `\"radius\"` – in kilometers  \n",
    "- `\"distance_from_earth\"` – in kilometers\n",
    "\n",
    "#### Example Data\n",
    "- Name: Mars  \n",
    "- Type: Planet  \n",
    "- Mass: `6.39e23` kg  \n",
    "- Radius: `3389.5` km  \n",
    "- Distance from Earth: `225_000_000` km (on average)\n",
    "\n",
    "Then, try the following:\n",
    "\n",
    "1. Use `print()` or `get()` to access the `\"mass\"` of the object  \n",
    "2. Use `update()` to change the `\"distance_from_earth\"`  \n",
    "3. Use `pop()` to remove the `\"radius\"` key  \n",
    "4. Print the final dictionary to see the updated version"
   ]
  },
  {
   "cell_type": "code",
   "execution_count": null,
   "metadata": {},
   "outputs": [],
   "source": [
    "# TODO: Create a dictionary for a celestial object\n",
    "celestial_object = {\n",
    "    \"name\": ,\n",
    "    \"type\": ,\n",
    "    \"mass\": ,\n",
    "    \"radius\": ,\n",
    "    \"distance_from_earth\": \n",
    "}\n",
    "\n",
    "# TODO: Print the mass of the object\n",
    "print()\n",
    "\n",
    "# TODO: Update the distance from Earth\n",
    "celestial_object.update({\n",
    "    \"distance_from_earth\": \n",
    "})\n",
    "\n",
    "# TODO: Remove the radius key\n",
    "removed_radius = celestial_object.pop(\"radius\")\n",
    "\n",
    "# TODO: Print the updated dictionary\n",
    "print(celestial_object)\n"
   ]
  },
  {
   "cell_type": "markdown",
   "metadata": {
    "jp-MarkdownHeadingCollapsed": true
   },
   "source": [
    "# Challenge Problem: Simulating a Planetary System"
   ]
  },
  {
   "cell_type": "markdown",
   "metadata": {},
   "source": [
    "You’re designing a simple simulation of a planetary system. Each **planet** will be represented using a **dictionary**, and a group of planets will be stored in a **list**.\n",
    "\n",
    "Each planet should have the following properties:\n",
    "- `\"name\"` (str): The planet’s name\n",
    "- `\"mass\"` (float): In kilograms\n",
    "- `\"distance_from_star\"` (float): In kilometers\n",
    "- `\"has_rings\"` (bool): Whether the planet has rings\n",
    "- `\"moons\"` (list of str): The names of its moons\n",
    "\n",
    "### Your Tasks\n",
    "\n",
    "1. Create **two dictionaries**, one for each of two different planets (e.g., Mars and Saturn).\n",
    "2. Add both dictionaries to a **list** called `planetary_system`.\n",
    "3. Print the name of the first planet’s **second moon**.\n",
    "4. Print the mass of the second planet **only if it has rings**.\n",
    "5. Add a **new moon** to the first planet’s moon list.\n",
    "6. Remove the last planet from the `planetary_system` list and print its name."
   ]
  },
  {
   "cell_type": "code",
   "execution_count": null,
   "metadata": {},
   "outputs": [],
   "source": [
    "# TODO: Step 1 – Create two planets using dictionaries\n",
    "mars = {\n",
    "    \"name\": \"Mars\",\n",
    "    \"mass\": 6.39e23,  # kg\n",
    "    \"distance_from_star\": 227_900_000,  # km\n",
    "    \"has_rings\": False,\n",
    "    \"moons\": [\"Phobos\", \"Deimos\"]\n",
    "}\n",
    "\n",
    "saturn = {\n",
    "    \"name\": \"Saturn\",\n",
    "    \"mass\": 5.68e26,  # kg\n",
    "    \"distance_from_star\": 1_429_000_000,  # km\n",
    "    \"has_rings\": True,\n",
    "    \"moons\": [\"Titan\", \"Enceladus\", \"Mimas\"]\n",
    "}\n",
    "\n",
    "# TODO: Step 2 – Add both planets to a list\n",
    "planetary_system = [mars, saturn]\n",
    "\n",
    "# TODO: Step 3 – Print the second moon of the first planet\n",
    "print()\n",
    "\n",
    "# TODO: Step 4 – If the second planet has rings, print its mass\n",
    "if planetary_system[1][\"has_rings\"]:\n",
    "    print()\n",
    "\n",
    "# TODO: Step 5 – Add a new moon to the first planet\n",
    "planetary_system[0][\"moons\"].append(\"Boreas\")\n",
    "\n",
    "# TODO: Step 6 – Remove the last planet and print its name\n",
    "removed_planet = planetary_system.pop()\n",
    "print(\"Removed:\", removed_planet[\"name\"])\n"
   ]
  }
 ],
 "metadata": {
  "colab": {
   "provenance": []
  },
  "kernelspec": {
   "display_name": "Python 3 (ipykernel)",
   "language": "python",
   "name": "python3"
  },
  "language_info": {
   "codemirror_mode": {
    "name": "ipython",
    "version": 3
   },
   "file_extension": ".py",
   "mimetype": "text/x-python",
   "name": "python",
   "nbconvert_exporter": "python",
   "pygments_lexer": "ipython3",
   "version": "3.11.11"
  }
 },
 "nbformat": 4,
 "nbformat_minor": 4
}
