{
 "cells": [
  {
   "cell_type": "markdown",
   "metadata": {
    "id": "BBl-UfOD7w7n"
   },
   "source": [
    "# PHY 150 Python Lab 1: Introduction to Python Programming\n",
    "\n",
    "Nikolaus Awtrey<br />\n",
    "Peter Smith<br />\n",
    "Kevin Trinh<br />\n",
    "Allison Boley<br />"
   ]
  },
  {
   "cell_type": "markdown",
   "metadata": {
    "id": "PTzTyCJk7w7p",
    "jp-MarkdownHeadingCollapsed": true
   },
   "source": [
    "## Lab Contents:\n",
    "1. [**What is Code?**](#1.-What-is-Code?)\n",
    "2. [**Using Jupyter Notebooks**](#2.-Using-Jupyter-Notebooks)\n",
    "3. [**Data Types**](#3.-Data-Types)\n",
    "4. [**Operators**](#4.-Operators)\n",
    "5. [**Variables**](#5.-Variables)\n",
    "6. [**Data Structures**](#6.-Data-Structures)\n",
    "7. [**Challenge Problems**](#7.-Challenge-Problems)"
   ]
  },
  {
   "cell_type": "markdown",
   "metadata": {
    "id": "HsHTzilT7w7q"
   },
   "source": [
    "<div style=\"background-color: #007acc; color: white; padding: 12px; border-radius: 5px;\">\n",
    "  <h1 style=\"margin: 0;\">1. What is Code?</h1>\n",
    "</div>"
   ]
  },
  {
   "cell_type": "markdown",
   "metadata": {
    "id": "BrnFxvae7w7q"
   },
   "source": [
    "**Code** is a set of instructions that a computer can understand and execute.\n",
    "\n",
    "Think of it like:\n",
    "\n",
    "- **A recipe**: Just like a recipe tells you how to make a dish step by step, code tells a computer what to do — step by step.\n",
    "- **A language**: It’s how humans communicate with computers to perform tasks — from simple calculations to creating full-blown applications.\n",
    "\n",
    "In short, code is how we tell computers _what to do_.\n",
    "\n",
    "In this lab, we’ll be using **Python** — a programming language known for being readable, beginner-friendly, and super versatile — to learn how to write code."
   ]
  },
  {
   "cell_type": "markdown",
   "metadata": {
    "id": "nQgFMQUP7w7q"
   },
   "source": [
    "<div style=\"background-color: #007acc; color: white; padding: 12px; border-radius: 5px;\">\n",
    "  <h1 style=\"margin: 0;\">2. Using Jupyter Notebooks</h1>\n",
    "</div>"
   ]
  },
  {
   "cell_type": "markdown",
   "metadata": {
    "id": "_rU37Vfm7w7q"
   },
   "source": [
    "## What is a Jupyter Notebook?\n",
    "\n",
    "To start, this very document is a Jupyter Notebook. [**Jupyter Notebooks**](https://jupyter.org/) are a special type of file (with the file extension `.ipynb`) that allow you to write and execute code, while also offering the ability to write detailed notes using the [Markdown language](https://en.wikipedia.org/wiki/Markdown), all in once place. They are very useful for experimenting with code and are easy to share, making them excellent for new projects, especially ones that require detailed notes or collaboration.\n",
    "\n",
    "Jupyter Notebooks are not the only way to write and store your Python code. It is perhaps more common to write and store code in `.py` files and run it using Python directly. However, this requires multiple installations and a lengthy set-up process. Since Jupyter notebooks are supported by cloud-based services like [Google Colab](https://colab.research.google.com/), it is much easier for us to get started with fewer headaches.\n",
    "\n",
    "## Cells, The Building Blocks of Notebooks\n",
    "\n",
    "The text you are reading is in what is called a _cell_. The **cell** is the fundamental unit of a Jupyter notebook. Cells form the body of the notebook and come in two forms: *code cells* and *markdown cells*. **Code** cells allow you to write and execute Python code, while **markdown** cells let you write and format text and equations. You are currently reading a markdown cell.\n",
    "\n",
    "When a code is run, the notebook displays the output below the code cell that generated it. You can run code by typing `Ctrl + Enter` on your keyboard, or by clicking the play button at the upper left corner of the code cell. Run the code in the following cell."
   ]
  },
  {
   "cell_type": "code",
   "execution_count": null,
   "metadata": {
    "id": "mKQKGG1t7w7r"
   },
   "outputs": [],
   "source": [
    "print(\"I am a code cell\")"
   ]
  },
  {
   "cell_type": "markdown",
   "metadata": {
    "id": "u4mITXMF7w7r"
   },
   "source": [
    "We can use the `print()` function in Python to print out the output of our code. While in the interactive notebook, we don't always have to use the print function to display the value of an operation, but it is useful pratice if you ever switch over to other coding envrioments."
   ]
  },
  {
   "cell_type": "markdown",
   "metadata": {
    "id": "B0zYPtD97w7s"
   },
   "source": [
    "When editing a Jupyter notebook, there are 2 modes of operation:\n",
    "1. **Edit mode:** In _edit mode_, you can edit the contents of an individual cell, such as code or markdown text.\n",
    "2. **Command mode:** In _command mode_, you perform actions on the notebook as a whole, such as running cells, adding cells, removing cells, duplicating cells, etc.\n",
    "\n",
    "Below are some commonly used shortcuts for both editor modes."
   ]
  },
  {
   "cell_type": "markdown",
   "metadata": {
    "id": "pIuT4PT37w7s"
   },
   "source": [
    "<center><h2>Common Jupyter Notebook Shortcuts</h2></center>\n",
    "\n",
    "| Mode         | Shortcut              | Action |\n",
    "|--------------|------------------------|--------|\n",
    "| Command      | `Enter`                | Enter edit mode |\n",
    "| Command      | `Y`                    | Change cell to **Code** |\n",
    "| Command      | `M`                    | Change cell to **Markdown** |\n",
    "| Command      | `Ctrl + S` / `Cmd + S` | Save notebook |\n",
    "| Command      | `A`                    | Insert new cell **above** |\n",
    "| Command      | `B`                    | Insert new cell **below** |\n",
    "| Command      | `D, D`                 | Delete selected cell |\n",
    "| Command      | `Z`                    | Undo cell deletion |\n",
    "| Edit         | `Esc`                  | Enter command mode |\n",
    "| Edit         | `Ctrl + Enter`         | Run cell in place |\n",
    "| Edit         | `Tab`                  | Code completion / indent |\n",
    "| Edit         | `Ctrl + /`             | Comment/uncomment lines |\n",
    "| Edit         | `Ctrl + Z`             | Undo edit |\n",
    "| Edit         | `Ctrl + Y`             | Redo edit |\n",
    "| Edit         | `Ctrl + A`             | Select all in cell |\n",
    "| Edit         | `Up` / `Down`          | Move within cell lines |"
   ]
  },
  {
   "cell_type": "markdown",
   "metadata": {
    "id": "q4BL7HjopdXe"
   },
   "source": [
    "<div style=\"background-color: #007acc; color: white; padding: 12px; border-radius: 5px;\">\n",
    "  <h1 style=\"margin: 0;\">3. Data Types</h1>\n",
    "</div>"
   ]
  },
  {
   "cell_type": "markdown",
   "metadata": {
    "id": "ewS_rYso7w7s"
   },
   "source": [
    "In Python, **data types** define what kind of value you're working with — whether it's a number, text, or something more complex.\n",
    "\n",
    "Some of the common data types:\n",
    "\n",
    "- `int` – An _integer_ is a whole number — positive, negative, or zero — without any decimal point (e.g., `5`, `-12`, `0`). Integers are commonly used for counting, indexing, and simple math operations. While they’re fast and efficient, they can’t represent fractions or precise real-world measurements like time or money.\n",
    "\n",
    "Run the following code as is, and then change 25 to your age and run it again."
   ]
  },
  {
   "cell_type": "code",
   "execution_count": null,
   "metadata": {
    "id": "7OizFKAe7w7s"
   },
   "outputs": [],
   "source": [
    "# Integer\n",
    "age = 25\n",
    "print(\"Age:\", age, \"| Type:\", type(age))"
   ]
  },
  {
   "cell_type": "markdown",
   "metadata": {
    "id": "Xybu3qkL-I2C"
   },
   "source": [
    "- `float` – A _float_ (i.e., a floating point number) is a number with a decimal point (e.g., `3.14`, `-0.001`, `2.0`). It's used for representing more precise values, such as scientific measurements, percentages, or prices. Be cautious with floats in high-precision math — they can introduce rounding errors due to how computers store decimal numbers.\n",
    "\n",
    "Run the following code as is, and then add more digits to pi and run it again."
   ]
  },
  {
   "cell_type": "code",
   "execution_count": null,
   "metadata": {
    "id": "xOVEslTS7w7s"
   },
   "outputs": [],
   "source": [
    "# Float\n",
    "pi = 3.14159\n",
    "print(\"Pi:\", pi, \"| Type:\", type(pi))"
   ]
  },
  {
   "cell_type": "markdown",
   "metadata": {
    "id": "Rt6nrX1Z-OIT"
   },
   "source": [
    "- `str` – A _string_ stores a sequence of characters, like words, sentences, or even numbers as text (e.g., `\"Hello\"`, `\"123\"`). Strings are essential for displaying output, collecting user input, or working with textual data. However, they’re immutable (can’t be changed in place), and operations like searching or modifying parts of a large string can be slow compared to numeric types. In the example below, note the use of quotation marks in strings.\n",
    "\n",
    "Run the following code as is, and then change \"Alice\" to your name and run it again."
   ]
  },
  {
   "cell_type": "code",
   "execution_count": null,
   "metadata": {
    "id": "PlrIIGKq7w7t"
   },
   "outputs": [],
   "source": [
    "# String\n",
    "name = \"Alice\"\n",
    "print(\"Name:\", name, \"| Type:\", type(name))"
   ]
  },
  {
   "cell_type": "markdown",
   "metadata": {
    "id": "d33QnG5k-RrZ"
   },
   "source": [
    "- `bool` – A _boolean_ represents one of two values: `True` or `False`. They are commonly used for controling logic in programs — like in conditional statements (i.e., if/then statements, or comparisons using the `and`/`or` operators) or loops. Booleans are simple and efficient, but they can’t store more complex information on their own.\n",
    "\n",
    "Run the following code as is, and then change True to False and run it again."
   ]
  },
  {
   "cell_type": "code",
   "execution_count": null,
   "metadata": {
    "id": "Xu0_N7XZ7w7t"
   },
   "outputs": [],
   "source": [
    "# Boolean\n",
    "is_student = True\n",
    "print(\"Is student:\", is_student, \"| Type:\", type(is_student))"
   ]
  },
  {
   "cell_type": "markdown",
   "metadata": {
    "id": "sitzAAkr-WHf"
   },
   "source": [
    "In Python, we can use the built-in **type** function to figure out the data type were working with. Python **functions** are coding objects with inputs and outputs.\n",
    "\n",
    "In the case of the `type` function, our input is the name or value of a variable, and the output is the data type of that variable. For example, if our input were `age` (the name of the variable) based on the `# Integer` example above, then our output would be `<class: 'int'>` to indicate that the variable age is an integer. We could also input `25` (the value of the variable), and the output would still be the same.\n",
    "\n",
    "To _call_ a function on a given input you simply type the name of the function with the input in parenthesis (e.g., `type(INPUT)`, where the word `INPUT` would be replaced by the variable name), and it will _return_ the output of the function.\n",
    "\n",
    "Run the cell below and place different data types in the `type` function to see what it returns. Use the examples of the different data types given above."
   ]
  },
  {
   "cell_type": "code",
   "execution_count": null,
   "metadata": {
    "id": "fUvWKR9Q7w7s"
   },
   "outputs": [],
   "source": [
    "# TODO: insert data into the `type` function to verify the data type\n",
    "type(3.14)"
   ]
  },
  {
   "cell_type": "markdown",
   "metadata": {
    "id": "3JlGT5_l7w7t"
   },
   "source": [
    "<div style=\"border-left: 5px solid goldenrod; padding: 10px; background-color: #fff8dc;\"> <strong>Note:</strong>\n",
    "In the code cells above you may have noticed lines starting with <code>#</code>. These lines are called code <b>comments</b>. Comments in Python are notes written in your code that explain what the code is <i>doing</i>, but are <i>ignored</i> by the computer when the program runs. They're useful for explaining your logic, writing out equations, or even leaving reminders for yourself or others. The examples above are <b>single-line comments</b>, but you can also do <b>inline comments</b>, where you add a comment to the <i>end</i> of a line of code, which is often useful for writing units on numbers.\n",
    "</div>"
   ]
  },
  {
   "cell_type": "markdown",
   "metadata": {
    "id": "ijWdyBww7w7t"
   },
   "source": [
    "<div style=\"background-color: #28a745; color: white; padding: 12px; border-radius: 5px;\">\n",
    "  <h2 style=\"margin: 0;\">Try it Yourself: Fill in the Data Types</h2>\n",
    "</div>"
   ]
  },
  {
   "cell_type": "markdown",
   "metadata": {
    "id": "TKtdQj2ACDtJ"
   },
   "source": [
    "After each equal sign, type an example of the indicated variable type, and execute the code."
   ]
  },
  {
   "cell_type": "code",
   "execution_count": null,
   "metadata": {
    "id": "eZiAnRb_7w7t"
   },
   "outputs": [],
   "source": [
    "# TODO: Create a variable with an integer value\n",
    "my_integer =\n",
    "\n",
    "# TODO: Create a variable with a float value\n",
    "my_float =\n",
    "\n",
    "# TODO: Create a variable with a string value\n",
    "my_string =\n",
    "\n",
    "# TODO: Create a variable with a boolean value\n",
    "my_bool ="
   ]
  },
  {
   "cell_type": "markdown",
   "metadata": {
    "id": "B6r-g6Gc7w7t"
   },
   "source": [
    "<div style=\"background-color: #d4edda; padding: 15px; border-left: 5px solid #28a745; border-radius: 5px;\">\n",
    "  <h4>✅ Check Your Work</h4>\n",
    "</div>"
   ]
  },
  {
   "cell_type": "markdown",
   "metadata": {
    "id": "v77BRqEfCLl8"
   },
   "source": [
    "Run the following code cell and compare the results to the data types you intended to enter."
   ]
  },
  {
   "cell_type": "code",
   "execution_count": null,
   "metadata": {
    "id": "u_du6pyf7w7t"
   },
   "outputs": [],
   "source": [
    "# Let's print out the types of your variables\n",
    "print(\"my_integer is of type:\", type(my_integer))\n",
    "print(\"my_float is of type:\", type(my_float))\n",
    "print(\"my_string is of type:\", type(my_string))\n",
    "print(\"my_bool is of type:\", type(my_bool))"
   ]
  },
  {
   "cell_type": "markdown",
   "metadata": {
    "id": "TqSXoAH4tiJ1"
   },
   "source": [
    "<div style=\"background-color: #007acc; color: white; padding: 12px; border-radius: 5px;\">\n",
    "  <h1 style=\"margin: 0;\">4. Operators</h1>\n",
    "</div>"
   ]
  },
  {
   "cell_type": "markdown",
   "metadata": {
    "id": "flecCvZQttsi"
   },
   "source": [
    "Now that we are familiar with some of the different data types, lets learn about operations we can peform on our data. Python provides a variety of **operators** that let you perform math, value comparisons, and more. First we will tackle **arithmetic operators**.\n",
    "\n",
    "<center>\n",
    "<h2>Arithmetic Operators</h2>\n",
    "\n",
    "| Operator | Name             | Description                                      | Example    | Result |\n",
    "|----------|------------------|--------------------------------------------------|------------|--------|\n",
    "| `+`      | Addition          | Adds two numbers                                 | `3 + 2`    | `5`    |\n",
    "| `-`      | Subtraction       | Subtracts the right operand from the left        | `5 - 2`    | `3`    |\n",
    "| `*`      | Multiplication    | Multiplies two numbers                           | `4 * 3`    | `12`   |\n",
    "| `/`      | Division          | Divides left by right (returns a `float`)          | `10 / 4`   | `2.5`  |\n",
    "| `//`     | Floor Division    | Divides and rounds *down* to the nearest whole | `10 // 4`  | `2`    |\n",
    "| `%`      | Modulus           | Returns the *remainder* of division            | `10 % 4`   | `2`    |\n",
    "| `**`     | Exponentiation    | Raises left to the power of right                | `2 ** 3`   | `8`    |\n",
    "\n",
    "</center>\n",
    "\n",
    "These operators work with both `int` and `float` data types and follow standard _order of operations_ (i.e., PEMDAS).\n",
    "\n",
    "Run the following code cells. If desired, modify the variables and run them again to reinforce your understanding."
   ]
  },
  {
   "cell_type": "markdown",
   "metadata": {
    "id": "K1rPPAAuCu2A"
   },
   "source": [
    "#### Addition"
   ]
  },
  {
   "cell_type": "code",
   "execution_count": null,
   "metadata": {
    "id": "m_RY73Mm7w7t"
   },
   "outputs": [],
   "source": [
    "a = 5\n",
    "b = 3\n",
    "print(\"a + b =\", a + b)"
   ]
  },
  {
   "cell_type": "markdown",
   "metadata": {
    "id": "hLD_AMUm7w7t"
   },
   "source": [
    "#### Subtraction"
   ]
  },
  {
   "cell_type": "code",
   "execution_count": null,
   "metadata": {
    "id": "wbSyp_RJ7w7t"
   },
   "outputs": [],
   "source": [
    "a = 10\n",
    "b = 4\n",
    "print(\"a - b =\", a - b)"
   ]
  },
  {
   "cell_type": "markdown",
   "metadata": {
    "id": "knAhItaN7w7u"
   },
   "source": [
    "#### Multiplication"
   ]
  },
  {
   "cell_type": "code",
   "execution_count": null,
   "metadata": {
    "id": "EFUaampj7w7u"
   },
   "outputs": [],
   "source": [
    "x = 6\n",
    "y = 7\n",
    "print(\"x * y =\", x * y)"
   ]
  },
  {
   "cell_type": "markdown",
   "metadata": {
    "id": "1WNbnhno7w7u"
   },
   "source": [
    "#### Division"
   ]
  },
  {
   "cell_type": "code",
   "execution_count": null,
   "metadata": {
    "id": "6zu7q8Kd7w7u"
   },
   "outputs": [],
   "source": [
    "x = 10\n",
    "y = 4\n",
    "print(\"x / y =\", x / y)  # Returns a float"
   ]
  },
  {
   "cell_type": "markdown",
   "metadata": {
    "id": "kGwK7buK7w7u"
   },
   "source": [
    "#### Modulus (Remainder)"
   ]
  },
  {
   "cell_type": "code",
   "execution_count": null,
   "metadata": {
    "id": "QL1qGqPo7w7u"
   },
   "outputs": [],
   "source": [
    "x = 10\n",
    "y = 4\n",
    "print(\"x % y =\", x % y)"
   ]
  },
  {
   "cell_type": "markdown",
   "metadata": {
    "id": "Qr1oNKHI7w7u"
   },
   "source": [
    "#### Exponentiation"
   ]
  },
  {
   "cell_type": "code",
   "execution_count": null,
   "metadata": {
    "id": "kI536Vy27w7u"
   },
   "outputs": [],
   "source": [
    "base = 2\n",
    "power = 3\n",
    "print(\"2 ** 3 =\", base ** power)"
   ]
  },
  {
   "cell_type": "markdown",
   "metadata": {
    "id": "IDTNHLXY7w7u"
   },
   "source": [
    "#### Floor Division"
   ]
  },
  {
   "cell_type": "code",
   "execution_count": null,
   "metadata": {
    "id": "ZKhadwKr7w7x"
   },
   "outputs": [],
   "source": [
    "x = 17\n",
    "y = 5\n",
    "print(\"x // y =\", x // y)  # Drops digits after the decimal"
   ]
  },
  {
   "cell_type": "markdown",
   "metadata": {
    "id": "bACzmIW67w7x"
   },
   "source": [
    "## Comparison and Logical Operators"
   ]
  },
  {
   "cell_type": "markdown",
   "metadata": {
    "id": "jEPEes9V7w7x"
   },
   "source": [
    "Beyond the arithmetic operators, we have many ways of comparing values between data. This type of operator is called a _comparison operator_, because they are used to make value comparisons.\n",
    "\n",
    "<center>\n",
    "<h3>Comparison Operators</h3>\n",
    "\n",
    "| Operator | Name                     | Description                                      | Example     | Result    |\n",
    "|----------|--------------------------|--------------------------------------------------|-------------|-----------|\n",
    "| `==`     | Equal to                 | Checks if two values are equal                   | `5 == 5`    | `True`    |\n",
    "| `!=`     | Not equal to             | Checks if two values are not equal               | `5 != 3`    | `True`    |\n",
    "| `>`      | Greater than             | Checks if the left value is greater              | `7 > 4`     | `True`    |\n",
    "| `<`      | Less than                | Checks if the left value is smaller              | `2 < 5`     | `True`    |\n",
    "| `>=`     | Greater than or equal to | Checks if the left value is greater or equal     | `5 >= 5`    | `True`    |\n",
    "| `<=`     | Less than or equal to    | Checks if the left value is smaller or equal     | `4 <= 6`    | `True`    |\n",
    "\n",
    "</center>\n",
    "\n",
    "Logical operators allow us to combine multiple comparison operators. For example, we might want to determine whether the value of a variable is between two other values (e.g. 8 <= age <= 10). To code this situation, we would use the logical operator `and` (`8 <= age and age <=10`). The other two logical operators are `or` and `not`.\n",
    "\n",
    "<center>\n",
    "<h3>Logical Operators</h3>\n",
    "\n",
    "| Operator |  Description                                      | Example     | Result    |\n",
    "|----------|--------------------------------------------------|-------------|-----------|\n",
    "| `and`     |  Checks if two conditions are true simultaneously                  | `5 == 5 and 4 == 4`   | `True`    |\n",
    "| `or`     |  Checks if at least one condition is true              | `5 == 5 or 5 == 3`    | `True`    |\n",
    "| `not`      |  Checks if the condition is not true              | `not 7 < 4`     | `True`    |\n",
    "\n",
    "</center>\n"
   ]
  },
  {
   "cell_type": "markdown",
   "metadata": {
    "id": "Br2vI3jv7w7x"
   },
   "source": [
    "Comparisons and logical operators always return a Boolean result (i.e., `True` or `False`). Run the following code to see examples:"
   ]
  },
  {
   "cell_type": "code",
   "execution_count": null,
   "metadata": {
    "id": "wHuHSeFW7w7x"
   },
   "outputs": [],
   "source": [
    "a = 5\n",
    "b = 8\n",
    "c = 10\n",
    "print(\"a > b:\", a > b)\n",
    "print(\"a < b:\", a < b)\n",
    "print(\"a == b:\", a == b)\n",
    "print(\"a != b:\", a != b)\n",
    "print(\"b < a and b < c:\", b < a and b < c)\n",
    "print(\"b < a or b < c:\", a < b or b < c)\n",
    "print(\"not b < a:\", not b < a)"
   ]
  },
  {
   "cell_type": "markdown",
   "metadata": {
    "id": "b8h4E3Sr7w7y"
   },
   "source": [
    "### Using Comparison and Logical Operators in Conditional Statements"
   ]
  },
  {
   "cell_type": "markdown",
   "metadata": {
    "id": "q1a1MQtt7w7y"
   },
   "source": [
    "Comparison operators are useful for writing **conditional statements**. Conditional statements are used to let your computer make decisions based on whether something is `True` or `False`. Conditional statements _depend_ on comparison operators to evaluate conditions like:\n",
    "\n",
    "- Is one number greater than another?\n",
    "- Are two values equal?\n",
    "- Is a value within a certain range?\n",
    "\n",
    "These comparisons guide the program’s behavior, allowing it to take different paths based on different situations. In Python, the most common conditional structure is the `if` statement:\n",
    "\n",
    "```python\n",
    "if condition:\n",
    "    # do something\n",
    "```\n",
    "\n",
    "The `condition` is usually an expression that uses comparison operators (like `==`, `<`, or `>=`) to compare values and evaluate to `True` or `False`. For example, if we were writing code that monitored temperature and reported back to the user we might write something like the following:"
   ]
  },
  {
   "cell_type": "code",
   "execution_count": null,
   "metadata": {
    "id": "rd0qf3c8CvW5"
   },
   "outputs": [],
   "source": [
    "temperature = 30\n",
    "if temperature > 25:\n",
    "    print(\"It's warm outside!\")"
   ]
  },
  {
   "cell_type": "markdown",
   "metadata": {
    "id": "WRNSB4aUC4--"
   },
   "source": [
    "If you need to check multiple cases and want a different output for each case, you can extend conditions using `elif` (i.e. _else if_ ) and `else`:"
   ]
  },
  {
   "cell_type": "code",
   "execution_count": null,
   "metadata": {
    "id": "fDILIA7GCzyj"
   },
   "outputs": [],
   "source": [
    "if temperature > 30:\n",
    "    print(\"It's hot!\")\n",
    "elif temperature > 20:\n",
    "    print(\"It's warm.\")\n",
    "else:\n",
    "    print(\"It's cool.\")"
   ]
  },
  {
   "cell_type": "markdown",
   "metadata": {
    "id": "GmneOljhYX1L"
   },
   "source": [
    "Logical operators can be used in conditional statements as well."
   ]
  },
  {
   "cell_type": "code",
   "execution_count": null,
   "metadata": {
    "id": "czR8CKoFZB0y"
   },
   "outputs": [],
   "source": [
    "if temperature >= 4 and temperature <= 35:\n",
    "  print(\"A human can survive.\")\n",
    "else:\n",
    "  print(\"A human cannot survive.\")"
   ]
  },
  {
   "cell_type": "markdown",
   "metadata": {
    "id": "qUZVWGXx7w7y"
   },
   "source": [
    "<div style=\"background-color: #28a745; color: white; padding: 12px; border-radius: 5px;\">\n",
    "  <h2 style=\"margin: 0;\">Try it Yourself: Fill in the Operators</h2>\n",
    "</div>"
   ]
  },
  {
   "cell_type": "code",
   "execution_count": null,
   "metadata": {
    "id": "XcgSVL4e7w7y"
   },
   "outputs": [],
   "source": [
    "# TODO: Add 12 and 8\n",
    "sum_result =\n",
    "\n",
    "# TODO: Subtract 15 from 100\n",
    "difference =\n",
    "\n",
    "# TODO: Multiply 7 by 9\n",
    "product =\n",
    "\n",
    "# TODO: Divide 144 by 12\n",
    "quotient =\n",
    "\n",
    "# TODO: What is the remainder when 29 is divided by 5?\n",
    "remainder =\n",
    "\n",
    "# TODO: Raise 3 to the power of 4\n",
    "power_result =\n",
    "\n",
    "# TODO: Perform floor division of 29 by 5\n",
    "floor_result =\n",
    "\n",
    "# TODO: Is 12 greater than or equal to 10?\n",
    "is_greater_equal =\n",
    "\n",
    "# TODO: Is 5 less than or equal to 3?\n",
    "is_less_equal =\n",
    "\n",
    "# TODO: Write a conditional statement that prints \"The remainder is more than 3\" if the variable remainder > 3,\n",
    "# \"The remainder is less than 3\" if remainder < 3, and\n",
    "# \"The remainder is equal to 3\" if remainder = 3\n"
   ]
  },
  {
   "cell_type": "markdown",
   "metadata": {
    "id": "-fOtDAj27w7y"
   },
   "source": [
    "<div style=\"background-color: #d4edda; padding: 15px; border-left: 5px solid #28a745; border-radius: 5px;\">\n",
    "  <h4>✅ Check Your Work</h4>\n",
    "</div>"
   ]
  },
  {
   "cell_type": "code",
   "execution_count": null,
   "metadata": {
    "id": "3S_GDYFe7w7y"
   },
   "outputs": [],
   "source": [
    "print(\"Sum:\", sum_result)\n",
    "print(\"Difference:\", difference)\n",
    "print(\"Product:\", product)\n",
    "print(\"Quotient:\", quotient)\n",
    "print(\"Remainder:\", remainder)\n",
    "print(\"Power Result:\", power_result)\n",
    "print(\"Floor Result:\", floor_result)\n",
    "print(\"12 >= 10?\", is_greater_equal)\n",
    "print(\"5 <= 3?\", is_less_equal)"
   ]
  },
  {
   "cell_type": "markdown",
   "metadata": {
    "id": "w0X3p6gCwqhg"
   },
   "source": [
    "<div style=\"background-color: #007acc; color: white; padding: 12px; border-radius: 5px;\">\n",
    "  <h1 style=\"margin: 0;\">5. Variables</h1>\n",
    "</div>"
   ]
  },
  {
   "cell_type": "markdown",
   "metadata": {
    "id": "OvxXvoS77w7y"
   },
   "source": [
    "A **variable** is like a labeled container that stores a value in memory. You can give it a name and assign it a value using the assignment operator `=`.\n",
    "\n",
    "Once you've stored something in a variable, you can use it later in your code without having to retype the value.\n",
    "\n",
    "### Example:"
   ]
  },
  {
   "cell_type": "code",
   "execution_count": null,
   "metadata": {
    "id": "gkyFqsde7w7y"
   },
   "outputs": [],
   "source": [
    "name = \"Alice\"        # string variable\n",
    "age = 25              # integer variable\n",
    "pi = 3.14159          # float variable\n",
    "\n",
    "print(\"Name:\", name)\n",
    "print(\"Age:\", age)\n",
    "print(\"Value of pi:\", pi)"
   ]
  },
  {
   "cell_type": "markdown",
   "metadata": {
    "id": "Dzjj6gyD7w7y"
   },
   "source": [
    "You can even do multiple variable assignments in a single line:"
   ]
  },
  {
   "cell_type": "code",
   "execution_count": null,
   "metadata": {
    "id": "Mzjr1Eft7w7y"
   },
   "outputs": [],
   "source": [
    "a, b, c = 1, 2, 3  # assigns respective values to uniquely named variables\n",
    "x = y = z = 42     # assigns the same value to multiple variables at once\n",
    "\n",
    "print(a, b, c, x, y, z)"
   ]
  },
  {
   "cell_type": "markdown",
   "metadata": {
    "id": "D9VUmESG7w7y"
   },
   "source": [
    "<div style=\"border-left: 5px solid goldenrod; padding: 10px; background-color: #fff8dc;\">\n",
    "  <strong>Note:</strong> Be careful not to mix up the operators <code>=</code> and <code>==</code>. They are not the same! As a reminder, <code>==</code> is the comparison operator that asks if two objects are equal in value, while the <code>=</code> operator is used exclusively to assign data to variables.\n",
    "</div>"
   ]
  },
  {
   "cell_type": "markdown",
   "metadata": {
    "id": "0hw0aUnF7w7y"
   },
   "source": [
    "### Rules for Variable Names\n",
    "1. Must start with a letter or underscore (`_`)\n",
    "2. Can include letters, numbers, and underscores\n",
    "3. Can't start with a number\n",
    "4. Case-sensitive: Name and name are different"
   ]
  },
  {
   "cell_type": "markdown",
   "metadata": {
    "id": "cbU-afyZ7w7y"
   },
   "source": [
    "<div style=\"background-color: #28a745; color: white; padding: 12px; border-radius: 5px;\">\n",
    "  <h2 style=\"margin: 0;\">Try it Yourself: Fill in the Variables</h2>\n",
    "</div>"
   ]
  },
  {
   "cell_type": "code",
   "execution_count": null,
   "metadata": {
    "id": "Pi20uqqU7w7z"
   },
   "outputs": [],
   "source": [
    "# TODO: Create a variable for your first name\n",
    "first_name =\n",
    "\n",
    "# TODO: Create a variable for your age\n",
    "my_age =\n",
    "\n",
    "# TODO: Create a variable for your favorite number (decimal)\n",
    "favorite_number =\n",
    "\n",
    "# TODO: Print each variable on its own line\n"
   ]
  },
  {
   "cell_type": "markdown",
   "metadata": {
    "id": "EICJhMTB7w7z"
   },
   "source": [
    "<div style=\"background-color: #d4edda; padding: 15px; border-left: 5px solid #28a745; border-radius: 5px;\">\n",
    "  <h4>✅ Check Your Work</h4>\n",
    "</div>"
   ]
  },
  {
   "cell_type": "code",
   "execution_count": null,
   "metadata": {
    "id": "6rx_-tLI7w7z"
   },
   "outputs": [],
   "source": [
    "print(\"First Name:\", first_name)\n",
    "print(\"My Age:\", my_age)\n",
    "print(\"Favorite Number:\", favorite_number)"
   ]
  },
  {
   "cell_type": "markdown",
   "metadata": {
    "id": "vDsnURGU7w7z"
   },
   "source": [
    "<div style=\"background-color: #28a745; color: white; padding: 12px; border-radius: 5px;\">\n",
    "  <h2 style=\"margin: 0;\">Challenge! Can you stop the car?</h2>\n",
    "</div>"
   ]
  },
  {
   "cell_type": "markdown",
   "metadata": {
    "id": "zp9zQ-GSzO6v"
   },
   "source": [
    "You're writing a physics simulation for a car that is slowing down before an intersection. The car is moving at an initial velocity of `40` m/s and decelerates at a constant rate of `20` m/s². The car only has `35` meters to reach a complete stop before entering the intersection. You need to calculate _how far it will travel before coming to a complete stop_.\n",
    "\n",
    "You will need to use the kinematic equation (derived from the work-kinetic energy theorem):\n",
    "\n",
    "$$\\Delta x = \\frac{v_\\text{final}^2 - v_\\text{initial}^2}{2 a_\\text{constant}}$$\n",
    "\n",
    "#### Your Tasks\n",
    "\n",
    "1. Define the variables you need to solve the problem\n",
    "2. Use the equation to calculate the stopping distance of the car  \n",
    "3. Use a conditional statement to:\n",
    "   - Print `\"The car will not stop in time!\"` if the stopping distance is **greater than 35 meters**\n",
    "   - Print `\"The car will stop before entering the intersection.\"` if the stopping distance is **less than 35 meters**"
   ]
  },
  {
   "cell_type": "code",
   "execution_count": null,
   "metadata": {
    "id": "9Zb1RzE47w7z"
   },
   "outputs": [],
   "source": [
    "# TODO: Define the velocity and acceleration\n",
    "vi =   # initial velocity in m/s\n",
    "vf =   # final velocity in m/s\n",
    "a =    # acceleration in m/s²\n",
    "\n",
    "# TODO: Calculate the stopping distance\n",
    "stopping_distance =\n",
    "\n",
    "# TODO: Use conditional (i.e. if/then) statements to print the appropriate text based on the stopping distance\n"
   ]
  },
  {
   "cell_type": "markdown",
   "metadata": {
    "id": "V2qahHKnnJ9a"
   },
   "source": [
    "<div style=\"background-color: #007acc; color: white; padding: 12px; border-radius: 5px;\">\n",
    "  <h1 style=\"margin: 0;\">6. Data Structures</h1>\n",
    "</div>"
   ]
  },
  {
   "cell_type": "markdown",
   "metadata": {
    "id": "urDTMkvO7w7z"
   },
   "source": [
    "Now that we know what types of data we can create, what operations we can perform on that data, and how to assign that data to variables, let's look at more complex ways of storing our data, i.e., using *data structures*.\n",
    "\n",
    "**What is a Data Structure?**\n",
    "\n",
    "A data structure is a way of organizing and storing data so that it can be used efficiently. Think of it like this, if _data_ is your information (e.g., names, numbers, etc.), then a _data structure_ is the container or blueprint for how that data is arranged and accessed.\n",
    "\n",
    "**Why Are Data Structures Important?**\n",
    "\n",
    "Data structures are important because:\n",
    "1. They help you organize data logically (like grouping names in a list, or mapping usernames to passwords)\n",
    "2. They allow you to work with data more efficiently — whether you're searching, sorting, adding, or removing items\n",
    "3. Different problems require different structures — some are better for fast lookups, others for preserving order, or for ensuring uniqueness\n"
   ]
  },
  {
   "cell_type": "markdown",
   "metadata": {
    "id": "_f_AeD0D7w7z"
   },
   "source": [
    "## Python Built-in Data Structures\n",
    "\n",
    "Python provides several **built-in data structures** that allow you to store and organize data in different ways.\n",
    "\n",
    "These are the 4 most common data structures in Python:\n",
    "\n",
    "- **List** - `list()` - A _list_ is an ordered, changeable collection of items (e.g., `my_list = [1, 2, 3]`). You can store numbers, strings, or even other lists. Lists are great for grouping related data, looping over elements, or tracking sequences (like a to-do list). However, lists can become inefficient for large-scale lookups or when you need fast access by key.\n",
    "\n",
    "- **Tuple** - `tuple()` - A _tuple_ is like a list but it is _immutable_, meaning you _cannot change it_ after creation (e.g., `my_tuple = (1.4, 3.3)`).\n",
    "\n",
    "- **Set** - `set()` - A _set_ is an unordered collection of *unique* items, which makes them great for removing duplicates (e.g., `my_set = {\"red\", \"blue\", \"red\"}` will return `{\"red\", \"blue\"}`).\n",
    "\n",
    "- **Dictionary** - `dict()` - A _dict_ is an unordered collection of key-value pairs (e.g., `my_dict = {\"name\": \"Alice\", \"age\": 25}`, where keys are identifiers similar to variable names in previous examples (\"name\" and \"age\"), and each key has an associated value (\"Alice\" and 25, respectively). The dictionary lets you label and quickly access values using a unique key. Dictionaries are perfect for storing structured data (like a user profile with a name, age, etc.)."
   ]
  },
  {
   "cell_type": "markdown",
   "metadata": {
    "id": "38DcYIXg7w7z"
   },
   "source": [
    "<div style=\"border-left: 5px solid goldenrod; padding: 10px; background-color: #fff8dc;\">\n",
    "  <strong>Note:</strong> In Python you <i>cannot</i> use <code>list</code>, <code>set</code>, <code>dict</code>, or <code>tuple</code> as variable names. These names are reserved for their respective functions.\n",
    "</div>\n"
   ]
  },
  {
   "cell_type": "markdown",
   "metadata": {
    "id": "4zH7Aras7w7z"
   },
   "source": [
    "<center><h3>Python Data Structures Summary</h3></center>\n",
    "\n",
    "| Structure   | Ordered | Mutable | Unique Items | Syntax Example               |\n",
    "|-------------|---------|---------|---------------|------------------------------|\n",
    "| List        | ✅       | ✅       | ❌             | `[\"a\", \"b\", \"c\"]`            |\n",
    "| Tuple       | ✅       | ❌       | ❌             | `(\"a\", \"b\", \"c\")`            |\n",
    "| Set         | ❌       | ✅       | ✅             | `{\"a\", \"b\", \"c\"}`            |\n",
    "| Dictionary  | ❌       | ✅       | ✅ (keys only) | `{\"key\": \"value\"}`           |"
   ]
  },
  {
   "cell_type": "markdown",
   "metadata": {
    "id": "LtzYoKAA7w7z"
   },
   "source": [
    "## Exploring Python Lists\n",
    "\n",
    "A **list** is an ordered collection of items that can be modified. You can access items by index, add new elements, and loop through them.\n",
    "\n",
    "Since items in a list are ordered, you can retrieve the individual elements using their _index_ (an item's order or position in the list). For a list with 10 elements, the indices are 0-9, where the first element is accessed with index `0` and the last element is accessed using index `9`. Alternatively, you can access the final item in a list using index `-1` (`-2` is the second to last, `-3` is the third to last, etc.).\n"
   ]
  },
  {
   "cell_type": "code",
   "execution_count": null,
   "metadata": {
    "id": "L984qCNT7w7z"
   },
   "outputs": [],
   "source": [
    "fruits = [\"apple\", \"banana\", \"cherry\"]  # create a list and assign it to a variable\n",
    "print(\"The first element in fruits: \", fruits[0])       # access the first element in the list (i.e. \"apple\")\n",
    "print(\"The last element in fruits: \", fruits[-1])      # access the last element in the list (i.e. \"cherry\")"
   ]
  },
  {
   "cell_type": "markdown",
   "metadata": {
    "id": "WHU42skk7w70"
   },
   "source": [
    "Since a `list` is a built-in data structure, it has a host of _methods_ you can use to access or change the list. Here are some of the commonly used methods:\n",
    "1. **`append(value)`** – Adds an item to the end of the list\n",
    "2. **`insert(index, value)`** – Inserts an item at a specific position\n",
    "3. **`remove(value)`** – Removes the first occurrence of a specified value"
   ]
  },
  {
   "cell_type": "code",
   "execution_count": null,
   "metadata": {
    "id": "pLRSWDrJ7w70"
   },
   "outputs": [],
   "source": [
    "fruits = [\"apple\", \"banana\", \"cherry\"]  # create a list and assign it to a variable\n",
    "fruits.append(\"kiwi\")  # add a new item to the end of the list\n",
    "print(fruits)"
   ]
  },
  {
   "cell_type": "code",
   "execution_count": null,
   "metadata": {
    "id": "jPx8yKdw7w70"
   },
   "outputs": [],
   "source": [
    "fruits.insert(0, \"watermelon\")  # add a new item at the beginning of the list\n",
    "print(fruits)"
   ]
  },
  {
   "cell_type": "code",
   "execution_count": null,
   "metadata": {
    "id": "FArjz8mS7w70"
   },
   "outputs": [],
   "source": [
    "fruits.remove(\"banana\")\n",
    "print(fruits)"
   ]
  },
  {
   "cell_type": "markdown",
   "metadata": {
    "id": "btzZigto7w70"
   },
   "source": [
    "<div style=\"background-color: #28a745; color: white; padding: 12px; border-radius: 5px;\">\n",
    "  <h2 style=\"margin: 0;\">Try it Yourself: Create and Modify a List</h2>\n",
    "</div>"
   ]
  },
  {
   "cell_type": "code",
   "execution_count": null,
   "metadata": {
    "id": "UAN7ZMx37w70"
   },
   "outputs": [],
   "source": [
    "# TODO: Create a list of your 3 favorite movies\n",
    "favorite_movies =\n",
    "# TODO: Add another movie to your list\n",
    "\n",
    "# TODO: Print the second movie in your list\n",
    "\n",
    "# TODO: Remove the first movie in your list\n",
    "\n",
    "# TODO: Insert \"Shrek\" at the beginning of the list\n",
    "\n",
    "# TODO: Print the first movie in your list using negative indices\n"
   ]
  },
  {
   "cell_type": "markdown",
   "metadata": {
    "id": "VXaV5AYq7w70"
   },
   "source": [
    "## Exploring Python Dictionaries\n",
    "\n",
    "A **dictionary** in Python is a powerful way to store and organize data using **key-value pairs**. Instead of accessing values with a numeric index (like in a list), you access them using **keys** that describe what the data represents.\n",
    "\n",
    "Dictionaries are great for representing structured data — for example, say you want to store related properties of an object, such as mass, velocity, charge, or position — all labeled clearly by name.\n",
    "\n",
    "_Keys_ are usually strings, whereas _values_ can be any data type (including other dictionaries or lists).\n",
    "\n",
    "Note that in the code, dictionaries use curly brackets, in contrast with lists, which use square brackets."
   ]
  },
  {
   "cell_type": "code",
   "execution_count": null,
   "metadata": {
    "id": "9yDeY4-e7w70"
   },
   "outputs": [],
   "source": [
    "particle = {\n",
    "    \"mass\": 9.11e-31,           # in kilograms\n",
    "    \"charge\": -1.6e-19,         # in coulombs\n",
    "    \"velocity\": [2.5e6, 0, 0],  # in meters/second\n",
    "    \"position\": [0, 0, 0]       # in meters (x, y, z)\n",
    "}\n",
    "\n",
    "print(\"particle Mass: \", particle[\"mass\"])     # Access the mass of the particle\n",
    "print(\"particle Position: \", particle[\"position\"]) # Access the position vector\n",
    "print(\"x component of particle velocity: \", particle[\"velocity\"][0])"
   ]
  },
  {
   "cell_type": "markdown",
   "metadata": {
    "id": "1Kg3hxuv7w70"
   },
   "source": [
    "\n",
    "\n",
    "\n",
    "\n",
    "Python dictionaries also have built-in methods that help you read and update data more safely and efficiently.\n",
    "\n",
    "Here are some commonly used dictionary methods:\n",
    "- `get(key)` – Returns the value for the given key (or `None` if the key doesn’t exist)\n",
    "- `update({key: value})` – Updates the value for an existing key or adds a new key-value pair\n",
    "- `pop(key)` – Removes a key from the dictionary and returns its value"
   ]
  },
  {
   "cell_type": "code",
   "execution_count": null,
   "metadata": {
    "id": "-De7ZlSS7w70"
   },
   "outputs": [],
   "source": [
    "print(particle.get(\"charge\"))  # Safer way to access values"
   ]
  },
  {
   "cell_type": "code",
   "execution_count": null,
   "metadata": {
    "id": "KDG-eGxi7w71"
   },
   "outputs": [],
   "source": [
    "particle.update({\"velocity\": [3.0e6, 0, 0]})    # Update the velocity\n",
    "print(particle)"
   ]
  },
  {
   "cell_type": "code",
   "execution_count": null,
   "metadata": {
    "id": "xM8V9Yn_7w71"
   },
   "outputs": [],
   "source": [
    "removed = particle.pop(\"position\")      # Remove the position key\n",
    "print(\"Removed position:\", removed)"
   ]
  },
  {
   "cell_type": "markdown",
   "metadata": {
    "id": "0q68NQri7w71"
   },
   "source": [
    "<div style=\"background-color: #28a745; color: white; padding: 12px; border-radius: 5px;\">\n",
    "  <h2 style=\"margin: 0;\">Try It Yourself: Celestial Object Dictionary</h2>\n",
    "</div>"
   ]
  },
  {
   "cell_type": "markdown",
   "metadata": {
    "id": "HabWlT-T7w71"
   },
   "source": [
    "Create a dictionary that stores information about a celestial object (e.g., a planet, star, or moon). Your dictionary should include at least the following keys:\n",
    "\n",
    "- `\"name\"` – the name of the object  \n",
    "- `\"type\"` – the category (e.g., planet, star, moon, asteroid)  \n",
    "- `\"mass\"` – in kilograms  \n",
    "- `\"radius\"` – in kilometers  \n",
    "- `\"distance_from_earth\"` – in kilometers\n",
    "\n",
    "#### Example Data\n",
    "- Name: Mars  \n",
    "- Type: Planet  \n",
    "- Mass: `6.39e23` kg  \n",
    "- Radius: `3389.5` km  \n",
    "- Distance from Earth: `225_000_000` km (on average)\n",
    "\n",
    "Then, try the following:\n",
    "\n",
    "1. Use `print()` or `get()` to access the `\"mass\"` of the object  \n",
    "2. Use `update()` to change the `\"distance_from_earth\"`  \n",
    "3. Use `pop()` to remove the `\"radius\"` key  \n",
    "4. Print the final dictionary to see the updated version"
   ]
  },
  {
   "cell_type": "code",
   "execution_count": null,
   "metadata": {
    "id": "1wVJkql07w71"
   },
   "outputs": [],
   "source": [
    "# TODO: Create a dictionary for a celestial object\n",
    "celestial_object = {\n",
    "    \"name\": ,\n",
    "    \"type\": ,\n",
    "    \"mass\": ,\n",
    "    \"radius\": ,\n",
    "    \"distance_from_earth\":\n",
    "}\n",
    "\n",
    "# TODO: Print the mass of the object\n",
    "print()\n",
    "\n",
    "# TODO: Update the distance from Earth\n",
    "celestial_object.update({\n",
    "    \"distance_from_earth\":\n",
    "})\n",
    "\n",
    "# TODO: Remove the radius key\n",
    "removed_radius = celestial_object.pop(\"radius\")\n",
    "\n",
    "# TODO: Print the updated dictionary\n",
    "print(celestial_object)"
   ]
  },
  {
   "cell_type": "markdown",
   "metadata": {
    "id": "txkEF1VK7w71"
   },
   "source": [
    "<div style=\"background-color: #007acc; color: white; padding: 12px; border-radius: 5px;\">\n",
    "  <h1 style=\"margin: 0;\">7. Challenge Problems</h1>\n",
    "</div>"
   ]
  },
  {
   "cell_type": "markdown",
   "metadata": {
    "id": "ZA6pZ-4_7w71"
   },
   "source": [
    "<div style=\"background-color: #28a745; color: white; padding: 12px; border-radius: 5px;\">\n",
    "  <h2 style=\"margin: 0;\">Problem 1: Unit Conversions</h2>\n",
    "</div>"
   ]
  },
  {
   "cell_type": "markdown",
   "metadata": {
    "id": "BHSeVDKI7w71"
   },
   "source": [
    "You are given a variable, `days`, representing some number of days on Earth.\n",
    "\n",
    "Calculate the following and store each result in a new variable:\n",
    "\n",
    "1. The number of weeks (1 week = 7 days)\n",
    "2. The number of hours (1 day = 24 hours)\n",
    "3. The number of minutes (1 hour = 60 minutes)\n",
    "4. The number of seconds (1 minute = 60 seconds)"
   ]
  },
  {
   "cell_type": "code",
   "execution_count": null,
   "metadata": {
    "id": "L2xATazO7w71"
   },
   "outputs": [],
   "source": [
    "days = 3847\n",
    "\n",
    "# TODO: convert `days` into the equivalent number of weeks\n",
    "number_of_weeks =\n",
    "\n",
    "# TODO: convert `days` into the equivalent number of hours\n",
    "number_of_hours =\n",
    "\n",
    "# TODO: convert `days` into the equivalent number of minutes\n",
    "# NOTE: you can use your variable `number_of_hours` to simplify the calculation\n",
    "number_of_minutes =\n",
    "\n",
    "# TODO: convert `days` into the equivalent number of seconds\n",
    "# NOTE: you can use your variable `number_of_minutes` to simplify the calculation\n",
    "number_of_seconds ="
   ]
  },
  {
   "cell_type": "code",
   "execution_count": null,
   "metadata": {
    "id": "onKxkCqJ7w71"
   },
   "outputs": [],
   "source": [
    "print(\"{} days is equivalent to {:.3f} weeks.\".format(days, number_of_weeks))\n",
    "print(\"{} days is equivalent to {} hours.\".format(days, number_of_hours))\n",
    "print(\"{} days is equivalent to {} minutes.\".format(days, number_of_minutes))\n",
    "print(\"{} days is equivalent to {} seconds.\".format(days, number_of_seconds))"
   ]
  },
  {
   "cell_type": "markdown",
   "metadata": {
    "id": "Zopatgbg7w72"
   },
   "source": [
    "<div style=\"background-color: #28a745; color: white; padding: 12px; border-radius: 5px;\">\n",
    "  <h2 style=\"margin: 0;\">Problem 2: Classification with Booleans</h2>\n",
    "</div>"
   ]
  },
  {
   "cell_type": "markdown",
   "metadata": {
    "id": "AMwUUOUu7w72"
   },
   "source": [
    "Given the temperature and pressure readings from a sensor:\n",
    "\n",
    "1. Create a variable called `temp_ok` that is `True` if the temperature is _between_ 15°C and 35°C (inclusive), and `False` otherwise.\n",
    "2. Create a variable called `pressure_ok` that is `True` if the pressure is _between_ 95 kPa and 105 kPa (inclusive), and `False` otherwise.\n",
    "3. Create a variable called `is_safe` that is `True` only if both `temp_ok` and `pressure_ok` are `True`.\n",
    "4. Print the value of `is_safe`."
   ]
  },
  {
   "cell_type": "code",
   "execution_count": null,
   "metadata": {
    "id": "rPpoNh0J7w72"
   },
   "outputs": [],
   "source": [
    "# sensor readings\n",
    "temperature = 30  # in Celsius\n",
    "pressure = 110    # in kilopascals (kPa)\n",
    "\n",
    "# TODO: Check if temperature is in the safe range (15 to 35 inclusive)\n",
    "temp_ok =\n",
    "\n",
    "# TODO: Check if pressure is in the safe range (95 to 105 inclusive)\n",
    "pressure_ok =\n",
    "\n",
    "# TODO: The system is safe only if both temperature and pressure are OK\n",
    "is_safe =\n",
    "\n",
    "# TODO: Print the result\n",
    "print(\"Temperature safe: \", temp_ok)\n",
    "print(\"Pressure safe: \", pressure_ok)\n",
    "print(\"Environment safe: \", is_safe)"
   ]
  },
  {
   "cell_type": "markdown",
   "metadata": {
    "id": "-05jnGTx7w72"
   },
   "source": [
    "<div style=\"background-color: #28a745; color: white; padding: 12px; border-radius: 5px;\">\n",
    "  <h2 style=\"margin: 0;\">Problem 3: Simulating a Solar System</h2>\n",
    "</div>"
   ]
  },
  {
   "cell_type": "markdown",
   "metadata": {
    "id": "AorLkXX57w72"
   },
   "source": [
    "You’re designing a simple simulation of our solar system. The solar system information will be stored as a **list** of celestial bodies, starting with the Sun and ending with Neptune, where each body will be represented by a **dictionary**.\n",
    "\n",
    "Each body should have the following properties:\n",
    "- `\"name\"` (str): The body’s name\n",
    "- `\"mass\"` (float): In kilograms\n",
    "- `\"distance_from_sun\"` (float): In meters\n",
    "- `\"is_planet\"` (bool): Whether the body is a planet\n",
    "- `\"has_rings\"` (bool): Whether the planet has rings\n",
    "- `\"moons\"` (list of str): The names of its moons\n",
    "\n",
    "### Your Tasks\n",
    "1. Add the planet/star dictionaries to a **list** called `solar_system`.\n",
    "2. Print the name of the _fifth_ planet’s **second moon**.\n",
    "3. Print the mass of the _last_ planet **only if it has rings**.\n",
    "4. Calculate the force of gravity between Saturn and Venus, assuming they are aligned in a straight line from the sun."
   ]
  },
  {
   "cell_type": "code",
   "execution_count": null,
   "metadata": {
    "id": "yMqTzvxu7w72"
   },
   "outputs": [],
   "source": [
    "sun = {\n",
    "    \"name\": \"Sun\",\n",
    "    \"mass\": 1.989e30,  # kilograms\n",
    "    \"distance_from_sun\": 0.0,  # meters\n",
    "    \"has_rings\": False,\n",
    "    \"moons\": []\n",
    "}\n",
    "\n",
    "mercury = {\n",
    "    \"name\": \"Mercury\",\n",
    "    \"mass\": 3.3011e23,\n",
    "    \"distance_from_sun\": 57.9e9,\n",
    "    \"has_rings\": False,\n",
    "    \"moons\": []\n",
    "}\n",
    "\n",
    "venus = {\n",
    "    \"name\": \"Venus\",\n",
    "    \"mass\": 4.8675e24,\n",
    "    \"distance_from_sun\": 108.2e9,\n",
    "    \"has_rings\": False,\n",
    "    \"moons\": []\n",
    "}\n",
    "\n",
    "earth = {\n",
    "    \"name\": \"Earth\",\n",
    "    \"mass\": 5.972e24,\n",
    "    \"distance_from_sun\": 149.6e9,\n",
    "    \"has_rings\": False,\n",
    "    \"moons\": [\"Moon\"]\n",
    "}\n",
    "\n",
    "mars = {\n",
    "    \"name\": \"Mars\",\n",
    "    \"mass\": 6.39e23,\n",
    "    \"distance_from_sun\": 227.9e9,\n",
    "    \"has_rings\": False,\n",
    "    \"moons\": [\"Phobos\", \"Deimos\"]\n",
    "}\n",
    "\n",
    "jupiter = {\n",
    "    \"name\": \"Jupiter\",\n",
    "    \"mass\": 1.898e27,\n",
    "    \"distance_from_sun\": 778.5e9,\n",
    "    \"has_rings\": True,\n",
    "    \"moons\": [\"Io\", \"Europa\", \"Ganymede\", \"Callisto\"]\n",
    "}\n",
    "\n",
    "saturn = {\n",
    "    \"name\": \"Saturn\",\n",
    "    \"mass\": 5.683e26,\n",
    "    \"distance_from_sun\": 1.429e12,\n",
    "    \"has_rings\": True,\n",
    "    \"moons\": [\"Titan\", \"Enceladus\"]\n",
    "}\n",
    "\n",
    "uranus = {\n",
    "    \"name\": \"Uranus\",\n",
    "    \"mass\": 8.681e25,\n",
    "    \"distance_from_sun\": 2.871e12,\n",
    "    \"has_rings\": True,\n",
    "    \"moons\": [\"Titania\", \"Oberon\"]\n",
    "}\n",
    "\n",
    "neptune = {\n",
    "    \"name\": \"Neptune\",\n",
    "    \"mass\": 1.024e26,\n",
    "    \"distance_from_sun\": 4.495e12,\n",
    "    \"has_rings\": True,\n",
    "    \"moons\": [\"Triton\"]\n",
    "}"
   ]
  },
  {
   "cell_type": "code",
   "execution_count": null,
   "metadata": {
    "id": "C2oa0F-B7w72"
   },
   "outputs": [],
   "source": [
    "# TODO: Add all celestial body dictionaries to a list\n",
    "solar_system =\n",
    "\n",
    "# TODO: Print the name of second moon of the fifth planet\n",
    "print()\n",
    "\n",
    "# TODO: If the last planet has rings, print its mass\n",
    "if solar_system[][]:\n",
    "    print()\n",
    "\n",
    "# TODO: Calculate the force of gravity between Saturn and Venus, assuming they are aligned in a straight line from the sun\n"
   ]
  }
 ],
 "metadata": {
  "colab": {
   "provenance": []
  },
  "kernelspec": {
   "display_name": "Python 3 (ipykernel)",
   "language": "python",
   "name": "python3"
  },
  "language_info": {
   "codemirror_mode": {
    "name": "ipython",
    "version": 3
   },
   "file_extension": ".py",
   "mimetype": "text/x-python",
   "name": "python",
   "nbconvert_exporter": "python",
   "pygments_lexer": "ipython3",
   "version": "3.9.21"
  }
 },
 "nbformat": 4,
 "nbformat_minor": 4
}
